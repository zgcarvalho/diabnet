{
 "cells": [
  {
   "cell_type": "code",
   "execution_count": 10,
   "id": "44d89b21",
   "metadata": {},
   "outputs": [],
   "source": [
    "import pandas as pd\n",
    "import torch \n",
    "import numpy as np\n",
    "from diabnet.ensemble import Ensemble\n",
    "from diabnet.data import encode_features, get_feature_names\n",
    "import matplotlib.pyplot as plt"
   ]
  },
  {
   "cell_type": "code",
   "execution_count": 85,
   "id": "3bc09c98",
   "metadata": {},
   "outputs": [],
   "source": [
    "ensemble = Ensemble('../results/models/positive/model-positive-11-adamw-lc3-2021-10-05')"
   ]
  },
  {
   "cell_type": "code",
   "execution_count": 86,
   "id": "dd3de7ee",
   "metadata": {},
   "outputs": [],
   "source": [
    "feature_names = get_feature_names(\"../data/datasets/visits_sp_unique_test_positivo_1000_random_0.csv\")"
   ]
  },
  {
   "cell_type": "code",
   "execution_count": 87,
   "id": "6586315f",
   "metadata": {},
   "outputs": [],
   "source": [
    "df = pd.read_csv(\"../data/datasets/maira/dnabr_hg19_t2d.csv\", index_col=0)\n",
    "df = df[feature_names]"
   ]
  },
  {
   "cell_type": "code",
   "execution_count": 88,
   "id": "b7b51e00",
   "metadata": {},
   "outputs": [],
   "source": [
    "df['AGE'] = 50\n",
    "df['sex'] = 'X'\n",
    "df['mo_t2d'] = 2\n",
    "df['fa_t2d'] = 2"
   ]
  },
  {
   "cell_type": "code",
   "execution_count": 89,
   "id": "8ae3b1fc",
   "metadata": {},
   "outputs": [],
   "source": [
    "# c = ['snp_6_78992097', 'snp_4_172986805', 'snp_20_32074430',\n",
    "#        'snp_1_156839022', 'snp_11_97227369', 'snp_8_37202618',\n",
    "#        'snp_7_78732800', 'snp_13_26574243']\n",
    "c = ['snp_6_165743115', 'snp_4_68837742', 'snp_6_165743113',\n",
    "       'snp_1_48212615', 'snp_16_86713635', 'snp_10_49864260',\n",
    "       'snp_1_10890345', 'snp_19_4278502', 'snp_10_15653812',\n",
    "       'snp_11_25435300', 'snp_1_48196380', 'snp_19_4243792',\n",
    "       'snp_19_4245811', 'snp_6_115237279', 'snp_2_236228364',\n",
    "       'snp_16_86714205', 'snp_6_157707337', 'snp_19_4242521',\n",
    "       'snp_2_236228365', 'snp_1_202135137', 'snp_5_137301920',\n",
    "       'snp_5_137332882', 'snp_6_31326613', 'snp_6_31326612',\n",
    "       'snp_7_152568711', 'snp_2_1148576', 'snp_11_26066615',\n",
    "       'snp_3_129437479', 'snp_3_129453798', 'snp_2_630555',\n",
    "       'snp_6_44264681', 'snp_15_35738419', 'snp_8_1879973',\n",
    "       'snp_6_78992097', 'snp_19_20472073', 'snp_4_172986805',\n",
    "       'snp_6_13149321', 'snp_1_28266957', 'snp_5_114737203',\n",
    "       'snp_11_48771041', 'snp_12_105480313', 'snp_20_32074430',\n",
    "       'snp_1_156839022', 'snp_11_97227369', 'snp_21_22610877',\n",
    "       'snp_8_37202618', 'snp_7_78732800', 'snp_13_26574243',\n",
    "       'snp_18_43457230', 'snp_21_33452974']\n",
    "for i in c:\n",
    "    df[i] = (df[i] - 2)*-1"
   ]
  },
  {
   "cell_type": "code",
   "execution_count": 90,
   "id": "a8d0f92b",
   "metadata": {},
   "outputs": [],
   "source": [
    "samples = torch.Tensor([encode_features(feature_names, v) for v in df.values])"
   ]
  },
  {
   "cell_type": "code",
   "execution_count": 91,
   "id": "cddbe318",
   "metadata": {},
   "outputs": [],
   "source": [
    "results = np.array([np.mean(ensemble.apply(torch.unsqueeze(s, 0))) for s in samples])"
   ]
  },
  {
   "cell_type": "code",
   "execution_count": 92,
   "id": "e9572046",
   "metadata": {
    "scrolled": true
   },
   "outputs": [
    {
     "data": {
      "text/plain": [
       "(array([ 90.,  46.,  70.,  50.,  73.,  57.,  78., 122., 181., 796.]),\n",
       " array([1.41786040e-05, 1.00012764e-01, 2.00011343e-01, 3.00009936e-01,\n",
       "        4.00008500e-01, 5.00007093e-01, 6.00005686e-01, 7.00004280e-01,\n",
       "        8.00002813e-01, 9.00001407e-01, 1.00000000e+00], dtype=float32),\n",
       " <BarContainer object of 10 artists>)"
      ]
     },
     "execution_count": 92,
     "metadata": {},
     "output_type": "execute_result"
    },
    {
     "data": {
      "image/png": "[encoded data removed]",
      "text/plain": [
       "<Figure size 432x288 with 1 Axes>"
      ]
     },
     "metadata": {
      "needs_background": "light"
     },
     "output_type": "display_data"
    }
   ],
   "source": [
    "plt.hist(results)"
   ]
  },
  {
   "cell_type": "code",
   "execution_count": 93,
   "id": "32ef47bd",
   "metadata": {},
   "outputs": [
    {
     "data": {
      "text/plain": [
       "0.7895073576455535"
      ]
     },
     "execution_count": 93,
     "metadata": {},
     "output_type": "execute_result"
    }
   ],
   "source": [
    "np.sum(results > .5)/len(results)"
   ]
  },
  {
   "cell_type": "code",
   "execution_count": 64,
   "id": "879c25fb",
   "metadata": {},
   "outputs": [
    {
     "data": {
      "text/plain": [
       "363"
      ]
     },
     "execution_count": 64,
     "metadata": {},
     "output_type": "execute_result"
    }
   ],
   "source": []
  },
  {
   "cell_type": "code",
   "execution_count": 16,
   "id": "d9cf5f2e",
   "metadata": {},
   "outputs": [
    {
     "data": {
      "text/plain": [
       "array([1.        , 1.        , 0.999995  , 1.        , 1.        ,\n",
       "       0.9999999 , 1.        , 1.        , 1.        , 0.9999982 ,\n",
       "       1.        , 1.        , 1.        , 1.        , 1.        ,\n",
       "       1.        , 0.9999988 , 1.        , 0.99999845, 1.        ,\n",
       "       1.        , 1.        , 0.9999968 , 1.        , 0.9999962 ,\n",
       "       1.        , 1.        , 1.        , 0.99999714, 1.        ,\n",
       "       0.9999976 , 1.        , 0.9999976 , 1.        , 1.        ,\n",
       "       1.        , 1.        , 0.99999714, 1.        , 0.9999999 ,\n",
       "       0.99999964, 1.        , 0.9999958 , 1.        , 1.        ,\n",
       "       0.99997663, 0.99999833, 1.        , 1.        , 0.99999166,\n",
       "       0.9999982 , 1.        , 0.9999964 , 1.        , 0.9999989 ,\n",
       "       1.        , 1.        , 0.86117786, 1.        , 0.9999999 ,\n",
       "       1.        , 1.        , 1.        , 0.9999988 , 1.        ,\n",
       "       0.9999906 , 1.        , 1.        , 1.        , 1.        ,\n",
       "       1.        , 1.        , 0.9999962 , 1.        , 1.        ,\n",
       "       1.        , 1.        , 1.        , 1.        , 1.        ,\n",
       "       1.        , 1.        , 0.999997  , 1.        , 1.        ,\n",
       "       0.9999939 , 1.        , 1.        , 0.99999976, 0.999979  ,\n",
       "       1.        , 1.        , 1.        , 1.        , 1.        ,\n",
       "       1.        , 1.        , 1.        , 0.99998415, 0.9999999 ],\n",
       "      dtype=float32)"
      ]
     },
     "execution_count": 16,
     "metadata": {},
     "output_type": "execute_result"
    }
   ],
   "source": [
    "ensemble.apply(samples)"
   ]
  },
  {
   "cell_type": "code",
   "execution_count": 9,
   "id": "6df511a1",
   "metadata": {},
   "outputs": [
    {
     "data": {
      "text/plain": [
       "tensor([[[2., 2., 1.,  ..., 0., 0., 2.],\n",
       "         [0., 0., 1.,  ..., 0., 0., 0.]],\n",
       "\n",
       "        [[2., 2., 2.,  ..., 0., 0., 2.],\n",
       "         [0., 0., 0.,  ..., 0., 0., 0.]],\n",
       "\n",
       "        [[2., 2., 2.,  ..., 0., 0., 2.],\n",
       "         [0., 0., 0.,  ..., 0., 0., 0.]],\n",
       "\n",
       "        ...,\n",
       "\n",
       "        [[2., 2., 1.,  ..., 0., 0., 2.],\n",
       "         [0., 0., 1.,  ..., 0., 0., 0.]],\n",
       "\n",
       "        [[2., 2., 2.,  ..., 0., 0., 2.],\n",
       "         [0., 0., 0.,  ..., 0., 0., 0.]],\n",
       "\n",
       "        [[2., 2., 2.,  ..., 0., 0., 2.],\n",
       "         [0., 0., 0.,  ..., 0., 0., 0.]]])"
      ]
     },
     "execution_count": 9,
     "metadata": {},
     "output_type": "execute_result"
    }
   ],
   "source": [
    "samples"
   ]
  },
  {
   "cell_type": "code",
   "execution_count": null,
   "id": "839fc756",
   "metadata": {},
   "outputs": [],
   "source": []
  }
 ],
 "metadata": {
  "kernelspec": {
   "display_name": "Python 3 (ipykernel)",
   "language": "python",
   "name": "python3"
  },
  "language_info": {
   "codemirror_mode": {
    "name": "ipython",
    "version": 3
   },
   "file_extension": ".py",
   "mimetype": "text/x-python",
   "name": "python",
   "nbconvert_exporter": "python",
   "pygments_lexer": "ipython3",
   "version": "3.9.7"
  }
 },
 "nbformat": 4,
 "nbformat_minor": 5
}
