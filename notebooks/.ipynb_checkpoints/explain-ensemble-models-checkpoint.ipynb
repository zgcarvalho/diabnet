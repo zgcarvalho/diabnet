{
 "cells": [
  {
   "cell_type": "code",
   "execution_count": 1,
   "metadata": {},
   "outputs": [],
   "source": [
    "%load_ext autoreload\n",
    "%autoreload 2\n",
    "%matplotlib inline"
   ]
  },
  {
   "cell_type": "code",
   "execution_count": 2,
   "metadata": {},
   "outputs": [
    {
     "ename": "ModuleNotFoundError",
     "evalue": "No module named 'captum'",
     "output_type": "error",
     "traceback": [
      "\u001b[0;31m---------------------------------------------------------------------------\u001b[0m",
      "\u001b[0;31mModuleNotFoundError\u001b[0m                       Traceback (most recent call last)",
      "\u001b[0;32m<ipython-input-2-6c4d37534877>\u001b[0m in \u001b[0;36m<module>\u001b[0;34m\u001b[0m\n\u001b[0;32m----> 1\u001b[0;31m \u001b[0;32mimport\u001b[0m \u001b[0mexplain_ensemble\u001b[0m\u001b[0;34m\u001b[0m\u001b[0;34m\u001b[0m\u001b[0m\n\u001b[0m\u001b[1;32m      2\u001b[0m \u001b[0;31m# from diabnet.model import load\u001b[0m\u001b[0;34m\u001b[0m\u001b[0;34m\u001b[0m\u001b[0;34m\u001b[0m\u001b[0m\n\u001b[1;32m      3\u001b[0m \u001b[0;32mfrom\u001b[0m \u001b[0mdiabnet\u001b[0m\u001b[0;34m.\u001b[0m\u001b[0mdata\u001b[0m \u001b[0;32mimport\u001b[0m \u001b[0mget_feature_names\u001b[0m\u001b[0;34m\u001b[0m\u001b[0;34m\u001b[0m\u001b[0m\n\u001b[1;32m      4\u001b[0m \u001b[0;32mfrom\u001b[0m \u001b[0mdiabnet\u001b[0m\u001b[0;34m.\u001b[0m\u001b[0mensemble\u001b[0m \u001b[0;32mimport\u001b[0m \u001b[0mEnsemble\u001b[0m\u001b[0;34m\u001b[0m\u001b[0;34m\u001b[0m\u001b[0m\n\u001b[1;32m      5\u001b[0m \u001b[0;32mimport\u001b[0m \u001b[0mmatplotlib\u001b[0m\u001b[0;34m.\u001b[0m\u001b[0mpyplot\u001b[0m \u001b[0;32mas\u001b[0m \u001b[0mplt\u001b[0m\u001b[0;34m\u001b[0m\u001b[0;34m\u001b[0m\u001b[0m\n",
      "\u001b[0;32m~/projects/diabnet/notebooks/explain_ensemble.py\u001b[0m in \u001b[0;36m<module>\u001b[0;34m\u001b[0m\n\u001b[1;32m      2\u001b[0m \u001b[0;32mimport\u001b[0m \u001b[0mpandas\u001b[0m \u001b[0;32mas\u001b[0m \u001b[0mpd\u001b[0m\u001b[0;34m\u001b[0m\u001b[0;34m\u001b[0m\u001b[0m\n\u001b[1;32m      3\u001b[0m \u001b[0;32mimport\u001b[0m \u001b[0mnumpy\u001b[0m \u001b[0;32mas\u001b[0m \u001b[0mnp\u001b[0m\u001b[0;34m\u001b[0m\u001b[0;34m\u001b[0m\u001b[0m\n\u001b[0;32m----> 4\u001b[0;31m \u001b[0;32mfrom\u001b[0m \u001b[0mcaptum\u001b[0m\u001b[0;34m.\u001b[0m\u001b[0mattr\u001b[0m \u001b[0;32mimport\u001b[0m \u001b[0mIntegratedGradients\u001b[0m\u001b[0;34m\u001b[0m\u001b[0;34m\u001b[0m\u001b[0m\n\u001b[0m\u001b[1;32m      5\u001b[0m \u001b[0;32mimport\u001b[0m \u001b[0mmatplotlib\u001b[0m\u001b[0;34m.\u001b[0m\u001b[0mpyplot\u001b[0m \u001b[0;32mas\u001b[0m \u001b[0mplt\u001b[0m\u001b[0;34m\u001b[0m\u001b[0;34m\u001b[0m\u001b[0m\n\u001b[1;32m      6\u001b[0m \u001b[0;32mimport\u001b[0m \u001b[0msys\u001b[0m\u001b[0;34m\u001b[0m\u001b[0;34m\u001b[0m\u001b[0m\n",
      "\u001b[0;31mModuleNotFoundError\u001b[0m: No module named 'captum'"
     ]
    }
   ],
   "source": [
    "import explain_ensemble\n",
    "# from diabnet.model import load\n",
    "from diabnet.data import get_feature_names\n",
    "from diabnet.ensemble import Ensemble\n",
    "import matplotlib.pyplot as plt\n",
    "import seaborn as sns\n",
    "from collections import Counter\n",
    "import numpy as np\n",
    "import pandas as pd\n",
    "from pandas.plotting import parallel_coordinates"
   ]
  },
  {
   "cell_type": "code",
   "execution_count": null,
   "metadata": {},
   "outputs": [],
   "source": [
    "colors = sns.color_palette(\"colorblind\")\n",
    "sns.palplot(colors)\n",
    "sns.set_style(\"whitegrid\")\n",
    "sns.set_style(\"ticks\",{'axes.grid': True,'grid.color': '.95', 'grid.linestyle': '-'})"
   ]
  },
  {
   "cell_type": "code",
   "execution_count": null,
   "metadata": {},
   "outputs": [],
   "source": [
    "ensemble = Ensemble('../diabnet/models/model-17-soft-label-age-positives-500-dropout0-bn-decay-flood-hyperopt-ax-batch256-adamw-lc2-2020-11-26')"
   ]
  },
  {
   "cell_type": "code",
   "execution_count": null,
   "metadata": {},
   "outputs": [],
   "source": [
    "# feature names\n",
    "feat_names = get_feature_names(\"../datasets/visits_sp_unique_test_positivo_1000_random_0.csv\", BMI=False, sex=True, parents_diagnostics=True)"
   ]
  },
  {
   "cell_type": "code",
   "execution_count": null,
   "metadata": {},
   "outputs": [],
   "source": [
    "feat_names[-20:]"
   ]
  },
  {
   "cell_type": "code",
   "execution_count": null,
   "metadata": {},
   "outputs": [],
   "source": [
    "# predictor = load('../diabnet/models/model-sp-soft-label-positives-1000-decay2.pth')\n",
    "# feat_names = get_feature_names(\"../datasets/visits_sp_unique_test_positivo_1000_random_0.csv\", BMI=False, sex=True, parents_diagnostics=True)"
   ]
  },
  {
   "cell_type": "code",
   "execution_count": null,
   "metadata": {},
   "outputs": [],
   "source": [
    "e_train = explain_ensemble.ExplainModel(ensemble, feat_names, \"../datasets/visits_sp_unique_train_positivo_1000_random_0.csv\")"
   ]
  },
  {
   "cell_type": "code",
   "execution_count": null,
   "metadata": {},
   "outputs": [],
   "source": [
    "e_test = explain_ensemble.ExplainModel(ensemble, feat_names, \"../datasets/visits_sp_unique_test_positivo_1000_random_0.csv\")"
   ]
  },
  {
   "cell_type": "code",
   "execution_count": null,
   "metadata": {},
   "outputs": [],
   "source": [
    "def feat_importance(values, age, sex, samples_per_model=1):\n",
    "    imp = values.calc_attr(age, sex, samples_per_model=samples_per_model)\n",
    "    # testa se o SNP tem valores 1 ou 2. caso não tenha, sua importancia não pode ser calculada\n",
    "    s = {k: [np.mean(imp[k]), np.median(imp[k])] for k in imp if len(imp[k]) > 0} \n",
    "    df = pd.DataFrame.from_dict(s, orient='index')\n",
    "    df.rename(columns={0:f'{sex}{age}_mean', 1:f'{sex}{age}_median'}, inplace=True)\n",
    "    # df.sort_values(by=0, ascending=False).head(50)\n",
    "    return df\n",
    "    "
   ]
  },
  {
   "cell_type": "markdown",
   "metadata": {},
   "source": [
    "# Feature Importance"
   ]
  },
  {
   "cell_type": "markdown",
   "metadata": {},
   "source": [
    "Qual a importância dos SNPs independentemente de outras características (sexo, diagnóstico dos pais, idade*).\n",
    "*Para torna independente da idade fixamos a idade em 50."
   ]
  },
  {
   "cell_type": "code",
   "execution_count": null,
   "metadata": {},
   "outputs": [],
   "source": [
    "age = 50\n",
    "sex = 'X' # 'X' significa qualquer sexo"
   ]
  },
  {
   "cell_type": "markdown",
   "metadata": {},
   "source": [
    "Não há um consenso se a análise de importância das características (feature importance) deve ser feita com os dados de teste ou treinamento. Nós testamos os dois..."
   ]
  },
  {
   "cell_type": "code",
   "execution_count": null,
   "metadata": {},
   "outputs": [],
   "source": [
    "feat_imp_train = feat_importance(e_train, 50, 'X', samples_per_model=1)"
   ]
  },
  {
   "cell_type": "code",
   "execution_count": null,
   "metadata": {},
   "outputs": [],
   "source": [
    "feat_imp_test = feat_importance(e_test, 50, 'X', samples_per_model=1)"
   ]
  },
  {
   "cell_type": "markdown",
   "metadata": {},
   "source": [
    "No entanto, no conjunto de teste 44 dos 1000 SNPs não possuem o gene base do alelo recessivo (valores 1 ou 2) e consequentemente, não conseguimos atribuir um valor de importância. E como notamos pelo boxplot abaixo, boa parte deles podem ser importantes."
   ]
  },
  {
   "cell_type": "code",
   "execution_count": null,
   "metadata": {},
   "outputs": [],
   "source": [
    "excluded = feat_imp_train[feat_imp_train.index.isin(feat_imp_test.index) == False]\n",
    "print(f\"{excluded.count()[0]} SNPs não tem valores no conjunto de teste\")\n",
    "sns.boxplot(y=\"X50_mean\", data=excluded)"
   ]
  },
  {
   "cell_type": "code",
   "execution_count": null,
   "metadata": {},
   "outputs": [],
   "source": [
    "tmp = feat_imp_train.join(feat_imp_test, how='inner', lsuffix='_train', rsuffix='_test')\n",
    "tmp['SNP'] = tmp.index\n",
    "# parallel_coordinates(tmp, '1_M50', cols='M50_mean','F50_mean'])\n",
    "tmp = tmp.sort_values(by=\"X50_mean_train\")\n",
    "tmp # apenas 956 pq 44 dos SNPs não tem valores 1 ou 2 no conjunto de teste "
   ]
  },
  {
   "cell_type": "markdown",
   "metadata": {},
   "source": [
    "Comparando a média e a mediana da importância calculada para os conjuntos de treinamento e teste podemos ver que há uma correlação significativa (como esperado). Logo, optaremos por realizar as análises subsequentes apenas com a importância calculada no conjunto de treinamento."
   ]
  },
  {
   "cell_type": "code",
   "execution_count": null,
   "metadata": {},
   "outputs": [],
   "source": [
    "plt.figure(figsize=(12,6));\n",
    "plt.subplot(121);\n",
    "# plt.scatter(tmp.X50_mean_train.values, tmp.X50_mean_test.values);\n",
    "sns.scatterplot(x=\"X50_mean_train\", y=\"X50_mean_test\", data=tmp)\n",
    "plt.ylim(-0.2,0.35)\n",
    "plt.xlim(-0.2,0.35)\n",
    "plt.subplot(122);\n",
    "# plt.scatter(tmp.X50_median_train.values, tmp.X50_median_test.values);\n",
    "sns.scatterplot(x=\"X50_median_train\", y=\"X50_median_test\", data=tmp)\n",
    "plt.ylim(-0.2,0.35)\n",
    "plt.xlim(-0.2,0.35)\n",
    "plt.figure(figsize=(12,4));\n",
    "tmp.boxplot();"
   ]
  },
  {
   "cell_type": "code",
   "execution_count": null,
   "metadata": {},
   "outputs": [],
   "source": [
    "sns.boxplot(y=\"X50_mean\", data=feat_imp_train)"
   ]
  },
  {
   "cell_type": "code",
   "execution_count": null,
   "metadata": {},
   "outputs": [],
   "source": [
    "feat_imp_train.describe()"
   ]
  },
  {
   "cell_type": "code",
   "execution_count": null,
   "metadata": {},
   "outputs": [],
   "source": [
    "feat_imp_train[\"chr\"] = [int(s.split('_')[1]) for s in feat_imp_train.index]\n",
    "feat_imp_train[\"pos\"] = [float(s.split('_')[2]) for s in feat_imp_train.index]\n",
    "feat_imp_train"
   ]
  },
  {
   "cell_type": "markdown",
   "metadata": {},
   "source": [
    "O gráfico da atribuição dos SNPs separado por cromossomo (abaixo) mostra que os chr 1 e 3 "
   ]
  },
  {
   "cell_type": "code",
   "execution_count": null,
   "metadata": {},
   "outputs": [],
   "source": [
    "fig = plt.figure(figsize=(12,8), dpi=100)\n",
    "plt.subplot(211)\n",
    "sns.stripplot(x=\"chr\", y=\"X50_mean\", data=feat_imp_train, jitter=0.15)\n",
    "plt.subplot(212)\n",
    "sns.violinplot(x=\"chr\", y=\"X50_mean\", data=feat_imp_train, whis=np.inf)"
   ]
  },
  {
   "cell_type": "code",
   "execution_count": null,
   "metadata": {},
   "outputs": [],
   "source": [
    "fig = plt.figure(figsize=(12,12), dpi=100)\n",
    "plt.subplots_adjust(hspace=0.7, wspace=0.25)\n",
    "for i in range(22):\n",
    "    ax1=plt.subplot(8, 3, i+1)\n",
    "    plt.title(f\"chr: {i+1}\")\n",
    "    sns.scatterplot(x='pos', y=\"X50_mean\", data=feat_imp_train[feat_imp_train[\"chr\"]==i+1], hue=\"X50_mean\", hue_norm=(-0.3,0.3), palette=\"RdBu_r\", edgecolor=\"k\")\n",
    "    ax1.get_legend().remove()\n",
    "    plt.ylim(-0.2,0.2)\n",
    "    plt.ylabel(\"\")\n",
    "    plt.xlabel(\"\")\n"
   ]
  },
  {
   "cell_type": "code",
   "execution_count": null,
   "metadata": {},
   "outputs": [],
   "source": [
    "selection = feat_imp_train[abs(feat_imp_train['X50_mean'])> 0.05]"
   ]
  },
  {
   "cell_type": "code",
   "execution_count": null,
   "metadata": {},
   "outputs": [],
   "source": [
    "# selection.sort_values(by='X50_mean').to_csv(\"feature_importance.csv\")"
   ]
  },
  {
   "cell_type": "code",
   "execution_count": null,
   "metadata": {},
   "outputs": [],
   "source": [
    "selection.sort_values(by='X50_mean', ascending=False)"
   ]
  },
  {
   "cell_type": "code",
   "execution_count": null,
   "metadata": {},
   "outputs": [],
   "source": [
    "fig = plt.figure(figsize=(12,8))\n",
    "plt.subplot(211)\n",
    "# sns.stripplot(x=\"chr\", y=\"X50_mean\", data=selection, jitter=0.15)\n",
    "sns.swarmplot(x=\"chr\", y=\"X50_mean\", data=selection)\n",
    "plt.subplot(212)\n",
    "# sns.barplot(x=\"chr\", y=\"X50_mean\", data=selection)\n",
    "sns.countplot(x=\"chr\", data=selection)"
   ]
  },
  {
   "cell_type": "markdown",
   "metadata": {},
   "source": [
    "## Análise por sexo"
   ]
  },
  {
   "cell_type": "code",
   "execution_count": null,
   "metadata": {},
   "outputs": [],
   "source": [
    "# feature importance - M x F\n",
    "# age: 50, set: test"
   ]
  },
  {
   "cell_type": "code",
   "execution_count": null,
   "metadata": {},
   "outputs": [],
   "source": [
    "feat_imp_M50 = feat_importance(e_train, 50, 'M', samples_per_model=1)\n",
    "feat_imp_F50 = feat_importance(e_train, 50, 'F', samples_per_model=1)"
   ]
  },
  {
   "cell_type": "code",
   "execution_count": null,
   "metadata": {},
   "outputs": [],
   "source": [
    "tmp = feat_imp_M50.join(feat_imp_F50, how='inner')\n",
    "tmp"
   ]
  },
  {
   "cell_type": "code",
   "execution_count": null,
   "metadata": {},
   "outputs": [],
   "source": [
    "# tmp.sort_values(by=\"M50_mean\").to_csv(\"feature_importance_sex.csv\")"
   ]
  },
  {
   "cell_type": "code",
   "execution_count": null,
   "metadata": {},
   "outputs": [],
   "source": [
    "fig = plt.figure(figsize=(6,6))\n",
    "sns.scatterplot(x=\"M50_mean\", y=\"F50_mean\", data=tmp)\n",
    "plt.ylim(-0.2,0.35)\n",
    "plt.xlim(-0.2,0.35)"
   ]
  },
  {
   "cell_type": "code",
   "execution_count": null,
   "metadata": {},
   "outputs": [],
   "source": []
  },
  {
   "cell_type": "code",
   "execution_count": null,
   "metadata": {},
   "outputs": [],
   "source": [
    "fig = plt.figure(figsize=(6,6))\n",
    "sns.scatterplot(x=\"M50_median\", y=\"F50_median\", data=tmp)\n",
    "plt.ylim(-0.2,0.35)\n",
    "plt.xlim(-0.2,0.35)"
   ]
  },
  {
   "cell_type": "code",
   "execution_count": null,
   "metadata": {},
   "outputs": [],
   "source": [
    "tmp.sort_values(by=\"F50_mean\").tail(20)"
   ]
  },
  {
   "cell_type": "code",
   "execution_count": null,
   "metadata": {},
   "outputs": [],
   "source": [
    "tmp = feat_imp_M50.join(feat_imp_F50, how='inner')\n",
    "tmp = tmp[abs((tmp['M50_mean']+tmp['F50_mean']))/2 > 0.05]\n",
    "tmp['SNP'] = tmp.index\n",
    "# parallel_coordinates(tmp, '1_M50', cols='M50_mean','F50_mean'])\n",
    "tmp.sort_values(by=\"M50_mean\")"
   ]
  },
  {
   "cell_type": "code",
   "execution_count": null,
   "metadata": {},
   "outputs": [],
   "source": [
    "fig = plt.figure(dpi=100)\n",
    "parallel_coordinates(tmp, 'SNP', cols=['M50_mean', 'F50_mean'] ).legend().remove() "
   ]
  },
  {
   "cell_type": "code",
   "execution_count": null,
   "metadata": {},
   "outputs": [],
   "source": []
  },
  {
   "cell_type": "code",
   "execution_count": null,
   "metadata": {},
   "outputs": [],
   "source": [
    "# feature importance - lifelong variability"
   ]
  },
  {
   "cell_type": "code",
   "execution_count": null,
   "metadata": {},
   "outputs": [],
   "source": [
    "feat_imp_by_age = feat_importance(e_test, 20, 'X', samples_per_model=1) \n",
    "for age in range(30, 90, 10):\n",
    "    feat_imp_by_age = feat_imp_by_age.join(feat_importance(e_test, age, 'X', samples_per_model=1),how='inner')"
   ]
  },
  {
   "cell_type": "code",
   "execution_count": null,
   "metadata": {},
   "outputs": [],
   "source": [
    "tmp = feat_imp_by_age[abs(feat_imp_by_age['X80_mean']) > 0.04]\n",
    "tmp['SNP'] = tmp.index\n",
    "fig = plt.figure(dpi=100)\n",
    "parallel_coordinates(tmp, 'SNP', cols=[i for i in feat_imp_by_age.columns if 'median' in i]).legend().remove() "
   ]
  },
  {
   "cell_type": "code",
   "execution_count": null,
   "metadata": {},
   "outputs": [],
   "source": []
  },
  {
   "cell_type": "code",
   "execution_count": null,
   "metadata": {},
   "outputs": [],
   "source": [
    "tmp = feat_imp_M50.join(feat_imp_F50, how='inner')\n",
    "tmp = tmp[abs((tmp['M50_mean']+tmp['F50_mean']))/2 > 0.04]\n",
    "tmp['SNP'] = tmp.index\n",
    "# parallel_coordinates(tmp, '1_M50', cols='M50_mean','F50_mean'])\n",
    "tmp.sort_values(by=\"M50_mean\")"
   ]
  },
  {
   "cell_type": "code",
   "execution_count": null,
   "metadata": {},
   "outputs": [],
   "source": [
    "fig = plt.figure(dpi=100)\n",
    "parallel_coordinates(tmp, 'SNP', cols=['M50_mean', 'F50_mean'])"
   ]
  },
  {
   "cell_type": "code",
   "execution_count": null,
   "metadata": {},
   "outputs": [],
   "source": [
    "feat_imp_by_age = feat_importance(e_test, 20, 'X', samples_per_model=1) \n",
    "for age in range(30, 90, 10):\n",
    "    feat_imp_by_age = feat_imp_by_age.join(feat_importance(e_test, age, 'X', samples_per_model=1),how='inner')\n",
    "    "
   ]
  },
  {
   "cell_type": "code",
   "execution_count": null,
   "metadata": {},
   "outputs": [],
   "source": [
    "[i for i in feat_imp_by_age.columns if 'mean' in i]"
   ]
  },
  {
   "cell_type": "code",
   "execution_count": null,
   "metadata": {},
   "outputs": [],
   "source": [
    "tmp = feat_imp_by_age[abs(feat_imp_by_age['X80_mean']) > 0.04]\n",
    "tmp['SNP'] = tmp.index\n",
    "parallel_coordinates(tmp, 'SNP', cols=[i for i in feat_imp_by_age.columns if 'mean' in i])"
   ]
  },
  {
   "cell_type": "code",
   "execution_count": null,
   "metadata": {},
   "outputs": [],
   "source": [
    "feat_imp_by_age[['X90_mean']].boxplot()"
   ]
  },
  {
   "cell_type": "code",
   "execution_count": null,
   "metadata": {},
   "outputs": [],
   "source": [
    "feat_imp_M50.sort_values(by=0, ascending=False).head(50)"
   ]
  },
  {
   "cell_type": "code",
   "execution_count": null,
   "metadata": {},
   "outputs": [],
   "source": [
    "imp = e_test.calc_attr(20, 'X', samples_per_model=1)"
   ]
  },
  {
   "cell_type": "code",
   "execution_count": null,
   "metadata": {},
   "outputs": [],
   "source": []
  },
  {
   "cell_type": "code",
   "execution_count": null,
   "metadata": {},
   "outputs": [],
   "source": [
    "s"
   ]
  },
  {
   "cell_type": "code",
   "execution_count": null,
   "metadata": {},
   "outputs": [],
   "source": [
    "\n"
   ]
  },
  {
   "cell_type": "code",
   "execution_count": null,
   "metadata": {},
   "outputs": [],
   "source": [
    "dfnew.sort_values(by=0, ascending=True).head(50)"
   ]
  },
  {
   "cell_type": "code",
   "execution_count": null,
   "metadata": {},
   "outputs": [],
   "source": [
    "import pandas as pd\n",
    "dfnew = pd.DataFrame.from_dict(s, orient='index')\n",
    "dfnew.sort_values(by=0, ascending=False).head(50)"
   ]
  },
  {
   "cell_type": "code",
   "execution_count": null,
   "metadata": {},
   "outputs": [],
   "source": [
    "import pandas as pd\n",
    "dfnew = pd.DataFrame.from_dict(s, orient='index')\n",
    "dfnew.sort_values(by=0, ascending=False).head(50)"
   ]
  },
  {
   "cell_type": "code",
   "execution_count": null,
   "metadata": {},
   "outputs": [],
   "source": [
    "import pandas as pd\n",
    "df = pd.DataFrame.from_dict(s, orient='index')"
   ]
  },
  {
   "cell_type": "code",
   "execution_count": null,
   "metadata": {},
   "outputs": [],
   "source": [
    "df.sort_values(by=0, ascending=True).head(50)"
   ]
  },
  {
   "cell_type": "code",
   "execution_count": null,
   "metadata": {},
   "outputs": [],
   "source": [
    "df.sort_values(by=0, ascending=True).head(50)"
   ]
  },
  {
   "cell_type": "code",
   "execution_count": null,
   "metadata": {},
   "outputs": [],
   "source": [
    "import numpy as np\n",
    "np.mean(df.values, axis=0)"
   ]
  },
  {
   "cell_type": "code",
   "execution_count": null,
   "metadata": {},
   "outputs": [],
   "source": [
    "df_20_X = e_train.attr_snps_mean(attrs, mask).rename(columns={0: \"age=20,sex=X\"})"
   ]
  },
  {
   "cell_type": "code",
   "execution_count": null,
   "metadata": {},
   "outputs": [],
   "source": [
    "df_20_X.sort_values(by=\"age=20,sex=X\", ascending=False).head(50)"
   ]
  },
  {
   "cell_type": "code",
   "execution_count": null,
   "metadata": {},
   "outputs": [],
   "source": [
    "attr, mask = e_train.calc_attr(20, 'X', samples=1)\n",
    "df_20_X = e_train.attr_snps_mean(attr, mask).rename(columns={0: \"age=20,sex=X\"})\n",
    "attr, mask = e_train.calc_attr(20, 'M', samples=1)\n",
    "df_20_M = e_train.attr_snps_mean(attr, mask).rename(columns={0: \"age=20,sex=M\"})\n",
    "attr, mask = e_train.calc_attr(20, 'F', samples=1)\n",
    "df_20_F = e_train.attr_snps_mean(attr, mask).rename(columns={0: \"age=20,sex=F\"})"
   ]
  },
  {
   "cell_type": "code",
   "execution_count": null,
   "metadata": {},
   "outputs": [],
   "source": [
    "df_decay2 = df_20_X.sort_values(by=\"age=20,sex=X\", ascending=False)\n",
    "df_decay2.head(20)"
   ]
  },
  {
   "cell_type": "code",
   "execution_count": null,
   "metadata": {},
   "outputs": [],
   "source": [
    "df_decay1 = df_20_X.sort_values(by=\"age=20,sex=X\", ascending=False)\n",
    "df_decay1.head(20)"
   ]
  },
  {
   "cell_type": "code",
   "execution_count": null,
   "metadata": {},
   "outputs": [],
   "source": [
    "df_train[df_train.index=='snp_4_172986805']"
   ]
  },
  {
   "cell_type": "code",
   "execution_count": null,
   "metadata": {},
   "outputs": [],
   "source": [
    "attr, mask = e_train.calc_attr(50, 'X', samples=1)\n",
    "df_50_X = e_train.attr_snps_mean(attr, mask).rename(columns={0: \"age=50,sex=X\"})\n",
    "attr, mask = e_train.calc_attr(50, 'M', samples=1)\n",
    "df_50_M = e_train.attr_snps_mean(attr, mask).rename(columns={0: \"age=50,sex=M\"})\n",
    "attr, mask = e_train.calc_attr(50, 'F', samples=1)\n",
    "df_50_F = e_train.attr_snps_mean(attr, mask).rename(columns={0: \"age=50,sex=F\"})"
   ]
  },
  {
   "cell_type": "code",
   "execution_count": null,
   "metadata": {},
   "outputs": [],
   "source": [
    "df_train = df_20_X.join([df_20_F,df_20_M,df_50_X,df_50_F,df_50_M])"
   ]
  },
  {
   "cell_type": "code",
   "execution_count": null,
   "metadata": {},
   "outputs": [],
   "source": [
    "df_train.sort_values(by=\"age=20,sex=X\", ascending=False).head(50)"
   ]
  },
  {
   "cell_type": "code",
   "execution_count": null,
   "metadata": {},
   "outputs": [],
   "source": [
    "df_train.sort_values(by=\"age=50,sex=X\", ascending=False).tail(50)"
   ]
  },
  {
   "cell_type": "code",
   "execution_count": null,
   "metadata": {},
   "outputs": [],
   "source": [
    "plt.boxplot(df_20_X.values)"
   ]
  },
  {
   "cell_type": "code",
   "execution_count": null,
   "metadata": {},
   "outputs": [],
   "source": [
    "attr, mask = e_test.calc_attr(20, 'X', samples=1)\n",
    "df_20_X_test = e_test.attr_snps_mean(attr, mask).rename(columns={0: \"age=20,sex=X\"})\n",
    "attr, mask = e_test.calc_attr(20, 'M', samples=1)\n",
    "df_20_M_test = e_test.attr_snps_mean(attr, mask).rename(columns={0: \"age=20,sex=M\"})\n",
    "attr, mask = e_test.calc_attr(20, 'F', samples=1)\n",
    "df_20_F_test = e_test.attr_snps_mean(attr, mask).rename(columns={0: \"age=20,sex=F\"})"
   ]
  },
  {
   "cell_type": "code",
   "execution_count": null,
   "metadata": {},
   "outputs": [],
   "source": [
    "attr, mask = e_test.calc_attr(50, 'X', samples=1)\n",
    "df_50_X_test = e_test.attr_snps_mean(attr, mask).rename(columns={0: \"age=50,sex=X\"})\n",
    "attr, mask = e_test.calc_attr(50, 'M', samples=1)\n",
    "df_50_M_test = e_test.attr_snps_mean(attr, mask).rename(columns={0: \"age=50,sex=M\"})\n",
    "attr, mask = e_test.calc_attr(50, 'F', samples=1)\n",
    "df_50_F_test = e_test.attr_snps_mean(attr, mask).rename(columns={0: \"age=50,sex=F\"})"
   ]
  },
  {
   "cell_type": "code",
   "execution_count": null,
   "metadata": {},
   "outputs": [],
   "source": [
    "df_test = df_20_X_test.join([df_20_F_test,df_20_M_test,df_50_X_test,df_50_F_test,df_50_M_test])"
   ]
  },
  {
   "cell_type": "code",
   "execution_count": null,
   "metadata": {},
   "outputs": [],
   "source": [
    "df_test.sort_values(by=\"age=20,sex=X\", ascending=False).head(50)"
   ]
  },
  {
   "cell_type": "code",
   "execution_count": null,
   "metadata": {},
   "outputs": [],
   "source": [
    "df_test.sort_values(by=\"age=20,sex=X\", ascending=False).tail(50)"
   ]
  },
  {
   "cell_type": "code",
   "execution_count": null,
   "metadata": {},
   "outputs": [],
   "source": [
    "df = df_train.join(df_test, lsuffix='_train', rsuffix='_test')"
   ]
  },
  {
   "cell_type": "code",
   "execution_count": null,
   "metadata": {},
   "outputs": [],
   "source": [
    "sns.pairplot(df.sort_values(by=\"age=20,sex=X_train\", ascending=False).head(20))\n",
    "# plt.savefig('pairplot.svg')"
   ]
  },
  {
   "cell_type": "code",
   "execution_count": null,
   "metadata": {},
   "outputs": [],
   "source": [
    "df.sort_values(by=\"age=20,sex=X_train\", ascending=False).head(20)"
   ]
  },
  {
   "cell_type": "code",
   "execution_count": null,
   "metadata": {},
   "outputs": [],
   "source": [
    "df_sel = df.reindex(df[\"age=20,sex=X_train\"].abs().sort_values(ascending=False).index).head(100)"
   ]
  },
  {
   "cell_type": "code",
   "execution_count": null,
   "metadata": {},
   "outputs": [],
   "source": [
    "df_sel"
   ]
  },
  {
   "cell_type": "code",
   "execution_count": null,
   "metadata": {},
   "outputs": [],
   "source": [
    "tmp = dict(Counter([s[:s.index('_',4)] for s in list(df_sel.index)]))\n",
    "sns.barplot(x=list(tmp.keys()), y=list(tmp.values()))"
   ]
  },
  {
   "cell_type": "code",
   "execution_count": null,
   "metadata": {},
   "outputs": [],
   "source": [
    "df_not_sel = df.reindex(df[\"age=20,sex=X_train\"].abs().sort_values(ascending=False).index).tail(500)"
   ]
  },
  {
   "cell_type": "code",
   "execution_count": null,
   "metadata": {},
   "outputs": [],
   "source": [
    "Counter([s[:s.index('_',4)] for s in list(df_not_sel.index)])"
   ]
  },
  {
   "cell_type": "code",
   "execution_count": null,
   "metadata": {},
   "outputs": [],
   "source": [
    "list(tmp.values())"
   ]
  },
  {
   "cell_type": "code",
   "execution_count": null,
   "metadata": {},
   "outputs": [],
   "source": [
    "plt.subplot(141)\n",
    "plt.title(\"Precision\")\n",
    "plt.barh(y=list(tmp.keys()),width=list(tmp.values()))\n",
    "# plt.xlim(0,1)\n",
    "plt.subplot(142)\n",
    "plt.title(\"Recall\")\n",
    "plt.barh(y=list(tmp.keys()),width=list(tmp.values()))\n",
    "# plt.xlim(0,1)\n",
    "plt.yticks([])\n",
    "plt.subplot(143)\n",
    "plt.title(\"F1-Score\")\n",
    "plt.barh(y=list(tmp.keys()),width=list(tmp.values()))\n",
    "# plt.xlim(0,1)\n",
    "plt.yticks([])\n",
    "plt.subplot(144)\n",
    "plt.title(\"Frequency\")\n",
    "plt.barh(y=list(tmp.keys()),width=list(tmp.values()))\n",
    "plt.xscale('log')\n",
    "plt.yticks([])"
   ]
  },
  {
   "cell_type": "code",
   "execution_count": null,
   "metadata": {},
   "outputs": [],
   "source": [
    "feat_imp_M50.sort_values(by='M50_mean')"
   ]
  },
  {
   "cell_type": "code",
   "execution_count": null,
   "metadata": {},
   "outputs": [],
   "source": [
    "feat_imp_M50.sort_values(by='M50_mean')"
   ]
  },
  {
   "cell_type": "code",
   "execution_count": null,
   "metadata": {},
   "outputs": [],
   "source": [
    "plt.boxplot(feat_imp_M50['M50_mean'])"
   ]
  },
  {
   "cell_type": "code",
   "execution_count": null,
   "metadata": {},
   "outputs": [],
   "source": []
  },
  {
   "cell_type": "code",
   "execution_count": null,
   "metadata": {},
   "outputs": [],
   "source": []
  },
  {
   "cell_type": "code",
   "execution_count": null,
   "metadata": {},
   "outputs": [],
   "source": [
    "df_test = pd.read_csv(\"../datasets/visits_sp_unique_test_positivo_1000_random_0.csv\")"
   ]
  },
  {
   "cell_type": "code",
   "execution_count": null,
   "metadata": {},
   "outputs": [],
   "source": [
    "df_train = pd.read_csv(\"../datasets/visits_sp_unique_train_positivo_1000_random_0.csv\")"
   ]
  },
  {
   "cell_type": "code",
   "execution_count": null,
   "metadata": {},
   "outputs": [],
   "source": [
    "c1 = df_test.columns\n",
    "c2 = df_train.columns\n",
    "for i in range(1009):\n",
    "    if c1[i] != c2[i]:\n",
    "        print(f\"{c1[i]} = {c2[i]}\")\n",
    "    "
   ]
  },
  {
   "cell_type": "code",
   "execution_count": null,
   "metadata": {},
   "outputs": [],
   "source": [
    "a = np.arange(-10,10)"
   ]
  },
  {
   "cell_type": "code",
   "execution_count": null,
   "metadata": {},
   "outputs": [],
   "source": [
    "a"
   ]
  },
  {
   "cell_type": "code",
   "execution_count": null,
   "metadata": {},
   "outputs": [],
   "source": [
    "plt.scatter(x=1,y=a)"
   ]
  },
  {
   "cell_type": "code",
   "execution_count": null,
   "metadata": {},
   "outputs": [],
   "source": []
  }
 ],
 "metadata": {
  "@webio": {
   "lastCommId": null,
   "lastKernelId": null
  },
  "kernelspec": {
   "display_name": "Python 3",
   "language": "python",
   "name": "python3"
  },
  "language_info": {
   "codemirror_mode": {
    "name": "ipython",
    "version": 3
   },
   "file_extension": ".py",
   "mimetype": "text/x-python",
   "name": "python",
   "nbconvert_exporter": "python",
   "pygments_lexer": "ipython3",
   "version": "3.8.5"
  }
 },
 "nbformat": 4,
 "nbformat_minor": 4
}
