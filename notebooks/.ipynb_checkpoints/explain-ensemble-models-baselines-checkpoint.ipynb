{
 "cells": [
  {
   "cell_type": "code",
   "execution_count": 1,
   "metadata": {},
   "outputs": [],
   "source": [
    "%load_ext autoreload\n",
    "%autoreload 2\n",
    "%matplotlib inline"
   ]
  },
  {
   "cell_type": "code",
   "execution_count": 1,
   "metadata": {},
   "outputs": [],
   "source": [
    "import pandas as pd\n",
    "import matplotlib.pyplot as plt\n",
    "import seaborn as sns\n",
    "import numpy as np\n",
    "import sys\n",
    "sys.path.append(\"../\")\n",
    "from diabnet.apply_ensemble import Predictor\n",
    "from diabnet.data import get_feature_names\n",
    "from diabnet.ensemble import Ensemble"
   ]
  },
  {
   "cell_type": "code",
   "execution_count": 2,
   "metadata": {},
   "outputs": [
    {
     "data": {
      "image/png": "[encoded data removed]",
      "text/plain": [
       "<Figure size 720x72 with 1 Axes>"
      ]
     },
     "metadata": {
      "needs_background": "light"
     },
     "output_type": "display_data"
    }
   ],
   "source": [
    "colors = sns.color_palette(\"colorblind\")\n",
    "sns.palplot(colors)\n",
    "sns.set_style(\"whitegrid\")\n",
    "sns.set_style(\"ticks\",{'axes.grid': True,'grid.color': '.95', 'grid.linestyle': '-'})"
   ]
  },
  {
   "cell_type": "code",
   "execution_count": 16,
   "metadata": {},
   "outputs": [],
   "source": [
    "def plot():\n",
    "    plt.figure(figsize=(12,4))\n",
    "    plt.subplot(121)\n",
    "    color_boxplot = sns.color_palette(\"cool\", n_colors=20)\n",
    "#     plt.title(f\"patient\\n(id: {df['id'].iloc[id]}, age: {age}, diagnostic: {'positive' if label==1 else 'negative'})\")\n",
    "#     sns.boxplot(x=[i for i in probs_life[1]], y=probs_life[0], showfliers=False, palette=[color_boxplot[int(np.median(a)*20)] for a in probs_life[0]]);\n",
    "    bp1 = plt.boxplot(probs_life[0], showfliers=False, patch_artist=True, labels=[i for i in probs_life[1]], medianprops=dict(linewidth=2.5, color='black'))\n",
    "    colors = [color_boxplot[int(np.median(a)*20)] for a in probs_life[0]]\n",
    "    for box, color in zip(bp1['boxes'], colors):\n",
    "        box.set(facecolor = color)\n",
    "        box.set(edgecolor = 'black')\n",
    "    plt.xlabel(\"age\")\n",
    "    plt.ylim(0,1);\n",
    "    plt.subplot(122)\n",
    "    plt.title(\"negative control\\n(non-diabetic older than 60 years)\")\n",
    "#     sns.boxplot(x=[i for i in neg_life[1]], y=neg_life[0], showfliers=False, palette=[color_boxplot[int(np.median(a)*20)] for a in neg_life[0]]);\n",
    "    bp2 = plt.boxplot(neg_life[0], showfliers=False, patch_artist=True, labels=[i for i in neg_life[1]], medianprops=dict(linewidth=2.5, color='black'))\n",
    "    colors = [color_boxplot[int(np.median(a)*20)] for a in neg_life[0]]\n",
    "    for box, color in zip(bp2['boxes'], colors):\n",
    "        box.set(facecolor = color)\n",
    "        box.set(edgecolor = 'black')\n",
    "    plt.xlabel(\"age\")\n",
    "    plt.ylim(0,1);"
   ]
  },
  {
   "cell_type": "code",
   "execution_count": 4,
   "metadata": {},
   "outputs": [
    {
     "name": "stdout",
     "output_type": "stream",
     "text": [
      "../diabnet/models/model-4-soft-label-age-positives-500-dropout0-bn-decay-flood-hyperopt-ax-batch256-adamw-lc2-20201001\n",
      "NEGATIVE FILE ../datasets/visits_sp_unique_test_positivo_1000_random_0_negatives_older60.csv\n"
     ]
    }
   ],
   "source": [
    "ensemble = Ensemble('../diabnet/models/model-4-soft-label-age-positives-500-dropout0-bn-decay-flood-hyperopt-ax-batch256-adamw-lc2-20201001')\n",
    "c = get_feature_names(\"../datasets/visits_sp_unique_test_positivo_1000_random_0.csv\", BMI=False, sex=True, parents_diagnostics=True)\n",
    "pred = Predictor(ensemble, c, \"../datasets/visits_sp_unique_test_positivo_1000_random_0_negatives_older60.csv\")"
   ]
  },
  {
   "cell_type": "code",
   "execution_count": 5,
   "metadata": {},
   "outputs": [],
   "source": [
    "neg_life = pred.negatives_life(samples_per_model=1)"
   ]
  },
  {
   "cell_type": "markdown",
   "metadata": {},
   "source": [
    "## Análise do baseline\n",
    "\n",
    "O uso de Integrated Gradients depende da definição de um baseline. Esse baseline é um exemplo de entrada que define um caso para ser utilizado como um âncora (base) relativa.\n",
    "\n",
    "Optamos aqui por utilizar como baseline um indivíduo hipotético que apresenta alelos dominantes (**0**) para todos os SNPs. A idade desse indivíduo é a mesma para os demais sendo analisado e o diagnóstico dos pais é **negativo**.\n",
    "\n",
    "Abaixo analisaremos qual a predição para esse indivíduo."
   ]
  },
  {
   "cell_type": "code",
   "execution_count": 6,
   "metadata": {},
   "outputs": [],
   "source": [
    "baseline_snps = [0 for i in range(1000)]"
   ]
  },
  {
   "cell_type": "code",
   "execution_count": 7,
   "metadata": {},
   "outputs": [],
   "source": [
    "baseline = np.array(baseline_snps +[50., 'X', 0, 0], dtype=object)"
   ]
  },
  {
   "cell_type": "code",
   "execution_count": 8,
   "metadata": {},
   "outputs": [
    {
     "data": {
      "text/plain": [
       "array([0, 0, 0, 0, 0, 0, 50.0, 'X', 0, 0], dtype=object)"
      ]
     },
     "execution_count": 8,
     "metadata": {},
     "output_type": "execute_result"
    }
   ],
   "source": [
    "baseline[-10:]"
   ]
  },
  {
   "cell_type": "code",
   "execution_count": 9,
   "metadata": {},
   "outputs": [],
   "source": [
    "probs_life = pred.patient_life(baseline, samples_per_model=1)"
   ]
  },
  {
   "cell_type": "code",
   "execution_count": 17,
   "metadata": {},
   "outputs": [
    {
     "data": {
      "image/png": "[encoded data removed]",
      "text/plain": [
       "<Figure size 864x288 with 2 Axes>"
      ]
     },
     "metadata": {},
     "output_type": "display_data"
    }
   ],
   "source": [
    "plot()"
   ]
  },
  {
   "cell_type": "code",
   "execution_count": 12,
   "metadata": {},
   "outputs": [
    {
     "data": {
      "text/plain": [
       "0.117353156"
      ]
     },
     "execution_count": 12,
     "metadata": {},
     "output_type": "execute_result"
    }
   ],
   "source": [
    "np.mean(probs_life[0][0])"
   ]
  },
  {
   "cell_type": "code",
   "execution_count": null,
   "metadata": {},
   "outputs": [],
   "source": []
  }
 ],
 "metadata": {
  "kernelspec": {
   "display_name": "Python 3",
   "language": "python",
   "name": "python3"
  },
  "language_info": {
   "codemirror_mode": {
    "name": "ipython",
    "version": 3
   },
   "file_extension": ".py",
   "mimetype": "text/x-python",
   "name": "python",
   "nbconvert_exporter": "python",
   "pygments_lexer": "ipython3",
   "version": "3.8.5"
  }
 },
 "nbformat": 4,
 "nbformat_minor": 4
}
