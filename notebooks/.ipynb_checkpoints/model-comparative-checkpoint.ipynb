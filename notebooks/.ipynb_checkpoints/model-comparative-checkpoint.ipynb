{
 "cells": [
  {
   "cell_type": "code",
   "execution_count": 1,
   "id": "residential-palace",
   "metadata": {},
   "outputs": [],
   "source": [
    "%load_ext autoreload\n",
    "%autoreload 2\n",
    "%matplotlib inline"
   ]
  },
  {
   "cell_type": "code",
   "execution_count": 2,
   "id": "suspended-yesterday",
   "metadata": {},
   "outputs": [],
   "source": [
    "import report_ensemble\n",
    "from diabnet.ensemble import Ensemble"
   ]
  },
  {
   "cell_type": "code",
   "execution_count": 3,
   "id": "romantic-pregnancy",
   "metadata": {},
   "outputs": [],
   "source": [
    "from os.path import basename\n",
    "from glob import glob\n",
    "import numpy as np\n",
    "import pandas as pd\n",
    "import pypolars as pl\n",
    "import seaborn as sns\n",
    "import matplotlib.pyplot as plt\n",
    "import warnings\n",
    "warnings.simplefilter(action='ignore', category=FutureWarning)\n",
    "sns.set_style(\"whitegrid\")\n",
    "sns.set_style(\"ticks\",{'axes.grid': True,'grid.color': '.95', 'grid.linestyle': '-', 'grid.zorder': 0})\n",
    "# sns.set_style(\"ticks\", {\"ytick.major.size\": 8})"
   ]
  },
  {
   "cell_type": "code",
   "execution_count": 4,
   "id": "satisfied-directive",
   "metadata": {},
   "outputs": [],
   "source": [
    "models = [\n",
    "    '../data/models/model-positive-12-adamw-lc1-2021-02-10',\n",
    "    '../data/models/model-positive-12-adamw-lc2-2021-02-10',\n",
    "    '../data/models/model-positive-18-adamw-lc3-2021-02-10',\n",
    "    '../data/models/model-positive-19-adamw-lc4-2021-02-10',\n",
    "    '../data/models/model-positive-16-adamw-lc5-2021-02-10',\n",
    "    '../data/models/model-positive-12-adamw-lc6-2021-02-10',\n",
    "    '../data/models/model-positive-12-adamw-lc7-2021-02-10'\n",
    "]"
   ]
  },
  {
   "cell_type": "code",
   "execution_count": 5,
   "id": "inclusive-vacation",
   "metadata": {},
   "outputs": [],
   "source": [
    "models_13 = [\n",
    "    '../data/models/model-positive-13-adamw-lc1-2021-03-03',\n",
    "    '../data/models/model-positive-13-adamw-lc2-2021-03-03',\n",
    "    '../data/models/model-positive-13-adamw-lc3-2021-03-03',\n",
    "    '../data/models/model-positive-13-adamw-lc4-2021-03-03',\n",
    "    '../data/models/model-positive-13-adamw-lc5-2021-03-03',\n",
    "    '../data/models/model-positive-13-adamw-lc6-2021-03-03',\n",
    "    '../data/models/model-positive-13-adamw-lc7-2021-03-03'\n",
    "]"
   ]
  },
  {
   "cell_type": "code",
   "execution_count": 6,
   "id": "freelance-globe",
   "metadata": {},
   "outputs": [
    {
     "data": {
      "text/plain": [
       "['../data/models/model-positive-13-adamw-lc1-2021-03-03-wout-flood-penalty',\n",
       " '../data/models/model-positive-13-adamw-lc1-2021-03-03-wout-dropout',\n",
       " '../data/models/model-positive-13-adamw-lc1-2021-03-03-wout-soft-label-slope',\n",
       " '../data/models/model-positive-13-adamw-lc1-2021-03-03-wout-soft-label',\n",
       " '../data/models/model-positive-13-adamw-lc1-2021-03-03-wout-lambdas',\n",
       " '../data/models/model-positive-13-adamw-lc1-2021-03-03-wout-wd',\n",
       " '../data/models/model-positive-13-adamw-lc2-2021-03-03-wout-soft-label',\n",
       " '../data/models/model-positive-13-adamw-lc2-2021-03-03-wout-flood-penalty',\n",
       " '../data/models/model-positive-13-adamw-lc2-2021-03-03-wout-soft-label-slope',\n",
       " '../data/models/model-positive-13-adamw-lc2-2021-03-03-wout-wd',\n",
       " '../data/models/model-positive-13-adamw-lc2-2021-03-03-wout-dropout',\n",
       " '../data/models/model-positive-13-adamw-lc2-2021-03-03-wout-lambdas',\n",
       " '../data/models/model-positive-13-adamw-lc3-2021-03-03-wout-dropout',\n",
       " '../data/models/model-positive-13-adamw-lc3-2021-03-03-wout-soft-label-slope',\n",
       " '../data/models/model-positive-13-adamw-lc3-2021-03-03-wout-wd',\n",
       " '../data/models/model-positive-13-adamw-lc3-2021-03-03-wout-lambdas',\n",
       " '../data/models/model-positive-13-adamw-lc3-2021-03-03-wout-soft-label',\n",
       " '../data/models/model-positive-13-adamw-lc3-2021-03-03-wout-flood-penalty',\n",
       " '../data/models/model-positive-13-adamw-lc4-2021-03-03-wout-dropout',\n",
       " '../data/models/model-positive-13-adamw-lc4-2021-03-03-wout-soft-label',\n",
       " '../data/models/model-positive-13-adamw-lc4-2021-03-03-wout-soft-label-slope',\n",
       " '../data/models/model-positive-13-adamw-lc4-2021-03-03-wout-wd',\n",
       " '../data/models/model-positive-13-adamw-lc4-2021-03-03-wout-flood-penalty',\n",
       " '../data/models/model-positive-13-adamw-lc4-2021-03-03-wout-lambdas',\n",
       " '../data/models/model-positive-13-adamw-lc5-2021-03-03-wout-soft-label-slope',\n",
       " '../data/models/model-positive-13-adamw-lc5-2021-03-03-wout-dropout',\n",
       " '../data/models/model-positive-13-adamw-lc5-2021-03-03-wout-wd',\n",
       " '../data/models/model-positive-13-adamw-lc5-2021-03-03-wout-flood-penalty',\n",
       " '../data/models/model-positive-13-adamw-lc5-2021-03-03-wout-lambdas',\n",
       " '../data/models/model-positive-13-adamw-lc5-2021-03-03-wout-soft-label',\n",
       " '../data/models/model-positive-13-adamw-lc6-2021-03-03-wout-wd',\n",
       " '../data/models/model-positive-13-adamw-lc6-2021-03-03-wout-soft-label-slope',\n",
       " '../data/models/model-positive-13-adamw-lc6-2021-03-03-wout-lambdas',\n",
       " '../data/models/model-positive-13-adamw-lc6-2021-03-03-wout-dropout',\n",
       " '../data/models/model-positive-13-adamw-lc6-2021-03-03-wout-flood-penalty',\n",
       " '../data/models/model-positive-13-adamw-lc6-2021-03-03-wout-soft-label',\n",
       " '../data/models/model-positive-13-adamw-lc7-2021-03-03-wout-dropout',\n",
       " '../data/models/model-positive-13-adamw-lc7-2021-03-03-wout-wd',\n",
       " '../data/models/model-positive-13-adamw-lc7-2021-03-03-wout-flood-penalty',\n",
       " '../data/models/model-positive-13-adamw-lc7-2021-03-03-wout-lambdas',\n",
       " '../data/models/model-positive-13-adamw-lc7-2021-03-03-wout-soft-label-slope',\n",
       " '../data/models/model-positive-13-adamw-lc7-2021-03-03-wout-soft-label']"
      ]
     },
     "execution_count": 6,
     "metadata": {},
     "output_type": "execute_result"
    }
   ],
   "source": [
    "models_13_wout = [f'../data/models/{basename(fn)}' for i in range(1,8) for fn in glob(f'../data/logs/model-positive-13-adamw-lc{i}-2021-03-03-wout*') ]\n",
    "models_13_wout"
   ]
  },
  {
   "cell_type": "code",
   "execution_count": 7,
   "id": "hairy-pipeline",
   "metadata": {},
   "outputs": [],
   "source": [
    "metrics = {}\n"
   ]
  },
  {
   "cell_type": "code",
   "execution_count": 8,
   "id": "quiet-template",
   "metadata": {},
   "outputs": [
    {
     "name": "stdout",
     "output_type": "stream",
     "text": [
      "----------------------------------------\n",
      "../data/models/model-positive-12-adamw-lc1-2021-02-10\n",
      "----------------------------------------\n",
      "../data/models/model-positive-12-adamw-lc2-2021-02-10\n",
      "----------------------------------------\n",
      "../data/models/model-positive-18-adamw-lc3-2021-02-10\n",
      "----------------------------------------\n",
      "../data/models/model-positive-19-adamw-lc4-2021-02-10\n",
      "----------------------------------------\n",
      "../data/models/model-positive-16-adamw-lc5-2021-02-10\n",
      "----------------------------------------\n",
      "../data/models/model-positive-12-adamw-lc6-2021-02-10\n",
      "----------------------------------------\n",
      "../data/models/model-positive-12-adamw-lc7-2021-02-10\n"
     ]
    }
   ],
   "source": [
    "for m in models:\n",
    "    print('-'*40)\n",
    "    ensemble = Ensemble(m)\n",
    "    name = basename(m)\n",
    "    r = report_ensemble.DiabNetReport(ensemble, \"positivo_1000_random_0.csv\", use_negatives=False)\n",
    "    metrics[name] = {}\n",
    "    metrics[name][\"auc\"] = r.auc(bootnum=1000, interval='HDI')\n",
    "    metrics[name][\"f1\"] = r.f1(bootnum=1000, interval='HDI')\n",
    "    metrics[name][\"acc\"] = r.acc(bootnum=1000, interval='HDI')\n",
    "    metrics[name][\"bacc\"] = r.bacc(bootnum=1000, interval='HDI')\n",
    "    metrics[name][\"precision\"] = r.precision(bootnum=1000, interval='HDI')\n",
    "    metrics[name][\"sensitivity\"] = r.sensitivity(bootnum=1000, interval='HDI')\n",
    "    metrics[name][\"specificity\"] = r.specificity(bootnum=1000, interval='HDI')\n",
    "    metrics[name][\"avgprec\"] = r.average_precision(bootnum=1000, interval='HDI')\n",
    "    metrics[name][\"ece\"] = r.ece(bootnum=10000, interval='HDI')\n",
    "    metrics[name][\"mce\"] = r.mce(bootnum=10000, interval='HDI')"
   ]
  },
  {
   "cell_type": "code",
   "execution_count": 9,
   "id": "authentic-decade",
   "metadata": {
    "scrolled": false
   },
   "outputs": [
    {
     "name": "stdout",
     "output_type": "stream",
     "text": [
      "----------------------------------------\n",
      "../data/models/model-positive-13-adamw-lc1-2021-03-03\n",
      "----------------------------------------\n",
      "../data/models/model-positive-13-adamw-lc2-2021-03-03\n",
      "----------------------------------------\n",
      "../data/models/model-positive-13-adamw-lc3-2021-03-03\n",
      "----------------------------------------\n",
      "../data/models/model-positive-13-adamw-lc4-2021-03-03\n",
      "----------------------------------------\n",
      "../data/models/model-positive-13-adamw-lc5-2021-03-03\n",
      "----------------------------------------\n",
      "../data/models/model-positive-13-adamw-lc6-2021-03-03\n",
      "----------------------------------------\n",
      "../data/models/model-positive-13-adamw-lc7-2021-03-03\n"
     ]
    }
   ],
   "source": [
    "for m in models_13:\n",
    "    print('-'*40)\n",
    "    ensemble = Ensemble(m)\n",
    "    name = basename(m)\n",
    "    r = report_ensemble.DiabNetReport(ensemble, \"positivo_1000_random_0.csv\", use_negatives=False)\n",
    "    metrics[name] = {}\n",
    "    metrics[name][\"auc\"] = r.auc(bootnum=1000, interval='HDI')\n",
    "    metrics[name][\"f1\"] = r.f1(bootnum=1000, interval='HDI')\n",
    "    metrics[name][\"acc\"] = r.acc(bootnum=1000, interval='HDI')\n",
    "    metrics[name][\"bacc\"] = r.bacc(bootnum=1000, interval='HDI')\n",
    "    metrics[name][\"precision\"] = r.precision(bootnum=1000, interval='HDI')\n",
    "    metrics[name][\"sensitivity\"] = r.sensitivity(bootnum=1000, interval='HDI')\n",
    "    metrics[name][\"specificity\"] = r.specificity(bootnum=1000, interval='HDI')\n",
    "    metrics[name][\"avgprec\"] = r.average_precision(bootnum=1000, interval='HDI')\n",
    "    metrics[name][\"ece\"] = r.ece(bootnum=10000, interval='HDI')\n",
    "    metrics[name][\"mce\"] = r.mce(bootnum=10000, interval='HDI')\n"
   ]
  },
  {
   "cell_type": "code",
   "execution_count": 10,
   "id": "heavy-knight",
   "metadata": {},
   "outputs": [
    {
     "name": "stdout",
     "output_type": "stream",
     "text": [
      "----------------------------------------\n",
      "../data/models/model-positive-13-adamw-lc1-2021-03-03-wout-flood-penalty\n",
      "----------------------------------------\n",
      "../data/models/model-positive-13-adamw-lc1-2021-03-03-wout-dropout\n",
      "----------------------------------------\n",
      "../data/models/model-positive-13-adamw-lc1-2021-03-03-wout-soft-label-slope\n",
      "----------------------------------------\n",
      "../data/models/model-positive-13-adamw-lc1-2021-03-03-wout-soft-label\n",
      "----------------------------------------\n",
      "../data/models/model-positive-13-adamw-lc1-2021-03-03-wout-lambdas\n",
      "----------------------------------------\n",
      "../data/models/model-positive-13-adamw-lc1-2021-03-03-wout-wd\n",
      "----------------------------------------\n",
      "../data/models/model-positive-13-adamw-lc2-2021-03-03-wout-soft-label\n",
      "----------------------------------------\n",
      "../data/models/model-positive-13-adamw-lc2-2021-03-03-wout-flood-penalty\n",
      "----------------------------------------\n",
      "../data/models/model-positive-13-adamw-lc2-2021-03-03-wout-soft-label-slope\n",
      "----------------------------------------\n",
      "../data/models/model-positive-13-adamw-lc2-2021-03-03-wout-wd\n",
      "----------------------------------------\n",
      "../data/models/model-positive-13-adamw-lc2-2021-03-03-wout-dropout\n",
      "----------------------------------------\n",
      "../data/models/model-positive-13-adamw-lc2-2021-03-03-wout-lambdas\n",
      "----------------------------------------\n",
      "../data/models/model-positive-13-adamw-lc3-2021-03-03-wout-dropout\n",
      "----------------------------------------\n",
      "../data/models/model-positive-13-adamw-lc3-2021-03-03-wout-soft-label-slope\n",
      "----------------------------------------\n",
      "../data/models/model-positive-13-adamw-lc3-2021-03-03-wout-wd\n",
      "----------------------------------------\n",
      "../data/models/model-positive-13-adamw-lc3-2021-03-03-wout-lambdas\n",
      "----------------------------------------\n",
      "../data/models/model-positive-13-adamw-lc3-2021-03-03-wout-soft-label\n",
      "----------------------------------------\n",
      "../data/models/model-positive-13-adamw-lc3-2021-03-03-wout-flood-penalty\n",
      "----------------------------------------\n",
      "../data/models/model-positive-13-adamw-lc4-2021-03-03-wout-dropout\n",
      "----------------------------------------\n",
      "../data/models/model-positive-13-adamw-lc4-2021-03-03-wout-soft-label\n",
      "----------------------------------------\n",
      "../data/models/model-positive-13-adamw-lc4-2021-03-03-wout-soft-label-slope\n",
      "----------------------------------------\n",
      "../data/models/model-positive-13-adamw-lc4-2021-03-03-wout-wd\n",
      "----------------------------------------\n",
      "../data/models/model-positive-13-adamw-lc4-2021-03-03-wout-flood-penalty\n",
      "----------------------------------------\n",
      "../data/models/model-positive-13-adamw-lc4-2021-03-03-wout-lambdas\n",
      "----------------------------------------\n",
      "../data/models/model-positive-13-adamw-lc5-2021-03-03-wout-soft-label-slope\n",
      "----------------------------------------\n",
      "../data/models/model-positive-13-adamw-lc5-2021-03-03-wout-dropout\n",
      "----------------------------------------\n",
      "../data/models/model-positive-13-adamw-lc5-2021-03-03-wout-wd\n",
      "----------------------------------------\n",
      "../data/models/model-positive-13-adamw-lc5-2021-03-03-wout-flood-penalty\n",
      "----------------------------------------\n",
      "../data/models/model-positive-13-adamw-lc5-2021-03-03-wout-lambdas\n",
      "----------------------------------------\n",
      "../data/models/model-positive-13-adamw-lc5-2021-03-03-wout-soft-label\n",
      "----------------------------------------\n",
      "../data/models/model-positive-13-adamw-lc6-2021-03-03-wout-wd\n",
      "----------------------------------------\n",
      "../data/models/model-positive-13-adamw-lc6-2021-03-03-wout-soft-label-slope\n",
      "----------------------------------------\n",
      "../data/models/model-positive-13-adamw-lc6-2021-03-03-wout-lambdas\n",
      "----------------------------------------\n",
      "../data/models/model-positive-13-adamw-lc6-2021-03-03-wout-dropout\n",
      "----------------------------------------\n",
      "../data/models/model-positive-13-adamw-lc6-2021-03-03-wout-flood-penalty\n",
      "----------------------------------------\n",
      "../data/models/model-positive-13-adamw-lc6-2021-03-03-wout-soft-label\n",
      "----------------------------------------\n",
      "../data/models/model-positive-13-adamw-lc7-2021-03-03-wout-dropout\n",
      "----------------------------------------\n",
      "../data/models/model-positive-13-adamw-lc7-2021-03-03-wout-wd\n",
      "----------------------------------------\n",
      "../data/models/model-positive-13-adamw-lc7-2021-03-03-wout-flood-penalty\n",
      "----------------------------------------\n",
      "../data/models/model-positive-13-adamw-lc7-2021-03-03-wout-lambdas\n",
      "----------------------------------------\n",
      "../data/models/model-positive-13-adamw-lc7-2021-03-03-wout-soft-label-slope\n",
      "----------------------------------------\n",
      "../data/models/model-positive-13-adamw-lc7-2021-03-03-wout-soft-label\n"
     ]
    }
   ],
   "source": [
    "for m in models_13_wout:\n",
    "    print('-'*40)\n",
    "    ensemble = Ensemble(m)\n",
    "    name = basename(m)\n",
    "    r = report_ensemble.DiabNetReport(ensemble, \"positivo_1000_random_0.csv\", use_negatives=False)\n",
    "    metrics[name] = {}\n",
    "    metrics[name][\"auc\"] = r.auc(bootnum=1000, interval='HDI')\n",
    "    metrics[name][\"f1\"] = r.f1(bootnum=1000, interval='HDI')\n",
    "    metrics[name][\"acc\"] = r.acc(bootnum=1000, interval='HDI')\n",
    "    metrics[name][\"bacc\"] = r.bacc(bootnum=1000, interval='HDI')\n",
    "    metrics[name][\"precision\"] = r.precision(bootnum=1000, interval='HDI')\n",
    "    metrics[name][\"sensitivity\"] = r.sensitivity(bootnum=1000, interval='HDI')\n",
    "    metrics[name][\"specificity\"] = r.specificity(bootnum=1000, interval='HDI')\n",
    "    metrics[name][\"avgprec\"] = r.average_precision(bootnum=1000, interval='HDI')\n",
    "    metrics[name][\"ece\"] = r.ece(bootnum=10000, interval='HDI')\n",
    "    metrics[name][\"mce\"] = r.mce(bootnum=10000, interval='HDI')\n"
   ]
  },
  {
   "cell_type": "code",
   "execution_count": 11,
   "id": "western-villa",
   "metadata": {},
   "outputs": [
    {
     "name": "stdout",
     "output_type": "stream",
     "text": [
      "{'model-positive-12-adamw-lc1-2021-02-10': {'auc': {'value': 0.8974521671222178, 'mean': 0.8958829090482796, 'interval': 'HDI', 'lower': 0.8685433265739513, 'upper': 0.9262625936450529}, 'f1': {'value': 0.7116104868913857, 'mean': 0.7059147680825892, 'interval': 'HDI', 'lower': 0.6412213740458015, 'upper': 0.767741935483871}, 'acc': {'value': 0.86, 'mean': 0.85772, 'interval': 'HDI', 'lower': 0.8272727272727273, 'upper': 0.8836363636363637}, 'bacc': {'value': 0.7841826109592607, 'mean': 0.7833603699733994, 'interval': 'HDI', 'lower': 0.7429070861906684, 'upper': 0.8235847068929191}, 'precision': {'value': 0.8558558558558559, 'mean': 0.8514496077774801, 'interval': 'HDI', 'lower': 0.7850467289719626, 'upper': 0.9158878504672897}, 'sensitivity': {'value': 0.6089743589743589, 'mean': 0.6089743589743589, 'interval': 'HDI', 'lower': 0.6089743589743589, 'upper': 0.6089743589743589}, 'specificity': {'value': 0.9593908629441624, 'mean': 0.9593908629441628, 'interval': 'HDI', 'lower': 0.9593908629441624, 'upper': 0.9593908629441624}, 'avgprec': {'value': 0.8317948902378219, 'mean': 0.8320328020957273, 'interval': 'HDI', 'lower': 0.7819950604856025, 'upper': 0.8730794812653532}, 'ece': {'value': 0.06787287468259987, 'mean': 0.06648463267963312, 'interval': 'HDI', 'lower': 0.039922826561060824, 'upper': 0.09172003563154828}, 'mce': {'value': 0.16837834517161054, 'mean': 0.17216308446357667, 'interval': 'HDI', 'lower': 0.0917481822626931, 'upper': 0.255423183136798}}, 'model-positive-12-adamw-lc2-2021-02-10': {'auc': {'value': 0.8985910451646493, 'mean': 0.8974191564884769, 'interval': 'HDI', 'lower': 0.8678601875532821, 'upper': 0.9223915630785505}, 'f1': {'value': 0.7208480565371025, 'mean': 0.7179112185952624, 'interval': 'HDI', 'lower': 0.6640926640926641, 'upper': 0.7829457364341086}, 'acc': {'value': 0.8563636363636363, 'mean': 0.8544636363636364, 'interval': 'HDI', 'lower': 0.8254545454545454, 'upper': 0.8818181818181818}, 'bacc': {'value': 0.7951971885982039, 'mean': 0.7936410736757791, 'interval': 'HDI', 'lower': 0.7533379430697552, 'upper': 0.8333582300121164}, 'precision': {'value': 0.8031496062992126, 'mean': 0.8020213151198791, 'interval': 'HDI', 'lower': 0.7350427350427351, 'upper': 0.8660714285714286}, 'sensitivity': {'value': 0.6538461538461539, 'mean': 0.6538461538461539, 'interval': 'HDI', 'lower': 0.6538461538461539, 'upper': 0.6538461538461539}, 'specificity': {'value': 0.9365482233502538, 'mean': 0.9365482233502539, 'interval': 'HDI', 'lower': 0.9365482233502538, 'upper': 0.9365482233502538}, 'avgprec': {'value': 0.8251802497006336, 'mean': 0.8239046797962856, 'interval': 'HDI', 'lower': 0.7725781892757589, 'upper': 0.8737388364412502}, 'ece': {'value': 0.06962082954970274, 'mean': 0.06956494242628866, 'interval': 'HDI', 'lower': 0.044740948500958354, 'upper': 0.09683266618035055}, 'mce': {'value': 0.1302025968378241, 'mean': 0.145729358488969, 'interval': 'HDI', 'lower': 0.07554793357849121, 'upper': 0.23067002473993503}}, 'model-positive-18-adamw-lc3-2021-02-10': {'auc': {'value': 0.9015521280749708, 'mean': 0.90048477858817, 'interval': 'HDI', 'lower': 0.870301773102188, 'upper': 0.9282253844465826}, 'f1': {'value': 0.7142857142857142, 'mean': 0.7205183014185736, 'interval': 'HDI', 'lower': 0.6585365853658537, 'upper': 0.7781818181818182}, 'acc': {'value': 0.8545454545454545, 'mean': 0.856210909090909, 'interval': 'HDI', 'lower': 0.8290909090909091, 'upper': 0.889090909090909}, 'bacc': {'value': 0.7900559677209424, 'mean': 0.7952023408148701, 'interval': 'HDI', 'lower': 0.750654107796965, 'upper': 0.8349177961847389}, 'precision': {'value': 0.8064516129032258, 'mean': 0.8064753948163036, 'interval': 'HDI', 'lower': 0.743801652892562, 'upper': 0.8740157480314961}, 'sensitivity': {'value': 0.6410256410256411, 'mean': 0.6410256410256411, 'interval': 'HDI', 'lower': 0.6410256410256411, 'upper': 0.6410256410256411}, 'specificity': {'value': 0.9390862944162437, 'mean': 0.9390862944162437, 'interval': 'HDI', 'lower': 0.9390862944162437, 'upper': 0.9390862944162437}, 'avgprec': {'value': 0.83014951939793, 'mean': 0.8297885560495736, 'interval': 'HDI', 'lower': 0.7772316775223551, 'upper': 0.8763600212005819}, 'ece': {'value': 0.06511112966320731, 'mean': 0.06831666097062285, 'interval': 'HDI', 'lower': 0.04312570897015657, 'upper': 0.09208428362553771}, 'mce': {'value': 0.1225172352790832, 'mean': 0.14759791953334214, 'interval': 'HDI', 'lower': 0.0758643021770552, 'upper': 0.22349338531494145}}, 'model-positive-19-adamw-lc4-2021-02-10': {'auc': {'value': 0.9207991669920603, 'mean': 0.9206567120028323, 'interval': 'HDI', 'lower': 0.8956465961074256, 'upper': 0.9441999999999999}, 'f1': {'value': 0.6746987951807228, 'mean': 0.6751364555028374, 'interval': 'HDI', 'lower': 0.6031746031746033, 'upper': 0.7450980392156863}, 'acc': {'value': 0.8527272727272728, 'mean': 0.8530654545454545, 'interval': 'HDI', 'lower': 0.8218181818181818, 'upper': 0.88}, 'bacc': {'value': 0.7578094494338149, 'mean': 0.7617076893316355, 'interval': 'HDI', 'lower': 0.7233281044337462, 'upper': 0.7994761161004815}, 'precision': {'value': 0.9032258064516129, 'mean': 0.8967645258974358, 'interval': 'HDI', 'lower': 0.8311688311688312, 'upper': 0.9550561797752809}, 'sensitivity': {'value': 0.5384615384615384, 'mean': 0.5384615384615384, 'interval': 'HDI', 'lower': 0.5384615384615384, 'upper': 0.5384615384615384}, 'specificity': {'value': 0.9771573604060914, 'mean': 0.9771573604060911, 'interval': 'HDI', 'lower': 0.9771573604060914, 'upper': 0.9771573604060914}, 'avgprec': {'value': 0.8560284163348969, 'mean': 0.8564402183101488, 'interval': 'HDI', 'lower': 0.8159173058119265, 'upper': 0.9020416462111823}, 'ece': {'value': 0.07324861074035818, 'mean': 0.07512287196498296, 'interval': 'HDI', 'lower': 0.051754148331555457, 'upper': 0.10044708745046094}, 'mce': {'value': 0.252845403026132, 'mean': 0.24954373410405684, 'interval': 'HDI', 'lower': 0.1674539966460986, 'upper': 0.3251435160636902}}, 'model-positive-16-adamw-lc5-2021-02-10': {'auc': {'value': 0.9085643628790837, 'mean': 0.9079571820942929, 'interval': 'HDI', 'lower': 0.8787260106165782, 'upper': 0.9341669848542701}, 'f1': {'value': 0.7491408934707903, 'mean': 0.7481256695305092, 'interval': 'HDI', 'lower': 0.6931407942238267, 'upper': 0.8027210884353742}, 'acc': {'value': 0.8672727272727273, 'mean': 0.8659963636363637, 'interval': 'HDI', 'lower': 0.8381818181818181, 'upper': 0.8945454545454545}, 'bacc': {'value': 0.8163640505011063, 'mean': 0.81578721031723, 'interval': 'HDI', 'lower': 0.7777352064708387, 'upper': 0.8524767801857585}, 'precision': {'value': 0.8074074074074075, 'mean': 0.8063724995781416, 'interval': 'HDI', 'lower': 0.738255033557047, 'upper': 0.8702290076335878}, 'sensitivity': {'value': 0.6987179487179487, 'mean': 0.6987179487179487, 'interval': 'HDI', 'lower': 0.6987179487179487, 'upper': 0.6987179487179487}, 'specificity': {'value': 0.934010152284264, 'mean': 0.934010152284264, 'interval': 'HDI', 'lower': 0.934010152284264, 'upper': 0.934010152284264}, 'avgprec': {'value': 0.8390228177021729, 'mean': 0.8369477428641869, 'interval': 'HDI', 'lower': 0.7927982044278834, 'upper': 0.8866646705453715}, 'ece': {'value': 0.0900912875614383, 'mean': 0.09061237592983247, 'interval': 'HDI', 'lower': 0.06397872703996571, 'upper': 0.11783166538585316}, 'mce': {'value': 0.1304103476660592, 'mean': 0.15031501293756755, 'interval': 'HDI', 'lower': 0.09022700786590576, 'upper': 0.22153469631748812}}, 'model-positive-12-adamw-lc6-2021-02-10': {'auc': {'value': 0.9260054666146036, 'mean': 0.9254029971480507, 'interval': 'HDI', 'lower': 0.9026052735143644, 'upper': 0.9485861182519281}, 'f1': {'value': 0.7333333333333333, 'mean': 0.730810686720766, 'interval': 'HDI', 'lower': 0.6666666666666666, 'upper': 0.7874564459930314}, 'acc': {'value': 0.8690909090909091, 'mean': 0.8679727272727273, 'interval': 'HDI', 'lower': 0.8381818181818181, 'upper': 0.8945454545454545}, 'bacc': {'value': 0.7982721593127684, 'mean': 0.7977804198318494, 'interval': 'HDI', 'lower': 0.7559798112793505, 'upper': 0.837704817803864}, 'precision': {'value': 0.868421052631579, 'mean': 0.8635124685364822, 'interval': 'HDI', 'lower': 0.8015873015873016, 'upper': 0.926605504587156}, 'sensitivity': {'value': 0.6346153846153846, 'mean': 0.6346153846153848, 'interval': 'HDI', 'lower': 0.6346153846153846, 'upper': 0.6346153846153846}, 'specificity': {'value': 0.9619289340101523, 'mean': 0.9619289340101527, 'interval': 'HDI', 'lower': 0.9619289340101523, 'upper': 0.9619289340101523}, 'avgprec': {'value': 0.8580134777496756, 'mean': 0.8561562117404683, 'interval': 'HDI', 'lower': 0.8132320563749618, 'upper': 0.8998842564729002}, 'ece': {'value': 0.07295663219961254, 'mean': 0.07519376467643543, 'interval': 'HDI', 'lower': 0.05095944057811391, 'upper': 0.09926375729116527}, 'mce': {'value': 0.1750218120027096, 'mean': 0.17406714193825296, 'interval': 'HDI', 'lower': 0.08732568661371867, 'upper': 0.25459743738174434}}, 'model-positive-12-adamw-lc7-2021-02-10': {'auc': {'value': 0.9193511649095405, 'mean': 0.9194045613483247, 'interval': 'HDI', 'lower': 0.8927675585284282, 'upper': 0.942391899288451}, 'f1': {'value': 0.7326007326007326, 'mean': 0.734597632636839, 'interval': 'HDI', 'lower': 0.6742424242424242, 'upper': 0.7919463087248322}, 'acc': {'value': 0.8672727272727273, 'mean': 0.8677290909090909, 'interval': 'HDI', 'lower': 0.8345454545454546, 'upper': 0.8927272727272727}, 'bacc': {'value': 0.7989392164519069, 'mean': 0.8020409616567183, 'interval': 'HDI', 'lower': 0.7579850652610441, 'upper': 0.8391598005034318}, 'precision': {'value': 0.8547008547008547, 'mean': 0.8526792907897023, 'interval': 'HDI', 'lower': 0.7933884297520661, 'upper': 0.9130434782608695}, 'sensitivity': {'value': 0.6410256410256411, 'mean': 0.6410256410256411, 'interval': 'HDI', 'lower': 0.6410256410256411, 'upper': 0.6410256410256411}, 'specificity': {'value': 0.9568527918781726, 'mean': 0.9568527918781728, 'interval': 'HDI', 'lower': 0.9568527918781726, 'upper': 0.9568527918781726}, 'avgprec': {'value': 0.8539573139957307, 'mean': 0.8546790309660763, 'interval': 'HDI', 'lower': 0.8100844521065576, 'upper': 0.8993080866628431}, 'ece': {'value': 0.07048945353789762, 'mean': 0.07736861968869242, 'interval': 'HDI', 'lower': 0.05386692518537694, 'upper': 0.10158270575783468}, 'mce': {'value': 0.18120822180872376, 'mean': 0.18576735977662537, 'interval': 'HDI', 'lower': 0.09932901178087505, 'upper': 0.27012705650085056}}, 'model-positive-13-adamw-lc1-2021-03-03': {'auc': {'value': 0.8962644800208251, 'mean': 0.8959673350894466, 'interval': 'HDI', 'lower': 0.8656921192323397, 'upper': 0.9260489725606005}, 'f1': {'value': 0.699619771863118, 'mean': 0.7022906961506942, 'interval': 'HDI', 'lower': 0.6423357664233577, 'upper': 0.7712418300653594}, 'acc': {'value': 0.8563636363636363, 'mean': 0.85836, 'interval': 'HDI', 'lower': 0.8309090909090909, 'upper': 0.889090909090909}, 'bacc': {'value': 0.775836261876871, 'mean': 0.7791434469845695, 'interval': 'HDI', 'lower': 0.7410870107205185, 'upper': 0.8218914651115523}, 'precision': {'value': 0.8598130841121495, 'mean': 0.8594072422007824, 'interval': 'HDI', 'lower': 0.7946428571428571, 'upper': 0.9223300970873787}, 'sensitivity': {'value': 0.5897435897435898, 'mean': 0.5897435897435896, 'interval': 'HDI', 'lower': 0.5897435897435898, 'upper': 0.5897435897435898}, 'specificity': {'value': 0.9619289340101523, 'mean': 0.9619289340101527, 'interval': 'HDI', 'lower': 0.9619289340101523, 'upper': 0.9619289340101523}, 'avgprec': {'value': 0.8300459982989552, 'mean': 0.8288989192367908, 'interval': 'HDI', 'lower': 0.7796936059258583, 'upper': 0.8748901647395615}, 'ece': {'value': 0.06154435159130531, 'mean': 0.0663686509988186, 'interval': 'HDI', 'lower': 0.04026908827098934, 'upper': 0.0925955835933035}, 'mce': {'value': 0.16577976942062378, 'mean': 0.1758490266638798, 'interval': 'HDI', 'lower': 0.09599316120147705, 'upper': 0.25927586876429043}}, 'model-positive-13-adamw-lc2-2021-03-03': {'auc': {'value': 0.8938402967590784, 'mean': 0.8935404992818301, 'interval': 'HDI', 'lower': 0.863062442607897, 'upper': 0.9222955895362062}, 'f1': {'value': 0.7137809187279153, 'mean': 0.7172165495491258, 'interval': 'HDI', 'lower': 0.6516853932584269, 'upper': 0.7777777777777778}, 'acc': {'value': 0.8527272727272728, 'mean': 0.8543254545454545, 'interval': 'HDI', 'lower': 0.8236363636363636, 'upper': 0.88}, 'bacc': {'value': 0.7907230248600807, 'mean': 0.7939900691234429, 'interval': 'HDI', 'lower': 0.7551393728222997, 'upper': 0.8320707070707071}, 'precision': {'value': 0.7952755905511811, 'mean': 0.7939972427718124, 'interval': 'HDI', 'lower': 0.7251908396946565, 'upper': 0.8661417322834646}, 'sensitivity': {'value': 0.6474358974358975, 'mean': 0.6474358974358976, 'interval': 'HDI', 'lower': 0.6474358974358975, 'upper': 0.6474358974358975}, 'specificity': {'value': 0.934010152284264, 'mean': 0.934010152284264, 'interval': 'HDI', 'lower': 0.934010152284264, 'upper': 0.934010152284264}, 'avgprec': {'value': 0.8180583842608588, 'mean': 0.8171249238620336, 'interval': 'HDI', 'lower': 0.7693923642339269, 'upper': 0.8714457867110776}, 'ece': {'value': 0.06417219911109316, 'mean': 0.06637958215701581, 'interval': 'HDI', 'lower': 0.04104500358754938, 'upper': 0.09147629976272582}, 'mce': {'value': 0.09766052527861158, 'mean': 0.1297658776050114, 'interval': 'HDI', 'lower': 0.06680826386626881, 'upper': 0.200509224248969}}, 'model-positive-13-adamw-lc3-2021-03-03': {'auc': {'value': 0.9003156319146166, 'mean': 0.8996723922556302, 'interval': 'HDI', 'lower': 0.8718485046863275, 'upper': 0.9265749056358193}, 'f1': {'value': 0.7142857142857142, 'mean': 0.720518008139511, 'interval': 'HDI', 'lower': 0.6639004149377593, 'upper': 0.7795527156549521}, 'acc': {'value': 0.8545454545454545, 'mean': 0.8571072727272726, 'interval': 'HDI', 'lower': 0.8272727272727273, 'upper': 0.8836363636363637}, 'bacc': {'value': 0.7900559677209424, 'mean': 0.7940143511561678, 'interval': 'HDI', 'lower': 0.7529431997623552, 'upper': 0.8333333333333333}, 'precision': {'value': 0.8064516129032258, 'mean': 0.8110569017669357, 'interval': 'HDI', 'lower': 0.736, 'upper': 0.873015873015873}, 'sensitivity': {'value': 0.6410256410256411, 'mean': 0.6410256410256411, 'interval': 'HDI', 'lower': 0.6410256410256411, 'upper': 0.6410256410256411}, 'specificity': {'value': 0.9390862944162437, 'mean': 0.9390862944162437, 'interval': 'HDI', 'lower': 0.9390862944162437, 'upper': 0.9390862944162437}, 'avgprec': {'value': 0.8313531661630256, 'mean': 0.830366904870204, 'interval': 'HDI', 'lower': 0.7810994380801782, 'upper': 0.8764806468516145}, 'ece': {'value': 0.07055263276804578, 'mean': 0.06767924750848522, 'interval': 'HDI', 'lower': 0.04201449000022628, 'upper': 0.09225740172646262}, 'mce': {'value': 0.13732640110716532, 'mean': 0.14931026388354585, 'interval': 'HDI', 'lower': 0.0827363133430481, 'upper': 0.22559999952129284}}, 'model-positive-13-adamw-lc4-2021-03-03': {'auc': {'value': 0.9223122478198621, 'mean': 0.9220710404756439, 'interval': 'HDI', 'lower': 0.89944576405384, 'upper': 0.9486981998308566}, 'f1': {'value': 0.6825396825396827, 'mean': 0.6854226549917317, 'interval': 'HDI', 'lower': 0.6229508196721312, 'upper': 0.7569444444444444}, 'acc': {'value': 0.8545454545454545, 'mean': 0.8550727272727272, 'interval': 'HDI', 'lower': 0.8254545454545454, 'upper': 0.8836363636363637}, 'bacc': {'value': 0.7629506703110764, 'mean': 0.76496763911615, 'interval': 'HDI', 'lower': 0.725364622288706, 'upper': 0.8054166666666667}, 'precision': {'value': 0.8958333333333334, 'mean': 0.8942171805554847, 'interval': 'HDI', 'lower': 0.8333333333333334, 'upper': 0.9574468085106383}, 'sensitivity': {'value': 0.5512820512820513, 'mean': 0.5512820512820513, 'interval': 'HDI', 'lower': 0.5512820512820513, 'upper': 0.5512820512820513}, 'specificity': {'value': 0.9746192893401016, 'mean': 0.9746192893401014, 'interval': 'HDI', 'lower': 0.9746192893401016, 'upper': 0.9746192893401016}, 'avgprec': {'value': 0.8566384712808874, 'mean': 0.8558219003285267, 'interval': 'HDI', 'lower': 0.8163545698602225, 'upper': 0.8996047815666637}, 'ece': {'value': 0.07105965136127038, 'mean': 0.07553022754325107, 'interval': 'HDI', 'lower': 0.05153584764762358, 'upper': 0.09989162921905517}, 'mce': {'value': 0.21711626919833094, 'mean': 0.2375484884326535, 'interval': 'HDI', 'lower': 0.15351080894470215, 'upper': 0.3195197582244873}}, 'model-positive-13-adamw-lc5-2021-03-03': {'auc': {'value': 0.9106794221007418, 'mean': 0.9100156110291648, 'interval': 'HDI', 'lower': 0.8765210289914251, 'upper': 0.9340507326802747}, 'f1': {'value': 0.7593220338983051, 'mean': 0.7619212672605724, 'interval': 'HDI', 'lower': 0.7067669172932329, 'upper': 0.8157099697885195}, 'acc': {'value': 0.8709090909090909, 'mean': 0.8725527272727274, 'interval': 'HDI', 'lower': 0.8418181818181818, 'upper': 0.8981818181818182}, 'bacc': {'value': 0.824710399583496, 'mean': 0.8256539677030971, 'interval': 'HDI', 'lower': 0.7909150118901562, 'upper': 0.8643616593479065}, 'precision': {'value': 0.8057553956834532, 'mean': 0.8111987129178426, 'interval': 'HDI', 'lower': 0.7391304347826086, 'upper': 0.873015873015873}, 'sensitivity': {'value': 0.717948717948718, 'mean': 0.7179487179487176, 'interval': 'HDI', 'lower': 0.717948717948718, 'upper': 0.717948717948718}, 'specificity': {'value': 0.9314720812182741, 'mean': 0.9314720812182741, 'interval': 'HDI', 'lower': 0.9314720812182741, 'upper': 0.9314720812182741}, 'avgprec': {'value': 0.842094811004993, 'mean': 0.8425496963571844, 'interval': 'HDI', 'lower': 0.7902973783184427, 'upper': 0.8867228973493877}, 'ece': {'value': 0.09572893538258292, 'mean': 0.09152426910753549, 'interval': 'HDI', 'lower': 0.06406160687858409, 'upper': 0.11782203614711761}, 'mce': {'value': 0.14068389343003096, 'mean': 0.14961421379036063, 'interval': 'HDI', 'lower': 0.08592371940612792, 'upper': 0.21401257239855254}}, 'model-positive-13-adamw-lc6-2021-03-03': {'auc': {'value': 0.9265749056358192, 'mean': 0.9255538595096611, 'interval': 'HDI', 'lower': 0.9024849397590362, 'upper': 0.9467675707525456}, 'f1': {'value': 0.7238805970149254, 'mean': 0.7268055446995948, 'interval': 'HDI', 'lower': 0.6690391459074733, 'upper': 0.7891156462585035}, 'acc': {'value': 0.8654545454545455, 'mean': 0.8681981818181818, 'interval': 'HDI', 'lower': 0.8418181818181818, 'upper': 0.8963636363636364}, 'bacc': {'value': 0.791861902902512, 'mean': 0.7947059058794056, 'interval': 'HDI', 'lower': 0.7556820923611447, 'upper': 0.8360666406351686}, 'precision': {'value': 0.8660714285714286, 'mean': 0.87072889323195, 'interval': 'HDI', 'lower': 0.8085106382978723, 'upper': 0.9354838709677419}, 'sensitivity': {'value': 0.6217948717948718, 'mean': 0.621794871794872, 'interval': 'HDI', 'lower': 0.6217948717948718, 'upper': 0.6217948717948718}, 'specificity': {'value': 0.9619289340101523, 'mean': 0.9619289340101527, 'interval': 'HDI', 'lower': 0.9619289340101523, 'upper': 0.9619289340101523}, 'avgprec': {'value': 0.8574268089964092, 'mean': 0.8562692159879097, 'interval': 'HDI', 'lower': 0.8100904008353516, 'upper': 0.8967604119247908}, 'ece': {'value': 0.07129210652275518, 'mean': 0.07504696536494791, 'interval': 'HDI', 'lower': 0.050633480196649386, 'upper': 0.0987925518371842}, 'mce': {'value': 0.1572868498888883, 'mean': 0.16219381543565994, 'interval': 'HDI', 'lower': 0.08452415466308594, 'upper': 0.24379709709522335}}, 'model-positive-13-adamw-lc7-2021-03-03': {'auc': {'value': 0.918423792789275, 'mean': 0.9184240343193308, 'interval': 'HDI', 'lower': 0.893070313524859, 'upper': 0.9424374822392725}, 'f1': {'value': 0.7391304347826088, 'mean': 0.7379935017026475, 'interval': 'HDI', 'lower': 0.676470588235294, 'upper': 0.7958477508650519}, 'acc': {'value': 0.8690909090909091, 'mean': 0.86846, 'interval': 'HDI', 'lower': 0.8381818181818181, 'upper': 0.8945454545454545}, 'bacc': {'value': 0.8040804373291683, 'mean': 0.8025512115058168, 'interval': 'HDI', 'lower': 0.7578034778824749, 'upper': 0.8367789431222268}, 'precision': {'value': 0.85, 'mean': 0.8499811841318846, 'interval': 'HDI', 'lower': 0.7886178861788617, 'upper': 0.9083333333333333}, 'sensitivity': {'value': 0.6538461538461539, 'mean': 0.6538461538461539, 'interval': 'HDI', 'lower': 0.6538461538461539, 'upper': 0.6538461538461539}, 'specificity': {'value': 0.9543147208121827, 'mean': 0.9543147208121829, 'interval': 'HDI', 'lower': 0.9543147208121827, 'upper': 0.9543147208121827}, 'avgprec': {'value': 0.8503885543104862, 'mean': 0.8510123839895211, 'interval': 'HDI', 'lower': 0.8016103055132728, 'upper': 0.8938323347114451}, 'ece': {'value': 0.07098693438551641, 'mean': 0.07418826935272188, 'interval': 'HDI', 'lower': 0.050268702913414356, 'upper': 0.09833813789215953}, 'mce': {'value': 0.16475330007837174, 'mean': 0.16951091939075133, 'interval': 'HDI', 'lower': 0.08392025511476059, 'upper': 0.255060396194458}}, 'model-positive-13-adamw-lc1-2021-03-03-wout-flood-penalty': {'auc': {'value': 0.8963458284524274, 'mean': 0.895479803310954, 'interval': 'HDI', 'lower': 0.8640814072202045, 'upper': 0.9234166666666667}, 'f1': {'value': 0.6969696969696971, 'mean': 0.6880791557554942, 'interval': 'HDI', 'lower': 0.6153846153846154, 'upper': 0.7508532423208192}, 'acc': {'value': 0.8545454545454545, 'mean': 0.8507327272727273, 'interval': 'HDI', 'lower': 0.8181818181818182, 'upper': 0.8781818181818182}, 'bacc': {'value': 0.7745672263438761, 'mean': 0.7696773132637802, 'interval': 'HDI', 'lower': 0.7287660256410255, 'upper': 0.8097283211890169}, 'precision': {'value': 0.8518518518518519, 'mean': 0.849292418570844, 'interval': 'HDI', 'lower': 0.7835051546391752, 'upper': 0.9181818181818182}, 'sensitivity': {'value': 0.5897435897435898, 'mean': 0.5897435897435896, 'interval': 'HDI', 'lower': 0.5897435897435898, 'upper': 0.5897435897435898}, 'specificity': {'value': 0.9593908629441624, 'mean': 0.9593908629441628, 'interval': 'HDI', 'lower': 0.9593908629441624, 'upper': 0.9593908629441624}, 'avgprec': {'value': 0.8272944747519241, 'mean': 0.8264956082571, 'interval': 'HDI', 'lower': 0.7718848057189356, 'upper': 0.8714539540788638}, 'ece': {'value': 0.061995741724967954, 'mean': 0.0624138469990695, 'interval': 'HDI', 'lower': 0.03676875589923424, 'upper': 0.08888081938028336}, 'mce': {'value': 0.14916782719748356, 'mean': 0.16245178570878976, 'interval': 'HDI', 'lower': 0.08566582202911377, 'upper': 0.24576428303351772}}, 'model-positive-13-adamw-lc1-2021-03-03-wout-dropout': {'auc': {'value': 0.8782051282051282, 'mean': 0.8770073313749237, 'interval': 'HDI', 'lower': 0.8457401555663588, 'upper': 0.913803317535545}, 'f1': {'value': 0.7285714285714286, 'mean': 0.7165854303417111, 'interval': 'HDI', 'lower': 0.6594202898550724, 'upper': 0.7826086956521741}, 'acc': {'value': 0.8618181818181818, 'mean': 0.8566036363636362, 'interval': 'HDI', 'lower': 0.8254545454545454, 'upper': 0.8836363636363637}, 'bacc': {'value': 0.7990042951971886, 'mean': 0.7911551382685548, 'interval': 'HDI', 'lower': 0.7530457136470325, 'upper': 0.8338063702302112}, 'precision': {'value': 0.8225806451612904, 'mean': 0.8193541656845122, 'interval': 'HDI', 'lower': 0.75, 'upper': 0.8932038834951457}, 'sensitivity': {'value': 0.6538461538461539, 'mean': 0.6538461538461539, 'interval': 'HDI', 'lower': 0.6538461538461539, 'upper': 0.6538461538461539}, 'specificity': {'value': 0.9441624365482234, 'mean': 0.9441624365482237, 'interval': 'HDI', 'lower': 0.9441624365482234, 'upper': 0.9441624365482234}, 'avgprec': {'value': 0.8027095148109575, 'mean': 0.801434718782582, 'interval': 'HDI', 'lower': 0.742717003082943, 'upper': 0.851167846976023}, 'ece': {'value': 0.04219792739911512, 'mean': 0.05136030820973895, 'interval': 'HDI', 'lower': 0.028819968131455504, 'upper': 0.07501913198015908}, 'mce': {'value': 0.11791786551475525, 'mean': 0.1284494905314637, 'interval': 'HDI', 'lower': 0.07106884011701375, 'upper': 0.18862616404508936}}, 'model-positive-13-adamw-lc1-2021-03-03-wout-soft-label-slope': {'auc': {'value': 0.9184075231029546, 'mean': 0.9178984567978291, 'interval': 'HDI', 'lower': 0.8915014958863127, 'upper': 0.9412813406589844}, 'f1': {'value': 0.649789029535865, 'mean': 0.6464431984056489, 'interval': 'HDI', 'lower': 0.5789473684210525, 'upper': 0.7191011235955055}, 'acc': {'value': 0.8490909090909091, 'mean': 0.8482999999999999, 'interval': 'HDI', 'lower': 0.8163636363636364, 'upper': 0.8745454545454545}, 'bacc': {'value': 0.7417187296628921, 'mean': 0.7394120856461466, 'interval': 'HDI', 'lower': 0.6980073129061617, 'upper': 0.775191289481983}, 'precision': {'value': 0.9506172839506173, 'mean': 0.9504643520221336, 'interval': 'HDI', 'lower': 0.9066666666666666, 'upper': 0.989247311827957}, 'sensitivity': {'value': 0.4935897435897436, 'mean': 0.4935897435897436, 'interval': 'HDI', 'lower': 0.4935897435897436, 'upper': 0.4935897435897436}, 'specificity': {'value': 0.9898477157360406, 'mean': 0.9898477157360406, 'interval': 'HDI', 'lower': 0.9898477157360406, 'upper': 0.9898477157360406}, 'avgprec': {'value': 0.855890526562236, 'mean': 0.8555457076790716, 'interval': 'HDI', 'lower': 0.810019973556441, 'upper': 0.9035371969169645}, 'ece': {'value': 0.07184450615536084, 'mean': 0.07333434877658974, 'interval': 'HDI', 'lower': 0.04789973944425582, 'upper': 0.09775404848835684}, 'mce': {'value': 0.3152490796581391, 'mean': 0.3409660600263036, 'interval': 'HDI', 'lower': 0.23377656596047536, 'upper': 0.45843256711959834}}, 'model-positive-13-adamw-lc1-2021-03-03-wout-soft-label': {'auc': {'value': 0.877798386047117, 'mean': 0.877341095052721, 'interval': 'HDI', 'lower': 0.8421634615384614, 'upper': 0.909500189561481}, 'f1': {'value': 0.6992481203007519, 'mean': 0.7002141435178251, 'interval': 'HDI', 'lower': 0.6370967741935484, 'upper': 0.758893280632411}, 'acc': {'value': 0.8545454545454545, 'mean': 0.8559727272727273, 'interval': 'HDI', 'lower': 0.8272727272727273, 'upper': 0.8872727272727273}, 'bacc': {'value': 0.7765033190160093, 'mean': 0.7769452390953281, 'interval': 'HDI', 'lower': 0.7331007115489874, 'upper': 0.8159051838138058}, 'precision': {'value': 0.8454545454545455, 'mean': 0.8492613264265774, 'interval': 'HDI', 'lower': 0.7798165137614679, 'upper': 0.9174311926605505}, 'sensitivity': {'value': 0.5961538461538461, 'mean': 0.5961538461538461, 'interval': 'HDI', 'lower': 0.5961538461538461, 'upper': 0.5961538461538461}, 'specificity': {'value': 0.9568527918781726, 'mean': 0.9568527918781728, 'interval': 'HDI', 'lower': 0.9568527918781726, 'upper': 0.9568527918781726}, 'avgprec': {'value': 0.8048048320084689, 'mean': 0.8067327491722222, 'interval': 'HDI', 'lower': 0.7538845836437591, 'upper': 0.8614365243952913}, 'ece': {'value': 0.09832445503635841, 'mean': 0.09671502793076092, 'interval': 'HDI', 'lower': 0.06520509207790547, 'upper': 0.1263662411137061}, 'mce': {'value': 0.3753812313079834, 'mean': 0.3518624392904634, 'interval': 'HDI', 'lower': 0.2271408041318258, 'upper': 0.3967355489730835}}, 'model-positive-13-adamw-lc1-2021-03-03-wout-lambdas': {'auc': {'value': 0.8985259664193673, 'mean': 0.8991776355119557, 'interval': 'HDI', 'lower': 0.8718589539691916, 'upper': 0.9277771025765679}, 'f1': {'value': 0.7018867924528301, 'mean': 0.6966082327957663, 'interval': 'HDI', 'lower': 0.6343612334801761, 'upper': 0.7622377622377623}, 'acc': {'value': 0.8563636363636363, 'mean': 0.85452, 'interval': 'HDI', 'lower': 0.8218181818181818, 'upper': 0.8818181818181818}, 'bacc': {'value': 0.7777723545490043, 'mean': 0.7744744496170961, 'interval': 'HDI', 'lower': 0.7355294475110143, 'upper': 0.8217239764865005}, 'precision': {'value': 0.8532110091743119, 'mean': 0.8476812473668115, 'interval': 'HDI', 'lower': 0.7766990291262136, 'upper': 0.9181818181818182}, 'sensitivity': {'value': 0.5961538461538461, 'mean': 0.5961538461538461, 'interval': 'HDI', 'lower': 0.5961538461538461, 'upper': 0.5961538461538461}, 'specificity': {'value': 0.9593908629441624, 'mean': 0.9593908629441628, 'interval': 'HDI', 'lower': 0.9593908629441624, 'upper': 0.9593908629441624}, 'avgprec': {'value': 0.8317796719956664, 'mean': 0.8324300896272946, 'interval': 'HDI', 'lower': 0.7823584584989598, 'upper': 0.8790278846873678}, 'ece': {'value': 0.06338232624259862, 'mean': 0.0644719138400243, 'interval': 'HDI', 'lower': 0.03934799107638273, 'upper': 0.09007325715639375}, 'mce': {'value': 0.15926610339771619, 'mean': 0.1544276325400802, 'interval': 'HDI', 'lower': 0.08563862522165258, 'upper': 0.2368703051046892}}, 'model-positive-13-adamw-lc1-2021-03-03-wout-wd': {'auc': {'value': 0.8970616946505271, 'mean': 0.8960771133629439, 'interval': 'HDI', 'lower': 0.8674807279160875, 'upper': 0.9250278012913077}, 'f1': {'value': 0.6943396226415095, 'mean': 0.6988080909868328, 'interval': 'HDI', 'lower': 0.6307692307692309, 'upper': 0.7605633802816901}, 'acc': {'value': 0.8527272727272728, 'mean': 0.8539963636363636, 'interval': 'HDI', 'lower': 0.8218181818181818, 'upper': 0.8818181818181818}, 'bacc': {'value': 0.7732981908108811, 'mean': 0.7753310681782709, 'interval': 'HDI', 'lower': 0.7366680277664353, 'upper': 0.8197645181986856}, 'precision': {'value': 0.8440366972477065, 'mean': 0.8510571994270706, 'interval': 'HDI', 'lower': 0.782258064516129, 'upper': 0.9159663865546218}, 'sensitivity': {'value': 0.5897435897435898, 'mean': 0.5897435897435896, 'interval': 'HDI', 'lower': 0.5897435897435898, 'upper': 0.5897435897435898}, 'specificity': {'value': 0.9568527918781726, 'mean': 0.9568527918781728, 'interval': 'HDI', 'lower': 0.9568527918781726, 'upper': 0.9568527918781726}, 'avgprec': {'value': 0.8297516283609051, 'mean': 0.8282437470615791, 'interval': 'HDI', 'lower': 0.7774264740209846, 'upper': 0.8798624213718512}, 'ece': {'value': 0.06316337070681832, 'mean': 0.0656256810698455, 'interval': 'HDI', 'lower': 0.039135015904903425, 'upper': 0.09012405512007798}, 'mce': {'value': 0.16565812327140983, 'mean': 0.17314072238810302, 'interval': 'HDI', 'lower': 0.09101747274398808, 'upper': 0.25416806688556426}}, 'model-positive-13-adamw-lc2-2021-03-03-wout-soft-label': {'auc': {'value': 0.8742678641155798, 'mean': 0.874959265503593, 'interval': 'HDI', 'lower': 0.840681140911026, 'upper': 0.9079094988780853}, 'f1': {'value': 0.704119850187266, 'mean': 0.7012350845614947, 'interval': 'HDI', 'lower': 0.6337448559670782, 'upper': 0.762589928057554}, 'acc': {'value': 0.8563636363636363, 'mean': 0.8549800000000001, 'interval': 'HDI', 'lower': 0.8236363636363636, 'upper': 0.8818181818181818}, 'bacc': {'value': 0.7797084472211375, 'mean': 0.7788187776752028, 'interval': 'HDI', 'lower': 0.7360792192881744, 'upper': 0.8200144327309237}, 'precision': {'value': 0.8468468468468469, 'mean': 0.8445170319136763, 'interval': 'HDI', 'lower': 0.7735849056603774, 'upper': 0.9139784946236559}, 'sensitivity': {'value': 0.6025641025641025, 'mean': 0.6025641025641024, 'interval': 'HDI', 'lower': 0.6025641025641025, 'upper': 0.6025641025641025}, 'specificity': {'value': 0.9568527918781726, 'mean': 0.9568527918781728, 'interval': 'HDI', 'lower': 0.9568527918781726, 'upper': 0.9568527918781726}, 'avgprec': {'value': 0.800666859184875, 'mean': 0.8009043081475441, 'interval': 'HDI', 'lower': 0.7458246028041458, 'upper': 0.8588830735360783}, 'ece': {'value': 0.05374705596403642, 'mean': 0.06314963911564919, 'interval': 'HDI', 'lower': 0.03938494248823686, 'upper': 0.08678411960601806}, 'mce': {'value': 0.3068561829053439, 'mean': 0.3065364975457872, 'interval': 'HDI', 'lower': 0.25342460189546856, 'upper': 0.35394489765167236}}, 'model-positive-13-adamw-lc2-2021-03-03-wout-flood-penalty': {'auc': {'value': 0.8935799817779513, 'mean': 0.8929292609377443, 'interval': 'HDI', 'lower': 0.8647074908716563, 'upper': 0.9201308829513088}, 'f1': {'value': 0.711267605633803, 'mean': 0.7146329410734263, 'interval': 'HDI', 'lower': 0.6555183946488294, 'upper': 0.7774294670846394}, 'acc': {'value': 0.850909090909091, 'mean': 0.8528, 'interval': 'HDI', 'lower': 0.82, 'upper': 0.88}, 'bacc': {'value': 0.7894539893270858, 'mean': 0.7917282125903599, 'interval': 'HDI', 'lower': 0.7531289910600256, 'upper': 0.8291847041847042}, 'precision': {'value': 0.7890625, 'mean': 0.7907710363645095, 'interval': 'HDI', 'lower': 0.71875, 'upper': 0.8596491228070176}, 'sensitivity': {'value': 0.6474358974358975, 'mean': 0.6474358974358976, 'interval': 'HDI', 'lower': 0.6474358974358975, 'upper': 0.6474358974358975}, 'specificity': {'value': 0.9314720812182741, 'mean': 0.9314720812182741, 'interval': 'HDI', 'lower': 0.9314720812182741, 'upper': 0.9314720812182741}, 'avgprec': {'value': 0.8179838042277642, 'mean': 0.8177792083132752, 'interval': 'HDI', 'lower': 0.7705521928778972, 'upper': 0.8659305751061454}, 'ece': {'value': 0.0660692654956471, 'mean': 0.06634692037564922, 'interval': 'HDI', 'lower': 0.041035648448900744, 'upper': 0.09385743478482418}, 'mce': {'value': 0.13729568137678994, 'mean': 0.14135215921174188, 'interval': 'HDI', 'lower': 0.07270674440595837, 'upper': 0.22772073287230277}}, 'model-positive-13-adamw-lc2-2021-03-03-wout-soft-label-slope': {'auc': {'value': 0.9238090589613434, 'mean': 0.9240133665675222, 'interval': 'HDI', 'lower': 0.8983223852093314, 'upper': 0.9465594591179073}, 'f1': {'value': 0.6446280991735538, 'mean': 0.6486764426299594, 'interval': 'HDI', 'lower': 0.5871559633027523, 'upper': 0.7211895910780669}, 'acc': {'value': 0.8436363636363636, 'mean': 0.845670909090909, 'interval': 'HDI', 'lower': 0.8163636363636364, 'upper': 0.8745454545454545}, 'bacc': {'value': 0.7398477157360406, 'mean': 0.7431918344580851, 'interval': 'HDI', 'lower': 0.7060024499795835, 'upper': 0.7829721362229102}, 'precision': {'value': 0.9069767441860465, 'mean': 0.9084770044159541, 'interval': 'HDI', 'lower': 0.8484848484848485, 'upper': 0.967032967032967}, 'sensitivity': {'value': 0.5, 'mean': 0.5, 'interval': 'HDI', 'lower': 0.5, 'upper': 0.5}, 'specificity': {'value': 0.9796954314720813, 'mean': 0.979695431472081, 'interval': 'HDI', 'lower': 0.9796954314720813, 'upper': 0.9796954314720813}, 'avgprec': {'value': 0.8585041207225912, 'mean': 0.8571385275052742, 'interval': 'HDI', 'lower': 0.8096427382211531, 'upper': 0.8985742784368005}, 'ece': {'value': 0.05983405476266687, 'mean': 0.06571027700255948, 'interval': 'HDI', 'lower': 0.04280942163684152, 'upper': 0.08961457900025628}, 'mce': {'value': 0.25286956060500376, 'mean': 0.273602550778524, 'interval': 'HDI', 'lower': 0.18299061421192053, 'upper': 0.37419667045275373}}, 'model-positive-13-adamw-lc2-2021-03-03-wout-wd': {'auc': {'value': 0.8932545880515423, 'mean': 0.8930682796214046, 'interval': 'HDI', 'lower': 0.8652697116269729, 'upper': 0.9214039940073426}, 'f1': {'value': 0.7272727272727272, 'mean': 0.7251522181404468, 'interval': 'HDI', 'lower': 0.66147859922179, 'upper': 0.7820069204152248}, 'acc': {'value': 0.8581818181818182, 'mean': 0.8571981818181816, 'interval': 'HDI', 'lower': 0.8309090909090909, 'upper': 0.8872727272727273}, 'bacc': {'value': 0.8003384094754653, 'mean': 0.8001221707420636, 'interval': 'HDI', 'lower': 0.7580185086141229, 'upper': 0.8369170665682293}, 'precision': {'value': 0.8, 'mean': 0.7964023758797866, 'interval': 'HDI', 'lower': 0.7194244604316546, 'upper': 0.8633093525179856}, 'sensitivity': {'value': 0.6666666666666666, 'mean': 0.6666666666666665, 'interval': 'HDI', 'lower': 0.6666666666666666, 'upper': 0.6666666666666666}, 'specificity': {'value': 0.934010152284264, 'mean': 0.934010152284264, 'interval': 'HDI', 'lower': 0.934010152284264, 'upper': 0.934010152284264}, 'avgprec': {'value': 0.817796069514154, 'mean': 0.8185068908014688, 'interval': 'HDI', 'lower': 0.7701635557199894, 'upper': 0.8704330079939693}, 'ece': {'value': 0.06636076629161834, 'mean': 0.06722707078155198, 'interval': 'HDI', 'lower': 0.0416963869197802, 'upper': 0.09264820066365329}, 'mce': {'value': 0.12424065496610559, 'mean': 0.1373278422175569, 'interval': 'HDI', 'lower': 0.06668098998624228, 'upper': 0.21251116514205937}}, 'model-positive-13-adamw-lc2-2021-03-03-wout-dropout': {'auc': {'value': 0.8933359364831446, 'mean': 0.8929034662608919, 'interval': 'HDI', 'lower': 0.8641016533195556, 'upper': 0.9224821836762135}, 'f1': {'value': 0.7050359712230215, 'mean': 0.7046320990160362, 'interval': 'HDI', 'lower': 0.6428571428571428, 'upper': 0.7671232876712328}, 'acc': {'value': 0.850909090909091, 'mean': 0.8499818181818182, 'interval': 'HDI', 'lower': 0.82, 'upper': 0.8781818181818182}, 'bacc': {'value': 0.7836457113106859, 'mean': 0.7836676567636067, 'interval': 'HDI', 'lower': 0.7412941677309494, 'upper': 0.8218582887700535}, 'precision': {'value': 0.8032786885245902, 'mean': 0.7990392792453932, 'interval': 'HDI', 'lower': 0.717948717948718, 'upper': 0.865546218487395}, 'sensitivity': {'value': 0.6282051282051282, 'mean': 0.628205128205128, 'interval': 'HDI', 'lower': 0.6282051282051282, 'upper': 0.6282051282051282}, 'specificity': {'value': 0.9390862944162437, 'mean': 0.9390862944162437, 'interval': 'HDI', 'lower': 0.9390862944162437, 'upper': 0.9390862944162437}, 'avgprec': {'value': 0.8115011718347777, 'mean': 0.8089531387760853, 'interval': 'HDI', 'lower': 0.751825057371435, 'upper': 0.8591874573642932}, 'ece': {'value': 0.049234299442984845, 'mean': 0.05422813553646207, 'interval': 'HDI', 'lower': 0.028934747942469346, 'upper': 0.07827398863705723}, 'mce': {'value': 0.12562762682254502, 'mean': 0.14113919246092851, 'interval': 'HDI', 'lower': 0.06929578099931988, 'upper': 0.2160110347198717}}, 'model-positive-13-adamw-lc2-2021-03-03-wout-lambdas': {'auc': {'value': 0.8953371079005596, 'mean': 0.8941008431714452, 'interval': 'HDI', 'lower': 0.8639588901616393, 'upper': 0.9232650424510889}, 'f1': {'value': 0.7208480565371025, 'mean': 0.7185823394567584, 'interval': 'HDI', 'lower': 0.6557377049180327, 'upper': 0.7777777777777778}, 'acc': {'value': 0.8563636363636363, 'mean': 0.85578, 'interval': 'HDI', 'lower': 0.8272727272727273, 'upper': 0.8854545454545455}, 'bacc': {'value': 0.7951971885982039, 'mean': 0.7951494178784063, 'interval': 'HDI', 'lower': 0.7528275793944782, 'upper': 0.8345483520954835}, 'precision': {'value': 0.8031496062992126, 'mean': 0.7994113813872515, 'interval': 'HDI', 'lower': 0.7278911564625851, 'upper': 0.8712121212121212}, 'sensitivity': {'value': 0.6538461538461539, 'mean': 0.6538461538461539, 'interval': 'HDI', 'lower': 0.6538461538461539, 'upper': 0.6538461538461539}, 'specificity': {'value': 0.9365482233502538, 'mean': 0.9365482233502539, 'interval': 'HDI', 'lower': 0.9365482233502538, 'upper': 0.9365482233502538}, 'avgprec': {'value': 0.8202894470582562, 'mean': 0.819932854904082, 'interval': 'HDI', 'lower': 0.7665754850534272, 'upper': 0.8728701495865815}, 'ece': {'value': 0.06878775669769807, 'mean': 0.06913685192744705, 'interval': 'HDI', 'lower': 0.042987361753528755, 'upper': 0.0944098354469646}, 'mce': {'value': 0.12484427120374597, 'mean': 0.14100222020544476, 'interval': 'HDI', 'lower': 0.07315727995663157, 'upper': 0.22190524275238455}}, 'model-positive-13-adamw-lc3-2021-03-03-wout-dropout': {'auc': {'value': 0.8939216451906807, 'mean': 0.8942710238405248, 'interval': 'HDI', 'lower': 0.8644833333333334, 'upper': 0.9240990700077499}, 'f1': {'value': 0.7132867132867133, 'mean': 0.7037095168572084, 'interval': 'HDI', 'lower': 0.640926640926641, 'upper': 0.7664233576642335}, 'acc': {'value': 0.850909090909091, 'mean': 0.8460763636363636, 'interval': 'HDI', 'lower': 0.8145454545454546, 'upper': 0.8763636363636363}, 'bacc': {'value': 0.791390081999219, 'mean': 0.7840958212262856, 'interval': 'HDI', 'lower': 0.745021645021645, 'upper': 0.825036075036075}, 'precision': {'value': 0.7846153846153846, 'mean': 0.779591342972795, 'interval': 'HDI', 'lower': 0.7014925373134329, 'upper': 0.8484848484848485}, 'sensitivity': {'value': 0.6538461538461539, 'mean': 0.6538461538461539, 'interval': 'HDI', 'lower': 0.6538461538461539, 'upper': 0.6538461538461539}, 'specificity': {'value': 0.9289340101522843, 'mean': 0.9289340101522844, 'interval': 'HDI', 'lower': 0.9289340101522843, 'upper': 0.9289340101522843}, 'avgprec': {'value': 0.8138009047602666, 'mean': 0.8118856374638656, 'interval': 'HDI', 'lower': 0.7503495056526008, 'upper': 0.8579611911083808}, 'ece': {'value': 0.05203301082957875, 'mean': 0.0538683658327257, 'interval': 'HDI', 'lower': 0.029149447097019724, 'upper': 0.08047628324140202}, 'mce': {'value': 0.0922196214849299, 'mean': 0.12200547279873115, 'interval': 'HDI', 'lower': 0.061183235645294154, 'upper': 0.19774346275532495}}, 'model-positive-13-adamw-lc3-2021-03-03-wout-soft-label-slope': {'auc': {'value': 0.9247038917089678, 'mean': 0.9246398136377013, 'interval': 'HDI', 'lower': 0.9004862337987211, 'upper': 0.945887145303893}, 'f1': {'value': 0.6473029045643154, 'mean': 0.6477490069285041, 'interval': 'HDI', 'lower': 0.5714285714285715, 'upper': 0.7154471544715447}, 'acc': {'value': 0.8454545454545455, 'mean': 0.8454018181818183, 'interval': 'HDI', 'lower': 0.8127272727272727, 'upper': 0.8727272727272727}, 'bacc': {'value': 0.7411167512690355, 'mean': 0.741550791530726, 'interval': 'HDI', 'lower': 0.7011579994316567, 'upper': 0.780115663836594}, 'precision': {'value': 0.9176470588235294, 'mean': 0.9201133561825575, 'interval': 'HDI', 'lower': 0.8620689655172413, 'upper': 0.975}, 'sensitivity': {'value': 0.5, 'mean': 0.5, 'interval': 'HDI', 'lower': 0.5, 'upper': 0.5}, 'specificity': {'value': 0.9822335025380711, 'mean': 0.9822335025380707, 'interval': 'HDI', 'lower': 0.9822335025380711, 'upper': 0.9822335025380711}, 'avgprec': {'value': 0.8623031262399559, 'mean': 0.8625618109172535, 'interval': 'HDI', 'lower': 0.8126962850336115, 'upper': 0.9030361157184776}, 'ece': {'value': 0.06340739488601684, 'mean': 0.06833284306570482, 'interval': 'HDI', 'lower': 0.04556379876353524, 'upper': 0.09176584904844112}, 'mce': {'value': 0.24605339424950734, 'mean': 0.2777239399613426, 'interval': 'HDI', 'lower': 0.19256849037973506, 'upper': 0.3701153327437008}}, 'model-positive-13-adamw-lc3-2021-03-03-wout-wd': {'auc': {'value': 0.9004295197188598, 'mean': 0.8996354070663739, 'interval': 'HDI', 'lower': 0.8672916666666667, 'upper': 0.9259920539175474}, 'f1': {'value': 0.7117437722419929, 'mean': 0.7158430812844984, 'interval': 'HDI', 'lower': 0.656934306569343, 'upper': 0.7741935483870969}, 'acc': {'value': 0.8527272727272728, 'mean': 0.8553963636363637, 'interval': 'HDI', 'lower': 0.8272727272727273, 'upper': 0.88}, 'bacc': {'value': 0.7887869321879475, 'mean': 0.791504565222102, 'interval': 'HDI', 'lower': 0.7534562211981566, 'upper': 0.8286980762062204}, 'precision': {'value': 0.8, 'mean': 0.8068880936400276, 'interval': 'HDI', 'lower': 0.7317073170731707, 'upper': 0.8770491803278688}, 'sensitivity': {'value': 0.6410256410256411, 'mean': 0.6410256410256411, 'interval': 'HDI', 'lower': 0.6410256410256411, 'upper': 0.6410256410256411}, 'specificity': {'value': 0.9365482233502538, 'mean': 0.9365482233502539, 'interval': 'HDI', 'lower': 0.9365482233502538, 'upper': 0.9365482233502538}, 'avgprec': {'value': 0.8301124020171159, 'mean': 0.8295755693012384, 'interval': 'HDI', 'lower': 0.7816401515491345, 'upper': 0.8747812934481702}, 'ece': {'value': 0.06485432214357635, 'mean': 0.06660787458734214, 'interval': 'HDI', 'lower': 0.042060305367816575, 'upper': 0.09165863031690771}, 'mce': {'value': 0.12812463400211738, 'mean': 0.14675444311025168, 'interval': 'HDI', 'lower': 0.07699518869904912, 'upper': 0.22428950728202357}}, 'model-positive-13-adamw-lc3-2021-03-03-wout-lambdas': {'auc': {'value': 0.8984446179877652, 'mean': 0.8978528581248985, 'interval': 'HDI', 'lower': 0.8670237578214223, 'upper': 0.9266397778365512}, 'f1': {'value': 0.7137809187279153, 'mean': 0.7147304258042598, 'interval': 'HDI', 'lower': 0.6592592592592592, 'upper': 0.7749077490774908}, 'acc': {'value': 0.8527272727272728, 'mean': 0.854081818181818, 'interval': 'HDI', 'lower': 0.8236363636363636, 'upper': 0.8836363636363637}, 'bacc': {'value': 0.7907230248600807, 'mean': 0.7914568809294028, 'interval': 'HDI', 'lower': 0.7503865806104613, 'upper': 0.8325}, 'precision': {'value': 0.7952755905511811, 'mean': 0.799461770888513, 'interval': 'HDI', 'lower': 0.728, 'upper': 0.8695652173913043}, 'sensitivity': {'value': 0.6474358974358975, 'mean': 0.6474358974358976, 'interval': 'HDI', 'lower': 0.6474358974358975, 'upper': 0.6474358974358975}, 'specificity': {'value': 0.934010152284264, 'mean': 0.934010152284264, 'interval': 'HDI', 'lower': 0.934010152284264, 'upper': 0.934010152284264}, 'avgprec': {'value': 0.8291188556009254, 'mean': 0.8300818211172182, 'interval': 'HDI', 'lower': 0.7807368800366888, 'upper': 0.8780882164666328}, 'ece': {'value': 0.06433660005981273, 'mean': 0.06458610110527141, 'interval': 'HDI', 'lower': 0.03893723752010953, 'upper': 0.08937955145131457}, 'mce': {'value': 0.11198574304580688, 'mean': 0.13576590580037481, 'interval': 'HDI', 'lower': 0.072750985622406, 'upper': 0.20616396268208825}}, 'model-positive-13-adamw-lc3-2021-03-03-wout-soft-label': {'auc': {'value': 0.8939867239359625, 'mean': 0.8926942427269, 'interval': 'HDI', 'lower': 0.8637251073799297, 'upper': 0.9261217948717949}, 'f1': {'value': 0.7049808429118775, 'mean': 0.7116992267032631, 'interval': 'HDI', 'lower': 0.653061224489796, 'upper': 0.7722772277227724}, 'acc': {'value': 0.86, 'mean': 0.8627309090909091, 'interval': 'HDI', 'lower': 0.8345454545454546, 'upper': 0.8909090909090909}, 'bacc': {'value': 0.7783743329428608, 'mean': 0.7830489080347451, 'interval': 'HDI', 'lower': 0.7438116119098228, 'upper': 0.8262529754033325}, 'precision': {'value': 0.8761904761904762, 'mean': 0.880612460779036, 'interval': 'HDI', 'lower': 0.8260869565217391, 'upper': 0.9523809523809523}, 'sensitivity': {'value': 0.5897435897435898, 'mean': 0.5897435897435896, 'interval': 'HDI', 'lower': 0.5897435897435898, 'upper': 0.5897435897435898}, 'specificity': {'value': 0.9670050761421319, 'mean': 0.9670050761421316, 'interval': 'HDI', 'lower': 0.9670050761421319, 'upper': 0.9670050761421319}, 'avgprec': {'value': 0.834423646174967, 'mean': 0.8347144568832074, 'interval': 'HDI', 'lower': 0.7878986169861046, 'upper': 0.879846091119085}, 'ece': {'value': 0.05145927947353232, 'mean': 0.05319843954496153, 'interval': 'HDI', 'lower': 0.03012207665226676, 'upper': 0.07413887598975138}, 'mce': {'value': 0.22354893901131367, 'mean': 0.21944245356533007, 'interval': 'HDI', 'lower': 0.1453717726927537, 'upper': 0.28378622991996894}}, 'model-positive-13-adamw-lc3-2021-03-03-wout-flood-penalty': {'auc': {'value': 0.8999576988155669, 'mean': 0.9011260545554673, 'interval': 'HDI', 'lower': 0.8737394110528439, 'upper': 0.9282809673189596}, 'f1': {'value': 0.7386759581881533, 'mean': 0.7309442405395996, 'interval': 'HDI', 'lower': 0.6690140845070423, 'upper': 0.7864406779661017}, 'acc': {'value': 0.8636363636363636, 'mean': 0.8598909090909092, 'interval': 'HDI', 'lower': 0.8309090909090909, 'upper': 0.889090909090909}, 'bacc': {'value': 0.8080177014187166, 'mean': 0.8016492722812006, 'interval': 'HDI', 'lower': 0.7599206349206349, 'upper': 0.8370169968207386}, 'precision': {'value': 0.8091603053435115, 'mean': 0.8104906542984827, 'interval': 'HDI', 'lower': 0.7477477477477478, 'upper': 0.8846153846153846}, 'sensitivity': {'value': 0.6794871794871795, 'mean': 0.6794871794871794, 'interval': 'HDI', 'lower': 0.6794871794871795, 'upper': 0.6794871794871795}, 'specificity': {'value': 0.9365482233502538, 'mean': 0.9365482233502539, 'interval': 'HDI', 'lower': 0.9365482233502538, 'upper': 0.9365482233502538}, 'avgprec': {'value': 0.8293063057295309, 'mean': 0.8297433407812069, 'interval': 'HDI', 'lower': 0.7773283294321428, 'upper': 0.8732970678539629}, 'ece': {'value': 0.06649675496599891, 'mean': 0.06671356580813229, 'interval': 'HDI', 'lower': 0.04137886131351645, 'upper': 0.0915241833708503}, 'mce': {'value': 0.1138303203870786, 'mean': 0.1378670456687729, 'interval': 'HDI', 'lower': 0.0748479962348938, 'upper': 0.2054039782947964}}, 'model-positive-13-adamw-lc4-2021-03-03-wout-dropout': {'auc': {'value': 0.8706885331250813, 'mean': 0.8705847998653488, 'interval': 'HDI', 'lower': 0.8375352964905203, 'upper': 0.9053377680185998}, 'f1': {'value': 0.6692307692307693, 'mean': 0.6695866381612539, 'interval': 'HDI', 'lower': 0.6015625, 'upper': 0.7331189710610932}, 'acc': {'value': 0.8436363636363636, 'mean': 0.8436181818181817, 'interval': 'HDI', 'lower': 0.8127272727272727, 'upper': 0.8727272727272727}, 'bacc': {'value': 0.7572725497852402, 'mean': 0.7584544139836927, 'interval': 'HDI', 'lower': 0.7190159082500924, 'upper': 0.7964658820417879}, 'precision': {'value': 0.8365384615384616, 'mean': 0.8362913557083675, 'interval': 'HDI', 'lower': 0.7567567567567568, 'upper': 0.90625}, 'sensitivity': {'value': 0.5576923076923077, 'mean': 0.5576923076923075, 'interval': 'HDI', 'lower': 0.5576923076923077, 'upper': 0.5576923076923077}, 'specificity': {'value': 0.9568527918781726, 'mean': 0.9568527918781728, 'interval': 'HDI', 'lower': 0.9568527918781726, 'upper': 0.9568527918781726}, 'avgprec': {'value': 0.7939142592689844, 'mean': 0.7938664498419833, 'interval': 'HDI', 'lower': 0.7433785616992944, 'upper': 0.8473231344561392}, 'ece': {'value': 0.03319949805736541, 'mean': 0.04272695931633155, 'interval': 'HDI', 'lower': 0.01922604964538055, 'upper': 0.06735872425816275}, 'mce': {'value': 0.09400163378034321, 'mean': 0.13532087264763534, 'interval': 'HDI', 'lower': 0.06858172213158953, 'upper': 0.2279771464626964}}, 'model-positive-13-adamw-lc4-2021-03-03-wout-soft-label': {'auc': {'value': 0.8677437199010802, 'mean': 0.8676882110371377, 'interval': 'HDI', 'lower': 0.8338312992690873, 'upper': 0.9008209240168004}, 'f1': {'value': 0.6666666666666667, 'mean': 0.6570678034503357, 'interval': 'HDI', 'lower': 0.5794392523364486, 'upper': 0.7228915662650602}, 'acc': {'value': 0.8472727272727273, 'mean': 0.8437527272727273, 'interval': 'HDI', 'lower': 0.8127272727272727, 'upper': 0.8727272727272727}, 'bacc': {'value': 0.7540023428348301, 'mean': 0.7480731067561539, 'interval': 'HDI', 'lower': 0.7042215564115978, 'upper': 0.7853681463833649}, 'precision': {'value': 0.875, 'mean': 0.8710563897064585, 'interval': 'HDI', 'lower': 0.8041237113402062, 'upper': 0.9369369369369369}, 'sensitivity': {'value': 0.5384615384615384, 'mean': 0.5384615384615384, 'interval': 'HDI', 'lower': 0.5384615384615384, 'upper': 0.5384615384615384}, 'specificity': {'value': 0.9695431472081218, 'mean': 0.9695431472081216, 'interval': 'HDI', 'lower': 0.9695431472081218, 'upper': 0.9695431472081218}, 'avgprec': {'value': 0.7869145006355669, 'mean': 0.7859189690547992, 'interval': 'HDI', 'lower': 0.724394042259451, 'upper': 0.8437669241161809}, 'ece': {'value': 0.08621938364072279, 'mean': 0.08651601742923937, 'interval': 'HDI', 'lower': 0.056913439225066795, 'upper': 0.11644830362363295}, 'mce': {'value': 0.31692370676225234, 'mean': 0.3166833821166515, 'interval': 'HDI', 'lower': 0.2512941685589877, 'upper': 0.3667330741882324}}, 'model-positive-13-adamw-lc4-2021-03-03-wout-soft-label-slope': {'auc': {'value': 0.929178055447091, 'mean': 0.9287865802115995, 'interval': 'HDI', 'lower': 0.9053817884850959, 'upper': 0.9510545232605452}, 'f1': {'value': 0.6052631578947368, 'mean': 0.6095850818527676, 'interval': 'HDI', 'lower': 0.5380710659898478, 'upper': 0.6827309236947792}, 'acc': {'value': 0.8363636363636363, 'mean': 0.8384763636363637, 'interval': 'HDI', 'lower': 0.8090909090909091, 'upper': 0.8709090909090909}, 'bacc': {'value': 0.7173467395548614, 'mean': 0.7193697345723499, 'interval': 'HDI', 'lower': 0.6834056693340567, 'upper': 0.7608519769241593}, 'precision': {'value': 0.9583333333333334, 'mean': 0.9600340260704634, 'interval': 'HDI', 'lower': 0.9213483146067416, 'upper': 1.0}, 'sensitivity': {'value': 0.4423076923076923, 'mean': 0.4423076923076925, 'interval': 'HDI', 'lower': 0.4423076923076923, 'upper': 0.4423076923076923}, 'specificity': {'value': 0.9923857868020305, 'mean': 0.9923857868020305, 'interval': 'HDI', 'lower': 0.9923857868020305, 'upper': 0.9923857868020305}, 'avgprec': {'value': 0.8650413068524853, 'mean': 0.8647814252654097, 'interval': 'HDI', 'lower': 0.8207821552722714, 'upper': 0.9110211257971419}, 'ece': {'value': 0.0813149822571061, 'mean': 0.08248700325073234, 'interval': 'HDI', 'lower': 0.05753095602447336, 'upper': 0.10814097881994461}, 'mce': {'value': 0.2950063513384925, 'mean': 0.31586084746290516, 'interval': 'HDI', 'lower': 0.2320767142334763, 'upper': 0.4144216568573661}}, 'model-positive-13-adamw-lc4-2021-03-03-wout-wd': {'auc': {'value': 0.922458674996746, 'mean': 0.9217126740009238, 'interval': 'HDI', 'lower': 0.8977783655117695, 'upper': 0.9472358563678637}, 'f1': {'value': 0.6693548387096774, 'mean': 0.6733556599246647, 'interval': 'HDI', 'lower': 0.6052631578947368, 'upper': 0.7416666666666667}, 'acc': {'value': 0.850909090909091, 'mean': 0.8520672727272727, 'interval': 'HDI', 'lower': 0.8218181818181818, 'upper': 0.8818181818181818}, 'bacc': {'value': 0.7546043212286867, 'mean': 0.7571006460980282, 'interval': 'HDI', 'lower': 0.7152439024390244, 'upper': 0.7987497698706254}, 'precision': {'value': 0.9021739130434783, 'mean': 0.8972675645860485, 'interval': 'HDI', 'lower': 0.8372093023255814, 'upper': 0.9578947368421052}, 'sensitivity': {'value': 0.532051282051282, 'mean': 0.532051282051282, 'interval': 'HDI', 'lower': 0.532051282051282, 'upper': 0.532051282051282}, 'specificity': {'value': 0.9771573604060914, 'mean': 0.9771573604060911, 'interval': 'HDI', 'lower': 0.9771573604060914, 'upper': 0.9771573604060914}, 'avgprec': {'value': 0.8565981980156987, 'mean': 0.8547940563149674, 'interval': 'HDI', 'lower': 0.8076752116324133, 'upper': 0.9024496024803268}, 'ece': {'value': 0.07570179876956074, 'mean': 0.07758890669165416, 'interval': 'HDI', 'lower': 0.05346811841834675, 'upper': 0.10261226435953918}, 'mce': {'value': 0.209086743093306, 'mean': 0.23991132939028398, 'interval': 'HDI', 'lower': 0.15762253719217634, 'upper': 0.3220568299293518}}, 'model-positive-13-adamw-lc4-2021-03-03-wout-flood-penalty': {'auc': {'value': 0.9228979565273981, 'mean': 0.9223421627059958, 'interval': 'HDI', 'lower': 0.8995004066457534, 'upper': 0.9437481039135225}, 'f1': {'value': 0.6772908366533864, 'mean': 0.6800968073605345, 'interval': 'HDI', 'lower': 0.6090909090909091, 'upper': 0.742857142857143}, 'acc': {'value': 0.8527272727272728, 'mean': 0.8538563636363635, 'interval': 'HDI', 'lower': 0.8218181818181818, 'upper': 0.8818181818181818}, 'bacc': {'value': 0.7597455421059482, 'mean': 0.7609201424232266, 'interval': 'HDI', 'lower': 0.7216813032964235, 'upper': 0.8035714285714286}, 'precision': {'value': 0.8947368421052632, 'mean': 0.8985080912230425, 'interval': 'HDI', 'lower': 0.8350515463917526, 'upper': 0.9560439560439561}, 'sensitivity': {'value': 0.5448717948717948, 'mean': 0.5448717948717948, 'interval': 'HDI', 'lower': 0.5448717948717948, 'upper': 0.5448717948717948}, 'specificity': {'value': 0.9746192893401016, 'mean': 0.9746192893401014, 'interval': 'HDI', 'lower': 0.9746192893401016, 'upper': 0.9746192893401016}, 'avgprec': {'value': 0.8596167900150727, 'mean': 0.8572824096520706, 'interval': 'HDI', 'lower': 0.8136507517306679, 'upper': 0.896234756961868}, 'ece': {'value': 0.06890966152602977, 'mean': 0.07479249673914637, 'interval': 'HDI', 'lower': 0.05137015681375156, 'upper': 0.09977862001820044}, 'mce': {'value': 0.2449539864764494, 'mean': 0.256098794735176, 'interval': 'HDI', 'lower': 0.1777539934430804, 'upper': 0.32702647280274777}}, 'model-positive-13-adamw-lc4-2021-03-03-wout-lambdas': {'auc': {'value': 0.9227840687231551, 'mean': 0.9227352553432352, 'interval': 'HDI', 'lower': 0.8986731576937763, 'upper': 0.9465053361881526}, 'f1': {'value': 0.6772908366533864, 'mean': 0.679019309349051, 'interval': 'HDI', 'lower': 0.6146788990825688, 'upper': 0.7461538461538462}, 'acc': {'value': 0.8527272727272728, 'mean': 0.8535781818181819, 'interval': 'HDI', 'lower': 0.8236363636363636, 'upper': 0.88}, 'bacc': {'value': 0.7597455421059482, 'mean': 0.7617041159266206, 'interval': 'HDI', 'lower': 0.7255355725998412, 'upper': 0.8024904182496778}, 'precision': {'value': 0.8947368421052632, 'mean': 0.8961018524905291, 'interval': 'HDI', 'lower': 0.8383838383838383, 'upper': 0.9620253164556962}, 'sensitivity': {'value': 0.5448717948717948, 'mean': 0.5448717948717948, 'interval': 'HDI', 'lower': 0.5448717948717948, 'upper': 0.5448717948717948}, 'specificity': {'value': 0.9746192893401016, 'mean': 0.9746192893401014, 'interval': 'HDI', 'lower': 0.9746192893401016, 'upper': 0.9746192893401016}, 'avgprec': {'value': 0.8586139376176746, 'mean': 0.8586364198428582, 'interval': 'HDI', 'lower': 0.8169690898543596, 'upper': 0.9038195841914977}, 'ece': {'value': 0.07445915334604003, 'mean': 0.07439132556533136, 'interval': 'HDI', 'lower': 0.05075517718087544, 'upper': 0.10030664097179066}, 'mce': {'value': 0.2627124752317156, 'mean': 0.25415973349140725, 'interval': 'HDI', 'lower': 0.17392748431725935, 'upper': 0.3274881839752197}}, 'model-positive-13-adamw-lc5-2021-03-03-wout-soft-label-slope': {'auc': {'value': 0.9278439411688143, 'mean': 0.926734059865627, 'interval': 'HDI', 'lower': 0.9026166804750069, 'upper': 0.949885452462772}, 'f1': {'value': 0.5903083700440528, 'mean': 0.585061615257835, 'interval': 'HDI', 'lower': 0.5116279069767442, 'upper': 0.6614173228346456}, 'acc': {'value': 0.8309090909090909, 'mean': 0.8301436363636362, 'interval': 'HDI', 'lower': 0.8, 'upper': 0.8618181818181818}, 'bacc': {'value': 0.70966744761161, 'mean': 0.7076805296342963, 'interval': 'HDI', 'lower': 0.671671523353254, 'upper': 0.7493280618703289}, 'precision': {'value': 0.9436619718309859, 'mean': 0.9474096603687925, 'interval': 'HDI', 'lower': 0.9, 'upper': 1.0}, 'sensitivity': {'value': 0.42948717948717946, 'mean': 0.42948717948717957, 'interval': 'HDI', 'lower': 0.42948717948717946, 'upper': 0.42948717948717946}, 'specificity': {'value': 0.9898477157360406, 'mean': 0.9898477157360406, 'interval': 'HDI', 'lower': 0.9898477157360406, 'upper': 0.9898477157360406}, 'avgprec': {'value': 0.8621148578292477, 'mean': 0.8607309522481488, 'interval': 'HDI', 'lower': 0.816674888172557, 'upper': 0.9050475731162192}, 'ece': {'value': 0.0904136522385207, 'mean': 0.09067558354838802, 'interval': 'HDI', 'lower': 0.064130103262988, 'upper': 0.11754087702794509}, 'mce': {'value': 0.27018365263938904, 'mean': 0.3212684594506551, 'interval': 'HDI', 'lower': 0.2377438513522453, 'upper': 0.422002624492256}}, 'model-positive-13-adamw-lc5-2021-03-03-wout-dropout': {'auc': {'value': 0.8860796563842249, 'mean': 0.8847830950917298, 'interval': 'HDI', 'lower': 0.8557481766846118, 'upper': 0.9150922532541387}, 'f1': {'value': 0.7054545454545454, 'mean': 0.7038838354997654, 'interval': 'HDI', 'lower': 0.644927536231884, 'upper': 0.7652733118971062}, 'acc': {'value': 0.8527272727272728, 'mean': 0.8503945454545455, 'interval': 'HDI', 'lower': 0.8163636363636364, 'upper': 0.88}, 'bacc': {'value': 0.7829786541715476, 'mean': 0.7836044526253567, 'interval': 'HDI', 'lower': 0.7462916316820599, 'upper': 0.8277150635523418}, 'precision': {'value': 0.8151260504201681, 'mean': 0.8063466216979468, 'interval': 'HDI', 'lower': 0.7272727272727273, 'upper': 0.875}, 'sensitivity': {'value': 0.6217948717948718, 'mean': 0.621794871794872, 'interval': 'HDI', 'lower': 0.6217948717948718, 'upper': 0.6217948717948718}, 'specificity': {'value': 0.9441624365482234, 'mean': 0.9441624365482237, 'interval': 'HDI', 'lower': 0.9441624365482234, 'upper': 0.9441624365482234}, 'avgprec': {'value': 0.792982501301482, 'mean': 0.7915013159031384, 'interval': 'HDI', 'lower': 0.730133149768114, 'upper': 0.847714157248546}, 'ece': {'value': 0.03690608634190126, 'mean': 0.045242193407652044, 'interval': 'HDI', 'lower': 0.022084268033504485, 'upper': 0.0684627569670027}, 'mce': {'value': 0.14317118186576694, 'mean': 0.15811850155778087, 'interval': 'HDI', 'lower': 0.07157886028289795, 'upper': 0.2491247279699459}}, 'model-positive-13-adamw-lc5-2021-03-03-wout-wd': {'auc': {'value': 0.9081738904073929, 'mean': 0.9074714469269108, 'interval': 'HDI', 'lower': 0.8795967650443266, 'upper': 0.9348593035228979}, 'f1': {'value': 0.7593220338983051, 'mean': 0.7546917075543845, 'interval': 'HDI', 'lower': 0.697986577181208, 'upper': 0.8085106382978723}, 'acc': {'value': 0.8709090909090909, 'mean': 0.8694036363636364, 'interval': 'HDI', 'lower': 0.84, 'upper': 0.8981818181818182}, 'bacc': {'value': 0.824710399583496, 'mean': 0.8214274803134022, 'interval': 'HDI', 'lower': 0.7846317581949765, 'upper': 0.8611147844485586}, 'precision': {'value': 0.8057553956834532, 'mean': 0.8062291741395701, 'interval': 'HDI', 'lower': 0.7323943661971831, 'upper': 0.8702290076335878}, 'sensitivity': {'value': 0.717948717948718, 'mean': 0.7179487179487176, 'interval': 'HDI', 'lower': 0.717948717948718, 'upper': 0.717948717948718}, 'specificity': {'value': 0.9314720812182741, 'mean': 0.9314720812182741, 'interval': 'HDI', 'lower': 0.9314720812182741, 'upper': 0.9314720812182741}, 'avgprec': {'value': 0.8394715811533454, 'mean': 0.8398608672089203, 'interval': 'HDI', 'lower': 0.791100107194463, 'upper': 0.8813597909248382}, 'ece': {'value': 0.09161269628188827, 'mean': 0.09061170271041177, 'interval': 'HDI', 'lower': 0.06496357468041507, 'upper': 0.11870666085319086}, 'mce': {'value': 0.11607414797732704, 'mean': 0.143366688916546, 'interval': 'HDI', 'lower': 0.08527892827987671, 'upper': 0.20696512677452783}}, 'model-positive-13-adamw-lc5-2021-03-03-wout-flood-penalty': {'auc': {'value': 0.9106631524144213, 'mean': 0.9103303714102188, 'interval': 'HDI', 'lower': 0.8822732081459932, 'upper': 0.9366357557980654}, 'f1': {'value': 0.7525423728813561, 'mean': 0.7554659374189325, 'interval': 'HDI', 'lower': 0.7002967359050444, 'upper': 0.8079470198675497}, 'acc': {'value': 0.8672727272727273, 'mean': 0.8691309090909092, 'interval': 'HDI', 'lower': 0.8418181818181818, 'upper': 0.8963636363636364}, 'bacc': {'value': 0.820236235845373, 'mean': 0.8227454284706686, 'interval': 'HDI', 'lower': 0.7817092309887288, 'upper': 0.8566966028894963}, 'precision': {'value': 0.7985611510791367, 'mean': 0.8009790147685574, 'interval': 'HDI', 'lower': 0.7241379310344828, 'upper': 0.8642857142857143}, 'sensitivity': {'value': 0.7115384615384616, 'mean': 0.7115384615384616, 'interval': 'HDI', 'lower': 0.7115384615384616, 'upper': 0.7115384615384616}, 'specificity': {'value': 0.9289340101522843, 'mean': 0.9289340101522844, 'interval': 'HDI', 'lower': 0.9289340101522843, 'upper': 0.9289340101522843}, 'avgprec': {'value': 0.8429713685494684, 'mean': 0.8434752321136993, 'interval': 'HDI', 'lower': 0.799330755075672, 'upper': 0.8897880775621028}, 'ece': {'value': 0.09630396786061199, 'mean': 0.09250734075723047, 'interval': 'HDI', 'lower': 0.06687442263418977, 'upper': 0.11950291783972221}, 'mce': {'value': 0.1273210283185615, 'mean': 0.14598649082728438, 'interval': 'HDI', 'lower': 0.08660646769554103, 'upper': 0.2079867971747109}}, 'model-positive-13-adamw-lc5-2021-03-03-wout-lambdas': {'auc': {'value': 0.9097845893531172, 'mean': 0.9099459618946019, 'interval': 'HDI', 'lower': 0.8803909174891817, 'upper': 0.933296301439615}, 'f1': {'value': 0.7628865979381444, 'mean': 0.7550614018420293, 'interval': 'HDI', 'lower': 0.6941580756013744, 'upper': 0.8102893890675241}, 'acc': {'value': 0.8745454545454545, 'mean': 0.8693399999999999, 'interval': 'HDI', 'lower': 0.8381818181818181, 'upper': 0.8963636363636364}, 'bacc': {'value': 0.8253123779773526, 'mean': 0.8203501670717837, 'interval': 'HDI', 'lower': 0.7813801551653736, 'upper': 0.8533856867684101}, 'precision': {'value': 0.8222222222222222, 'mean': 0.8127389958761371, 'interval': 'HDI', 'lower': 0.7457627118644068, 'upper': 0.8814814814814815}, 'sensitivity': {'value': 0.7115384615384616, 'mean': 0.7115384615384616, 'interval': 'HDI', 'lower': 0.7115384615384616, 'upper': 0.7115384615384616}, 'specificity': {'value': 0.9390862944162437, 'mean': 0.9390862944162437, 'interval': 'HDI', 'lower': 0.9390862944162437, 'upper': 0.9390862944162437}, 'avgprec': {'value': 0.8395470621537355, 'mean': 0.8387331510857633, 'interval': 'HDI', 'lower': 0.7915372535559713, 'upper': 0.8841844084138709}, 'ece': {'value': 0.0818079257688739, 'mean': 0.08613351731774888, 'interval': 'HDI', 'lower': 0.060079727091572506, 'upper': 0.11183465204455634}, 'mce': {'value': 0.11997359017141504, 'mean': 0.14111756273226314, 'interval': 'HDI', 'lower': 0.08262205123901367, 'upper': 0.2013417416148715}}, 'model-positive-13-adamw-lc5-2021-03-03-wout-soft-label': {'auc': {'value': 0.8301770141871664, 'mean': 0.8313050579234602, 'interval': 'HDI', 'lower': 0.7906918112141993, 'upper': 0.8665793801593511}, 'f1': {'value': 0.6343283582089551, 'mean': 0.6350324427901546, 'interval': 'HDI', 'lower': 0.5669291338582678, 'upper': 0.707482993197279}, 'acc': {'value': 0.8218181818181818, 'mean': 0.8222745454545456, 'interval': 'HDI', 'lower': 0.7909090909090909, 'upper': 0.8563636363636363}, 'bacc': {'value': 0.7381719380450344, 'mean': 0.7396089191820934, 'interval': 'HDI', 'lower': 0.6973557692307693, 'upper': 0.7798380221653879}, 'precision': {'value': 0.7589285714285714, 'mean': 0.7605374358705826, 'interval': 'HDI', 'lower': 0.6834532374100719, 'upper': 0.8425925925925926}, 'sensitivity': {'value': 0.5448717948717948, 'mean': 0.5448717948717948, 'interval': 'HDI', 'lower': 0.5448717948717948, 'upper': 0.5448717948717948}, 'specificity': {'value': 0.9314720812182741, 'mean': 0.9314720812182741, 'interval': 'HDI', 'lower': 0.9314720812182741, 'upper': 0.9314720812182741}, 'avgprec': {'value': 0.7084741504985488, 'mean': 0.7097752666673504, 'interval': 'HDI', 'lower': 0.634243955091638, 'upper': 0.773345476349422}, 'ece': {'value': 0.06262798447500575, 'mean': 0.07195355420548402, 'interval': 'HDI', 'lower': 0.04645124012773688, 'upper': 0.0980373690751466}, 'mce': {'value': 0.15415364906100407, 'mean': 0.15344574874558367, 'interval': 'HDI', 'lower': 0.09799237847328185, 'upper': 0.20672771351485603}}, 'model-positive-13-adamw-lc6-2021-03-03-wout-wd': {'auc': {'value': 0.9247364310816089, 'mean': 0.9248948367124737, 'interval': 'HDI', 'lower': 0.9016110876600535, 'upper': 0.9471755339315051}, 'f1': {'value': 0.7360594795539033, 'mean': 0.7295107300528798, 'interval': 'HDI', 'lower': 0.6690391459074732, 'upper': 0.7888446215139443}, 'acc': {'value': 0.8709090909090909, 'mean': 0.8687072727272728, 'interval': 'HDI', 'lower': 0.8381818181818181, 'upper': 0.8963636363636364}, 'bacc': {'value': 0.7995411948457634, 'mean': 0.7954802370700182, 'interval': 'HDI', 'lower': 0.7573326851401718, 'upper': 0.8333981371838604}, 'precision': {'value': 0.8761061946902655, 'mean': 0.8706526462692311, 'interval': 'HDI', 'lower': 0.8076923076923077, 'upper': 0.93}, 'sensitivity': {'value': 0.6346153846153846, 'mean': 0.6346153846153848, 'interval': 'HDI', 'lower': 0.6346153846153846, 'upper': 0.6346153846153846}, 'specificity': {'value': 0.9644670050761421, 'mean': 0.9644670050761417, 'interval': 'HDI', 'lower': 0.9644670050761421, 'upper': 0.9644670050761421}, 'avgprec': {'value': 0.8560424376234247, 'mean': 0.8561426581197388, 'interval': 'HDI', 'lower': 0.8086025532967397, 'upper': 0.8962735786730952}, 'ece': {'value': 0.07377974716099826, 'mean': 0.07389306157495894, 'interval': 'HDI', 'lower': 0.05206123915585605, 'upper': 0.0989840601791035}, 'mce': {'value': 0.165887159235934, 'mean': 0.1700533395091683, 'interval': 'HDI', 'lower': 0.08325909192745506, 'upper': 0.2514156668614118}}, 'model-positive-13-adamw-lc6-2021-03-03-wout-soft-label-slope': {'auc': {'value': 0.9291455160744501, 'mean': 0.9290288557220773, 'interval': 'HDI', 'lower': 0.9068779224061672, 'upper': 0.9507214477867449}, 'f1': {'value': 0.6297872340425531, 'mean': 0.6300884853940306, 'interval': 'HDI', 'lower': 0.5504587155963303, 'upper': 0.7008547008547009}, 'acc': {'value': 0.8418181818181818, 'mean': 0.8421236363636363, 'interval': 'HDI', 'lower': 0.8109090909090909, 'upper': 0.8709090909090909}, 'bacc': {'value': 0.7308343095145126, 'mean': 0.7320250245938034, 'interval': 'HDI', 'lower': 0.6884920634920635, 'upper': 0.7680382874681371}, 'precision': {'value': 0.9367088607594937, 'mean': 0.9328912686378764, 'interval': 'HDI', 'lower': 0.8804347826086957, 'upper': 0.9876543209876543}, 'sensitivity': {'value': 0.47435897435897434, 'mean': 0.47435897435897434, 'interval': 'HDI', 'lower': 0.47435897435897434, 'upper': 0.47435897435897434}, 'specificity': {'value': 0.9873096446700508, 'mean': 0.9873096446700504, 'interval': 'HDI', 'lower': 0.9873096446700508, 'upper': 0.9873096446700508}, 'avgprec': {'value': 0.8630707490064466, 'mean': 0.8616793829654932, 'interval': 'HDI', 'lower': 0.8151239827035494, 'upper': 0.9034775384090385}, 'ece': {'value': 0.07828048837455837, 'mean': 0.08197635549832406, 'interval': 'HDI', 'lower': 0.055888778784058304, 'upper': 0.10797676625576888}, 'mce': {'value': 0.30097783651462817, 'mean': 0.31452792388930506, 'interval': 'HDI', 'lower': 0.23280092785435336, 'upper': 0.4135575531384884}}, 'model-positive-13-adamw-lc6-2021-03-03-wout-lambdas': {'auc': {'value': 0.9282344136405051, 'mean': 0.9283383164863335, 'interval': 'HDI', 'lower': 0.9061389218009479, 'upper': 0.9499740581432325}, 'f1': {'value': 0.721189591078067, 'mean': 0.7215915146541584, 'interval': 'HDI', 'lower': 0.6610878661087867, 'upper': 0.7826086956521738}, 'acc': {'value': 0.8636363636363636, 'mean': 0.8662236363636364, 'interval': 'HDI', 'lower': 0.8327272727272728, 'upper': 0.889090909090909}, 'bacc': {'value': 0.7905928673695171, 'mean': 0.7925705971716873, 'interval': 'HDI', 'lower': 0.7518292682926829, 'upper': 0.8306169002909283}, 'precision': {'value': 0.8584070796460177, 'mean': 0.8688770345100004, 'interval': 'HDI', 'lower': 0.8076923076923077, 'upper': 0.9363636363636364}, 'sensitivity': {'value': 0.6217948717948718, 'mean': 0.621794871794872, 'interval': 'HDI', 'lower': 0.6217948717948718, 'upper': 0.6217948717948718}, 'specificity': {'value': 0.9593908629441624, 'mean': 0.9593908629441628, 'interval': 'HDI', 'lower': 0.9593908629441624, 'upper': 0.9593908629441624}, 'avgprec': {'value': 0.8609927626081355, 'mean': 0.8609478441943238, 'interval': 'HDI', 'lower': 0.8141353751743194, 'upper': 0.9011101614896294}, 'ece': {'value': 0.06965029441497543, 'mean': 0.07491128294303742, 'interval': 'HDI', 'lower': 0.05248328436504711, 'upper': 0.09857583501122215}, 'mce': {'value': 0.14014085856350988, 'mean': 0.16153929122254448, 'interval': 'HDI', 'lower': 0.08322632312774658, 'upper': 0.2401113775041368}}, 'model-positive-13-adamw-lc6-2021-03-03-wout-dropout': {'auc': {'value': 0.8799947937003774, 'mean': 0.8788050566605189, 'interval': 'HDI', 'lower': 0.8432116173157647, 'upper': 0.909138423846468}, 'f1': {'value': 0.6940298507462687, 'mean': 0.6904451933290602, 'interval': 'HDI', 'lower': 0.6250000000000001, 'upper': 0.7555555555555556}, 'acc': {'value': 0.850909090909091, 'mean': 0.8500345454545454, 'interval': 'HDI', 'lower': 0.8163636363636364, 'upper': 0.8781818181818182}, 'bacc': {'value': 0.7739652479500195, 'mean': 0.7728941247783648, 'interval': 'HDI', 'lower': 0.7309091464905845, 'upper': 0.8121015868710159}, 'precision': {'value': 0.8303571428571429, 'mean': 0.8326191008885727, 'interval': 'HDI', 'lower': 0.7545454545454545, 'upper': 0.9029126213592233}, 'sensitivity': {'value': 0.5961538461538461, 'mean': 0.5961538461538461, 'interval': 'HDI', 'lower': 0.5961538461538461, 'upper': 0.5961538461538461}, 'specificity': {'value': 0.9517766497461929, 'mean': 0.9517766497461931, 'interval': 'HDI', 'lower': 0.9517766497461929, 'upper': 0.9517766497461929}, 'avgprec': {'value': 0.8061658567916203, 'mean': 0.8045195990744758, 'interval': 'HDI', 'lower': 0.7547836573485195, 'upper': 0.8589098766866667}, 'ece': {'value': 0.043471535119143395, 'mean': 0.05248733581637523, 'interval': 'HDI', 'lower': 0.028134107047861276, 'upper': 0.07754624572667208}, 'mce': {'value': 0.15655408302942908, 'mean': 0.17640536113969466, 'interval': 'HDI', 'lower': 0.09294211864471436, 'upper': 0.25889873685258813}}, 'model-positive-13-adamw-lc6-2021-03-03-wout-flood-penalty': {'auc': {'value': 0.9261193544188469, 'mean': 0.9262794971228316, 'interval': 'HDI', 'lower': 0.9058895238095238, 'upper': 0.9505401535858389}, 'f1': {'value': 0.7164179104477612, 'mean': 0.7222859435347436, 'interval': 'HDI', 'lower': 0.6583333333333333, 'upper': 0.7846153846153846}, 'acc': {'value': 0.8618181818181818, 'mean': 0.8652236363636364, 'interval': 'HDI', 'lower': 0.8363636363636363, 'upper': 0.8927272727272727}, 'bacc': {'value': 0.7873877391643889, 'mean': 0.7912615620298958, 'interval': 'HDI', 'lower': 0.7551200325512003, 'upper': 0.8340810742013491}, 'precision': {'value': 0.8571428571428571, 'mean': 0.8641329883861619, 'interval': 'HDI', 'lower': 0.8, 'upper': 0.9247311827956989}, 'sensitivity': {'value': 0.6153846153846154, 'mean': 0.6153846153846152, 'interval': 'HDI', 'lower': 0.6153846153846154, 'upper': 0.6153846153846154}, 'specificity': {'value': 0.9593908629441624, 'mean': 0.9593908629441628, 'interval': 'HDI', 'lower': 0.9593908629441624, 'upper': 0.9593908629441624}, 'avgprec': {'value': 0.8576048976396377, 'mean': 0.8563337202985521, 'interval': 'HDI', 'lower': 0.8079351495562962, 'upper': 0.8975422630181257}, 'ece': {'value': 0.07485983756455508, 'mean': 0.07532217439351975, 'interval': 'HDI', 'lower': 0.051418075940825717, 'upper': 0.09892395453019577}, 'mce': {'value': 0.14678209092881944, 'mean': 0.1704928214290555, 'interval': 'HDI', 'lower': 0.08802956342697144, 'upper': 0.25468152364095054}}, 'model-positive-13-adamw-lc6-2021-03-03-wout-soft-label': {'auc': {'value': 0.8931244305609787, 'mean': 0.8934451617523159, 'interval': 'HDI', 'lower': 0.8601551653736218, 'upper': 0.9199716830476943}, 'f1': {'value': 0.6926070038910505, 'mean': 0.6920313883380269, 'interval': 'HDI', 'lower': 0.625, 'upper': 0.75177304964539}, 'acc': {'value': 0.8563636363636363, 'mean': 0.8560454545454546, 'interval': 'HDI', 'lower': 0.8254545454545454, 'upper': 0.8836363636363637}, 'bacc': {'value': 0.7700279838604711, 'mean': 0.7696884684929474, 'interval': 'HDI', 'lower': 0.7252886002886003, 'upper': 0.8089264253140382}, 'precision': {'value': 0.8811881188118812, 'mean': 0.8835629124840443, 'interval': 'HDI', 'lower': 0.8217821782178217, 'upper': 0.9479166666666666}, 'sensitivity': {'value': 0.5705128205128205, 'mean': 0.5705128205128204, 'interval': 'HDI', 'lower': 0.5705128205128205, 'upper': 0.5705128205128205}, 'specificity': {'value': 0.9695431472081218, 'mean': 0.9695431472081216, 'interval': 'HDI', 'lower': 0.9695431472081218, 'upper': 0.9695431472081218}, 'avgprec': {'value': 0.8258280042396049, 'mean': 0.8263502669198931, 'interval': 'HDI', 'lower': 0.7814249203091888, 'upper': 0.8774181081773849}, 'ece': {'value': 0.06632609817114743, 'mean': 0.07344425062970208, 'interval': 'HDI', 'lower': 0.04698715426705101, 'upper': 0.099160536961122}, 'mce': {'value': 0.2751887933067654, 'mean': 0.27534403474224317, 'interval': 'HDI', 'lower': 0.21644892295201623, 'upper': 0.3291304111480713}}, 'model-positive-13-adamw-lc7-2021-03-03-wout-dropout': {'auc': {'value': 0.8666861902902512, 'mean': 0.8661527594193134, 'interval': 'HDI', 'lower': 0.830811531953664, 'upper': 0.8980208731067838}, 'f1': {'value': 0.6906474820143885, 'mean': 0.6938101991835669, 'interval': 'HDI', 'lower': 0.631578947368421, 'upper': 0.7567567567567568}, 'acc': {'value': 0.8436363636363636, 'mean': 0.8447054545454545, 'interval': 'HDI', 'lower': 0.8109090909090909, 'upper': 0.8745454545454545}, 'bacc': {'value': 0.7746973838344398, 'mean': 0.7788728580857557, 'interval': 'HDI', 'lower': 0.7392453202943646, 'upper': 0.8237648019599837}, 'precision': {'value': 0.7868852459016393, 'mean': 0.7866621337083355, 'interval': 'HDI', 'lower': 0.7168141592920354, 'upper': 0.8582677165354331}, 'sensitivity': {'value': 0.6153846153846154, 'mean': 0.6153846153846152, 'interval': 'HDI', 'lower': 0.6153846153846154, 'upper': 0.6153846153846154}, 'specificity': {'value': 0.934010152284264, 'mean': 0.934010152284264, 'interval': 'HDI', 'lower': 0.934010152284264, 'upper': 0.934010152284264}, 'avgprec': {'value': 0.7893622862398606, 'mean': 0.7903441145767918, 'interval': 'HDI', 'lower': 0.7340436556571147, 'upper': 0.8415597032681411}, 'ece': {'value': 0.0422962733154947, 'mean': 0.04923672368659892, 'interval': 'HDI', 'lower': 0.02497228015552867, 'upper': 0.0747196341644634}, 'mce': {'value': 0.09731811285018921, 'mean': 0.1329173765443254, 'interval': 'HDI', 'lower': 0.06150515353093383, 'upper': 0.2133847177028656}}, 'model-positive-13-adamw-lc7-2021-03-03-wout-wd': {'auc': {'value': 0.9184075231029546, 'mean': 0.9179784324730412, 'interval': 'HDI', 'lower': 0.8912664203612479, 'upper': 0.9417801860198173}, 'f1': {'value': 0.7436823104693142, 'mean': 0.7307761328643894, 'interval': 'HDI', 'lower': 0.6712328767123288, 'upper': 0.7876712328767123}, 'acc': {'value': 0.8709090909090909, 'mean': 0.8663781818181819, 'interval': 'HDI', 'lower': 0.8363636363636363, 'upper': 0.8909090909090909}, 'bacc': {'value': 0.8072855655342965, 'mean': 0.7985145095996984, 'interval': 'HDI', 'lower': 0.7586717428087987, 'upper': 0.8372568602273267}, 'precision': {'value': 0.8512396694214877, 'mean': 0.8453302873106452, 'interval': 'HDI', 'lower': 0.7777777777777778, 'upper': 0.9090909090909091}, 'sensitivity': {'value': 0.6602564102564102, 'mean': 0.6602564102564104, 'interval': 'HDI', 'lower': 0.6602564102564102, 'upper': 0.6602564102564102}, 'specificity': {'value': 0.9543147208121827, 'mean': 0.9543147208121829, 'interval': 'HDI', 'lower': 0.9543147208121827, 'upper': 0.9543147208121827}, 'avgprec': {'value': 0.8516774650833635, 'mean': 0.8514012104162989, 'interval': 'HDI', 'lower': 0.7991550819965496, 'upper': 0.8904481315678932}, 'ece': {'value': 0.07135221729224377, 'mean': 0.0771846432417455, 'interval': 'HDI', 'lower': 0.05372173764488914, 'upper': 0.10255668795921587}, 'mce': {'value': 0.15804787822391675, 'mean': 0.17096500059792846, 'interval': 'HDI', 'lower': 0.08900390693119598, 'upper': 0.2592011059031767}}, 'model-positive-13-adamw-lc7-2021-03-03-wout-flood-penalty': {'auc': {'value': 0.9212547182090329, 'mean': 0.9206000337642273, 'interval': 'HDI', 'lower': 0.8977970951048295, 'upper': 0.944532800169643}, 'f1': {'value': 0.7463768115942029, 'mean': 0.7407692301414088, 'interval': 'HDI', 'lower': 0.6830985915492959, 'upper': 0.8}, 'acc': {'value': 0.8727272727272727, 'mean': 0.8701654545454545, 'interval': 'HDI', 'lower': 0.8418181818181818, 'upper': 0.8945454545454545}, 'bacc': {'value': 0.8085546010672915, 'mean': 0.8042151715182608, 'interval': 'HDI', 'lower': 0.7635639025725232, 'upper': 0.8403422078795213}, 'precision': {'value': 0.8583333333333333, 'mean': 0.8540999256670461, 'interval': 'HDI', 'lower': 0.7894736842105263, 'upper': 0.9134615384615384}, 'sensitivity': {'value': 0.6602564102564102, 'mean': 0.6602564102564104, 'interval': 'HDI', 'lower': 0.6602564102564102, 'upper': 0.6602564102564102}, 'specificity': {'value': 0.9568527918781726, 'mean': 0.9568527918781728, 'interval': 'HDI', 'lower': 0.9568527918781726, 'upper': 0.9568527918781726}, 'avgprec': {'value': 0.8548820345155111, 'mean': 0.8548322920329499, 'interval': 'HDI', 'lower': 0.807333161710575, 'upper': 0.8960674746036734}, 'ece': {'value': 0.07596986962990325, 'mean': 0.08121672766980664, 'interval': 'HDI', 'lower': 0.05725280423055995, 'upper': 0.10520041269334879}, 'mce': {'value': 0.21588257862173987, 'mean': 0.2013264265806006, 'interval': 'HDI', 'lower': 0.11192021105024552, 'upper': 0.2857954502105713}}, 'model-positive-13-adamw-lc7-2021-03-03-wout-lambdas': {'auc': {'value': 0.9216289209944033, 'mean': 0.9215300985586674, 'interval': 'HDI', 'lower': 0.8947665662650601, 'upper': 0.9464426237096699}, 'f1': {'value': 0.7345454545454546, 'mean': 0.7394917029632834, 'interval': 'HDI', 'lower': 0.6747967479674797, 'upper': 0.7956204379562044}, 'acc': {'value': 0.8672727272727273, 'mean': 0.87074, 'interval': 'HDI', 'lower': 0.84, 'upper': 0.8981818181818182}, 'bacc': {'value': 0.8008753091240401, 'mean': 0.804936250902729, 'interval': 'HDI', 'lower': 0.7635608964166765, 'upper': 0.8411401235798286}, 'precision': {'value': 0.8487394957983193, 'mean': 0.854640798267254, 'interval': 'HDI', 'lower': 0.7886178861788617, 'upper': 0.9130434782608695}, 'sensitivity': {'value': 0.6474358974358975, 'mean': 0.6474358974358976, 'interval': 'HDI', 'lower': 0.6474358974358975, 'upper': 0.6474358974358975}, 'specificity': {'value': 0.9543147208121827, 'mean': 0.9543147208121829, 'interval': 'HDI', 'lower': 0.9543147208121827, 'upper': 0.9543147208121827}, 'avgprec': {'value': 0.8565607487040273, 'mean': 0.8562769390013883, 'interval': 'HDI', 'lower': 0.8116993619759687, 'upper': 0.9014572109077864}, 'ece': {'value': 0.07472910843112252, 'mean': 0.0788683125736009, 'interval': 'HDI', 'lower': 0.054146448888561946, 'upper': 0.1036559109254317}, 'mce': {'value': 0.15944015052583482, 'mean': 0.16768359141536265, 'interval': 'HDI', 'lower': 0.08866297367007236, 'upper': 0.252884652879503}}, 'model-positive-13-adamw-lc7-2021-03-03-wout-soft-label-slope': {'auc': {'value': 0.9215475725628011, 'mean': 0.9221013770924403, 'interval': 'HDI', 'lower': 0.8959750162489497, 'upper': 0.9468390804597702}, 'f1': {'value': 0.6413502109704641, 'mean': 0.6429879726095737, 'interval': 'HDI', 'lower': 0.5774058577405857, 'upper': 0.7137254901960784}, 'acc': {'value': 0.8454545454545455, 'mean': 0.8454490909090909, 'interval': 'HDI', 'lower': 0.8181818181818182, 'upper': 0.8745454545454545}, 'bacc': {'value': 0.737244565924769, 'mean': 0.737689009087802, 'interval': 'HDI', 'lower': 0.7026552128074971, 'upper': 0.7798990792280082}, 'precision': {'value': 0.9382716049382716, 'mean': 0.9360189941387111, 'interval': 'HDI', 'lower': 0.881578947368421, 'upper': 0.9887640449438202}, 'sensitivity': {'value': 0.48717948717948717, 'mean': 0.48717948717948717, 'interval': 'HDI', 'lower': 0.48717948717948717, 'upper': 0.48717948717948717}, 'specificity': {'value': 0.9873096446700508, 'mean': 0.9873096446700504, 'interval': 'HDI', 'lower': 0.9873096446700508, 'upper': 0.9873096446700508}, 'avgprec': {'value': 0.8559690117118411, 'mean': 0.856557823346109, 'interval': 'HDI', 'lower': 0.8108691794742083, 'upper': 0.8991733419805521}, 'ece': {'value': 0.06598483128981157, 'mean': 0.07061723836688562, 'interval': 'HDI', 'lower': 0.04569579370997169, 'upper': 0.09367312303998254}, 'mce': {'value': 0.2838576130750703, 'mean': 0.3079466389632441, 'interval': 'HDI', 'lower': 0.22705131576907245, 'upper': 0.40908446311950686}}, 'model-positive-13-adamw-lc7-2021-03-03-wout-soft-label': {'auc': {'value': 0.8992255629311466, 'mean': 0.8990641912730815, 'interval': 'HDI', 'lower': 0.8708173076923078, 'upper': 0.9279046606235546}, 'f1': {'value': 0.6772908366533864, 'mean': 0.6786385307305969, 'interval': 'HDI', 'lower': 0.6070038910505836, 'upper': 0.7413127413127413}, 'acc': {'value': 0.8527272727272728, 'mean': 0.8529, 'interval': 'HDI', 'lower': 0.8218181818181818, 'upper': 0.88}, 'bacc': {'value': 0.7597455421059482, 'mean': 0.7608823734744147, 'interval': 'HDI', 'lower': 0.7215551450465243, 'upper': 0.8005050505050505}, 'precision': {'value': 0.8947368421052632, 'mean': 0.8972215973818786, 'interval': 'HDI', 'lower': 0.8333333333333334, 'upper': 0.9565217391304348}, 'sensitivity': {'value': 0.5448717948717948, 'mean': 0.5448717948717948, 'interval': 'HDI', 'lower': 0.5448717948717948, 'upper': 0.5448717948717948}, 'specificity': {'value': 0.9746192893401016, 'mean': 0.9746192893401014, 'interval': 'HDI', 'lower': 0.9746192893401016, 'upper': 0.9746192893401016}, 'avgprec': {'value': 0.8354811157671751, 'mean': 0.8365861005352554, 'interval': 'HDI', 'lower': 0.7849942967831101, 'upper': 0.8841519275724473}, 'ece': {'value': 0.046546332578767426, 'mean': 0.054955332156640564, 'interval': 'HDI', 'lower': 0.03333159147338433, 'upper': 0.07755273682149973}, 'mce': {'value': 0.19205948000862483, 'mean': 0.2282224364088766, 'interval': 'HDI', 'lower': 0.14359026220109727, 'upper': 0.30697935819625854}}}\n"
     ]
    }
   ],
   "source": [
    "print(metrics)"
   ]
  },
  {
   "cell_type": "code",
   "execution_count": 14,
   "id": "rubber-astrology",
   "metadata": {},
   "outputs": [],
   "source": [
    "df = pd.DataFrame.from_dict(metrics, orient='index')"
   ]
  },
  {
   "cell_type": "code",
   "execution_count": 15,
   "id": "collected-peripheral",
   "metadata": {},
   "outputs": [],
   "source": [
    "df_values = df.applymap(lambda x: x['value'])"
   ]
  },
  {
   "cell_type": "code",
   "execution_count": 16,
   "id": "executed-belarus",
   "metadata": {},
   "outputs": [
    {
     "data": {
      "text/plain": [
       "array([[0.91840752, 0.64978903, 0.84909091, 0.74171873, 0.95061728,\n",
       "        0.49358974, 0.98984772, 0.85589053, 0.07184451, 0.31524908],\n",
       "       [0.87779839, 0.69924812, 0.85454545, 0.77650332, 0.84545455,\n",
       "        0.59615385, 0.95685279, 0.80480483, 0.09832446, 0.37538123],\n",
       "       [0.87426786, 0.70411985, 0.85636364, 0.77970845, 0.84684685,\n",
       "        0.6025641 , 0.95685279, 0.80066686, 0.05374706, 0.30685618],\n",
       "       [0.92380906, 0.6446281 , 0.84363636, 0.73984772, 0.90697674,\n",
       "        0.5       , 0.97969543, 0.85850412, 0.05983405, 0.25286956],\n",
       "       [0.92470389, 0.6473029 , 0.84545455, 0.74111675, 0.91764706,\n",
       "        0.5       , 0.9822335 , 0.86230313, 0.06340739, 0.24605339],\n",
       "       [0.89398672, 0.70498084, 0.86      , 0.77837433, 0.87619048,\n",
       "        0.58974359, 0.96700508, 0.83442365, 0.05145928, 0.22354894],\n",
       "       [0.86774372, 0.66666667, 0.84727273, 0.75400234, 0.875     ,\n",
       "        0.53846154, 0.96954315, 0.7869145 , 0.08621938, 0.31692371],\n",
       "       [0.92917806, 0.60526316, 0.83636364, 0.71734674, 0.95833333,\n",
       "        0.44230769, 0.99238579, 0.86504131, 0.08131498, 0.29500635],\n",
       "       [0.92784394, 0.59030837, 0.83090909, 0.70966745, 0.94366197,\n",
       "        0.42948718, 0.98984772, 0.86211486, 0.09041365, 0.27018365],\n",
       "       [0.83017701, 0.63432836, 0.82181818, 0.73817194, 0.75892857,\n",
       "        0.54487179, 0.93147208, 0.70847415, 0.06262798, 0.15415365],\n",
       "       [0.92914552, 0.62978723, 0.84181818, 0.73083431, 0.93670886,\n",
       "        0.47435897, 0.98730964, 0.86307075, 0.07828049, 0.30097784],\n",
       "       [0.89312443, 0.692607  , 0.85636364, 0.77002798, 0.88118812,\n",
       "        0.57051282, 0.96954315, 0.825828  , 0.0663261 , 0.27518879],\n",
       "       [0.92154757, 0.64135021, 0.84545455, 0.73724457, 0.9382716 ,\n",
       "        0.48717949, 0.98730964, 0.85596901, 0.06598483, 0.28385761],\n",
       "       [0.89922556, 0.67729084, 0.85272727, 0.75974554, 0.89473684,\n",
       "        0.54487179, 0.97461929, 0.83548112, 0.04654633, 0.19205948]])"
      ]
     },
     "execution_count": 16,
     "metadata": {},
     "output_type": "execute_result"
    }
   ],
   "source": [
    "df_values[df.index.str.contains('label')].values"
   ]
  },
  {
   "cell_type": "code",
   "execution_count": 45,
   "id": "absent-death",
   "metadata": {},
   "outputs": [
    {
     "data": {
      "text/plain": [
       "Index(['auc', 'f1', 'acc', 'bacc', 'precision', 'sensitivity', 'specificity',\n",
       "       'avgprec', 'ece', 'mce'],\n",
       "      dtype='object')"
      ]
     },
     "execution_count": 45,
     "metadata": {},
     "output_type": "execute_result"
    }
   ],
   "source": [
    "df.columns"
   ]
  },
  {
   "cell_type": "code",
   "execution_count": 14,
   "id": "sound-senior",
   "metadata": {},
   "outputs": [],
   "source": [
    "models_wout_regularization = [\n",
    "    '../data/models/model-positive-13-adamw-lc5-2021-03-03-wout-dropout',\n",
    "    '../data/models/model-positive-13-adamw-lc5-2021-03-03-wout-flood-penalty',\n",
    "    '../data/models/model-positive-13-adamw-lc5-2021-03-03-wout-lambdas',\n",
    "    '../data/models/model-positive-13-adamw-lc5-2021-03-03-wout-soft-label',\n",
    "    '../data/models/model-positive-13-adamw-lc5-2021-03-03-wout-soft-label-slope',\n",
    "    '../data/models/model-positive-13-adamw-lc5-2021-03-03-wout-wd'\n",
    "#     '../data/models/model-positive-13-adamw-lc2-2021-03-03',\n",
    "#     '../data/models/model-positive-13-adamw-lc3-2021-03-03',\n",
    "#     '../data/models/model-positive-13-adamw-lc4-2021-03-03',\n",
    "#     '../data/models/model-positive-13-adamw-lc5-2021-03-03',\n",
    "#     '../data/models/model-positive-13-adamw-lc6-2021-03-03',\n",
    "#     '../data/models/model-positive-13-adamw-lc7-2021-03-03'\n",
    "]"
   ]
  },
  {
   "cell_type": "code",
   "execution_count": null,
   "id": "normal-momentum",
   "metadata": {},
   "outputs": [],
   "source": []
  },
  {
   "cell_type": "code",
   "execution_count": 18,
   "id": "bright-collection",
   "metadata": {},
   "outputs": [
    {
     "name": "stdout",
     "output_type": "stream",
     "text": [
      "----------------------------------------\n",
      "../data/models/model-positive-13-adamw-lc5-2021-03-03-wout-dropout\n",
      "AUC = 0.882, mean=0.882,HDI[0.849, 0.910]\n",
      "F1-Score = 0.683, mean=0.684,HDI[0.622, 0.753]\n",
      "Accuracy = 0.840, mean=0.842,HDI[0.805, 0.871]\n",
      "Balanced Accuracy = 0.770, mean=0.774,HDI[0.731, 0.812]\n",
      "Average Precision Score = 0.788, mean=0.786,HDI[0.729, 0.842]\n",
      "ECE = 0.038, mean=0.043,HDI[0.020, 0.067]\n",
      "MCE = 0.117, mean=0.139,HDI[0.058, 0.227]\n",
      "----------------------------------------\n",
      "../data/models/model-positive-13-adamw-lc5-2021-03-03-wout-flood-penalty\n",
      "AUC = 0.910, mean=0.910,HDI[0.885, 0.937]\n",
      "F1-Score = 0.760, mean=0.759,HDI[0.696, 0.807]\n",
      "Accuracy = 0.873, mean=0.871,HDI[0.842, 0.898]\n",
      "Balanced Accuracy = 0.824, mean=0.822,HDI[0.782, 0.858]\n",
      "Average Precision Score = 0.844, mean=0.844,HDI[0.798, 0.888]\n",
      "ECE = 0.089, mean=0.088,HDI[0.062, 0.115]\n",
      "MCE = 0.130, mean=0.145,HDI[0.087, 0.211]\n",
      "----------------------------------------\n",
      "../data/models/model-positive-13-adamw-lc5-2021-03-03-wout-lambdas\n",
      "AUC = 0.912, mean=0.912,HDI[0.886, 0.938]\n",
      "F1-Score = 0.761, mean=0.762,HDI[0.705, 0.813]\n",
      "Accuracy = 0.871, mean=0.872,HDI[0.845, 0.900]\n",
      "Balanced Accuracy = 0.827, mean=0.827,HDI[0.788, 0.869]\n",
      "Average Precision Score = 0.846, mean=0.846,HDI[0.796, 0.888]\n",
      "ECE = 0.095, mean=0.094,HDI[0.066, 0.119]\n",
      "MCE = 0.134, mean=0.150,HDI[0.091, 0.209]\n",
      "----------------------------------------\n",
      "../data/models/model-positive-13-adamw-lc5-2021-03-03-wout-soft-label\n",
      "AUC = 0.831, mean=0.831,HDI[0.791, 0.867]\n",
      "F1-Score = 0.645, mean=0.647,HDI[0.579, 0.707]\n",
      "Accuracy = 0.822, mean=0.823,HDI[0.791, 0.855]\n",
      "Balanced Accuracy = 0.746, mean=0.747,HDI[0.711, 0.793]\n",
      "Average Precision Score = 0.705, mean=0.706,HDI[0.640, 0.782]\n",
      "ECE = 0.061, mean=0.070,HDI[0.044, 0.096]\n",
      "MCE = 0.144, mean=0.144,HDI[0.089, 0.200]\n",
      "----------------------------------------\n",
      "../data/models/model-positive-13-adamw-lc5-2021-03-03-wout-soft-label-slope\n",
      "AUC = 0.926, mean=0.926,HDI[0.903, 0.949]\n",
      "F1-Score = 0.593, mean=0.599,HDI[0.517, 0.670]\n",
      "Accuracy = 0.833, mean=0.835,HDI[0.804, 0.864]\n",
      "Balanced Accuracy = 0.711, mean=0.716,HDI[0.672, 0.752]\n",
      "Average Precision Score = 0.861, mean=0.861,HDI[0.819, 0.904]\n",
      "ECE = 0.088, mean=0.088,HDI[0.062, 0.115]\n",
      "MCE = 0.290, mean=0.310,HDI[0.228, 0.399]\n",
      "----------------------------------------\n",
      "../data/models/model-positive-13-adamw-lc5-2021-03-03-wout-wd\n",
      "AUC = 0.909, mean=0.909,HDI[0.885, 0.938]\n",
      "F1-Score = 0.748, mean=0.750,HDI[0.685, 0.800]\n",
      "Accuracy = 0.865, mean=0.866,HDI[0.835, 0.891]\n",
      "Balanced Accuracy = 0.817, mean=0.817,HDI[0.781, 0.856]\n",
      "Average Precision Score = 0.838, mean=0.839,HDI[0.784, 0.878]\n",
      "ECE = 0.092, mean=0.091,HDI[0.064, 0.118]\n",
      "MCE = 0.116, mean=0.148,HDI[0.086, 0.213]\n"
     ]
    }
   ],
   "source": [
    "for m in models_wout_regularization:\n",
    "    print('-'*40)\n",
    "    ensemble = Ensemble(m)\n",
    "    r = report_ensemble.DiabNetReport(ensemble, \"positivo_1000_random_0.csv\", use_negatives=False)\n",
    "    r.auc(bootnum=1000, interval='HDI')\n",
    "    r.f1(bootnum=1000, interval='HDI')\n",
    "    r.acc(bootnum=1000, interval='HDI')\n",
    "    r.bacc(bootnum=1000, interval='HDI')\n",
    "    r.average_precision(bootnum=1000, interval='HDI')\n",
    "    r.ece(bootnum=10000, interval='HDI')\n",
    "    r.mce(bootnum=10000, interval='HDI')"
   ]
  },
  {
   "cell_type": "code",
   "execution_count": 19,
   "id": "radio-playback",
   "metadata": {},
   "outputs": [
    {
     "name": "stdout",
     "output_type": "stream",
     "text": [
      "----------------------------------------\n",
      "../data/models/model-positive-13-adamw-lc1-2021-03-03\n",
      "NEGATIVE FILE ../data/datasets/visits_sp_unique_test_positivo_1000_random_0_negatives_older60.csv\n",
      "AUC = 0.8963, mean=0.8949,CI[0.8636, 0.9246]\n",
      "F1-Score = 0.6996, mean=0.7036,CI[0.6347, 0.7640]\n",
      "Accuracy = 0.8564, mean=0.8575,CI[0.8273, 0.8855]\n",
      "Balanced Accuracy = 0.7758, mean=0.7792,CI[0.7380, 0.8203]\n",
      "Average Precision Score = 0.8300, mean=0.8283,CI[0.7716, 0.8739]\n",
      "ECE = 0.0615, mean=0.0665,CI[0.0407, 0.0933]\n",
      "MCE = 0.1658, mean=0.1760,CI[0.0965, 0.2620]\n",
      "----------------------------------------\n",
      "../data/models/model-positive-13-adamw-lc2-2021-03-03\n",
      "NEGATIVE FILE ../data/datasets/visits_sp_unique_test_positivo_1000_random_0_negatives_older60.csv\n",
      "AUC = 0.8938, mean=0.8930,CI[0.8638, 0.9232]\n",
      "F1-Score = 0.7138, mean=0.7172,CI[0.6534, 0.7744]\n",
      "Accuracy = 0.8527, mean=0.8548,CI[0.8255, 0.8855]\n",
      "Balanced Accuracy = 0.7907, mean=0.7953,CI[0.7551, 0.8349]\n",
      "Average Precision Score = 0.8181, mean=0.8183,CI[0.7641, 0.8634]\n",
      "ECE = 0.0642, mean=0.0663,CI[0.0410, 0.0921]\n",
      "MCE = 0.0977, mean=0.1297,CI[0.0728, 0.2109]\n",
      "----------------------------------------\n",
      "../data/models/model-positive-13-adamw-lc3-2021-03-03\n",
      "NEGATIVE FILE ../data/datasets/visits_sp_unique_test_positivo_1000_random_0_negatives_older60.csv\n",
      "AUC = 0.9003, mean=0.8999,CI[0.8697, 0.9269]\n",
      "F1-Score = 0.7143, mean=0.7190,CI[0.6568, 0.7811]\n",
      "Accuracy = 0.8545, mean=0.8574,CI[0.8291, 0.8855]\n",
      "Balanced Accuracy = 0.7901, mean=0.7941,CI[0.7506, 0.8329]\n",
      "Average Precision Score = 0.8314, mean=0.8312,CI[0.7802, 0.8764]\n",
      "ECE = 0.0706, mean=0.0678,CI[0.0423, 0.0937]\n",
      "MCE = 0.1373, mean=0.1500,CI[0.0874, 0.2331]\n",
      "----------------------------------------\n",
      "../data/models/model-positive-13-adamw-lc4-2021-03-03\n",
      "NEGATIVE FILE ../data/datasets/visits_sp_unique_test_positivo_1000_random_0_negatives_older60.csv\n",
      "AUC = 0.9223, mean=0.9215,CI[0.8942, 0.9438]\n",
      "F1-Score = 0.6825, mean=0.6835,CI[0.6111, 0.7482]\n",
      "Accuracy = 0.8545, mean=0.8557,CI[0.8255, 0.8836]\n",
      "Balanced Accuracy = 0.7630, mean=0.7649,CI[0.7237, 0.8073]\n",
      "Average Precision Score = 0.8566, mean=0.8572,CI[0.8127, 0.8991]\n",
      "ECE = 0.0711, mean=0.0755,CI[0.0520, 0.1002]\n",
      "MCE = 0.2171, mean=0.2373,CI[0.1453, 0.3181]\n",
      "----------------------------------------\n",
      "../data/models/model-positive-13-adamw-lc5-2021-03-03\n",
      "NEGATIVE FILE ../data/datasets/visits_sp_unique_test_positivo_1000_random_0_negatives_older60.csv\n",
      "AUC = 0.9107, mean=0.9098,CI[0.8806, 0.9365]\n",
      "F1-Score = 0.7593, mean=0.7606,CI[0.7014, 0.8155]\n",
      "Accuracy = 0.8709, mean=0.8718,CI[0.8436, 0.9000]\n",
      "Balanced Accuracy = 0.8247, mean=0.8259,CI[0.7885, 0.8627]\n",
      "Average Precision Score = 0.8421, mean=0.8419,CI[0.7855, 0.8877]\n",
      "ECE = 0.0957, mean=0.0916,CI[0.0649, 0.1186]\n",
      "MCE = 0.1407, mean=0.1495,CI[0.0926, 0.2225]\n",
      "----------------------------------------\n",
      "../data/models/model-positive-13-adamw-lc6-2021-03-03\n",
      "NEGATIVE FILE ../data/datasets/visits_sp_unique_test_positivo_1000_random_0_negatives_older60.csv\n",
      "AUC = 0.9266, mean=0.9261,CI[0.9013, 0.9471]\n",
      "F1-Score = 0.7239, mean=0.7282,CI[0.6641, 0.7872]\n",
      "Accuracy = 0.8655, mean=0.8681,CI[0.8382, 0.8964]\n",
      "Balanced Accuracy = 0.7919, mean=0.7961,CI[0.7573, 0.8348]\n",
      "Average Precision Score = 0.8574, mean=0.8560,CI[0.8094, 0.8979]\n",
      "ECE = 0.0713, mean=0.0748,CI[0.0520, 0.0997]\n",
      "MCE = 0.1573, mean=0.1618,CI[0.0889, 0.2536]\n",
      "----------------------------------------\n",
      "../data/models/model-positive-13-adamw-lc7-2021-03-03\n",
      "NEGATIVE FILE ../data/datasets/visits_sp_unique_test_positivo_1000_random_0_negatives_older60.csv\n",
      "AUC = 0.9184, mean=0.9181,CI[0.8925, 0.9421]\n",
      "F1-Score = 0.7391, mean=0.7391,CI[0.6794, 0.7945]\n",
      "Accuracy = 0.8691, mean=0.8688,CI[0.8382, 0.8982]\n",
      "Balanced Accuracy = 0.8041, mean=0.8037,CI[0.7629, 0.8419]\n",
      "Average Precision Score = 0.8504, mean=0.8510,CI[0.8001, 0.8914]\n",
      "ECE = 0.0710, mean=0.0741,CI[0.0503, 0.0975]\n",
      "MCE = 0.1648, mean=0.1694,CI[0.0904, 0.2598]\n"
     ]
    }
   ],
   "source": [
    "for m in models_13:\n",
    "    print('-'*40)\n",
    "    ensemble = Ensemble(m)\n",
    "    r = report_ensemble.DiabNetReport(ensemble, \"positivo_1000_random_0.csv\", use_negatives=False)\n",
    "    r.auc(bootnum=1000)\n",
    "    r.f1(bootnum=1000)\n",
    "    r.acc(bootnum=1000)\n",
    "    r.bacc(bootnum=1000)\n",
    "    r.average_precision(bootnum=1000)\n",
    "    r.ece(bootnum=10000)\n",
    "    r.mce(bootnum=10000)"
   ]
  },
  {
   "cell_type": "code",
   "execution_count": 22,
   "id": "comparative-algebra",
   "metadata": {},
   "outputs": [
    {
     "name": "stdout",
     "output_type": "stream",
     "text": [
      "----------------------------------------\n",
      "../data/models/model-positive-12-adamw-lc1-2021-02-10\n",
      "NEGATIVE FILE ../data/datasets/visits_sp_unique_test_positivo_1000_random_0_negatives_older60.csv\n",
      "AUC = 0.897, mean=0.898,HDI[0.868, 0.925]\n",
      "F1-Score = 0.712, mean=0.706,HDI[0.646, 0.768]\n",
      "Accuracy = 0.860, mean=0.858,HDI[0.831, 0.889]\n",
      "Balanced Accuracy = 0.784, mean=0.782,HDI[0.740, 0.819]\n",
      "Average Precision Score = 0.832, mean=0.832,HDI[0.788, 0.882]\n",
      "ECE = 0.068, mean=0.066,HDI[0.041, 0.092]\n",
      "MCE = 0.168, mean=0.173,HDI[0.089, 0.253]\n",
      "----------------------------------------\n",
      "../data/models/model-positive-12-adamw-lc2-2021-02-10\n",
      "NEGATIVE FILE ../data/datasets/visits_sp_unique_test_positivo_1000_random_0_negatives_older60.csv\n",
      "AUC = 0.899, mean=0.898,HDI[0.870, 0.925]\n",
      "F1-Score = 0.721, mean=0.718,HDI[0.659, 0.776]\n",
      "Accuracy = 0.856, mean=0.855,HDI[0.824, 0.882]\n",
      "Balanced Accuracy = 0.795, mean=0.794,HDI[0.759, 0.836]\n",
      "Average Precision Score = 0.825, mean=0.824,HDI[0.775, 0.872]\n",
      "ECE = 0.070, mean=0.070,HDI[0.045, 0.096]\n",
      "MCE = 0.130, mean=0.146,HDI[0.075, 0.230]\n",
      "----------------------------------------\n",
      "../data/models/model-positive-18-adamw-lc3-2021-02-10\n",
      "NEGATIVE FILE ../data/datasets/visits_sp_unique_test_positivo_1000_random_0_negatives_older60.csv\n",
      "AUC = 0.902, mean=0.901,HDI[0.876, 0.931]\n",
      "F1-Score = 0.714, mean=0.720,HDI[0.659, 0.777]\n",
      "Accuracy = 0.855, mean=0.856,HDI[0.822, 0.882]\n",
      "Balanced Accuracy = 0.790, mean=0.795,HDI[0.753, 0.836]\n",
      "Average Precision Score = 0.830, mean=0.829,HDI[0.777, 0.873]\n",
      "ECE = 0.065, mean=0.068,HDI[0.042, 0.092]\n",
      "MCE = 0.123, mean=0.148,HDI[0.078, 0.226]\n",
      "----------------------------------------\n",
      "../data/models/model-positive-19-adamw-lc4-2021-02-10\n",
      "NEGATIVE FILE ../data/datasets/visits_sp_unique_test_positivo_1000_random_0_negatives_older60.csv\n",
      "AUC = 0.921, mean=0.920,HDI[0.897, 0.946]\n",
      "F1-Score = 0.675, mean=0.676,HDI[0.607, 0.738]\n",
      "Accuracy = 0.853, mean=0.853,HDI[0.822, 0.884]\n",
      "Balanced Accuracy = 0.758, mean=0.760,HDI[0.722, 0.802]\n",
      "Average Precision Score = 0.856, mean=0.855,HDI[0.810, 0.897]\n",
      "ECE = 0.073, mean=0.075,HDI[0.051, 0.100]\n",
      "MCE = 0.253, mean=0.251,HDI[0.167, 0.326]\n",
      "----------------------------------------\n",
      "../data/models/model-positive-16-adamw-lc5-2021-02-10\n",
      "NEGATIVE FILE ../data/datasets/visits_sp_unique_test_positivo_1000_random_0_negatives_older60.csv\n",
      "AUC = 0.909, mean=0.908,HDI[0.880, 0.931]\n",
      "F1-Score = 0.749, mean=0.749,HDI[0.694, 0.804]\n",
      "Accuracy = 0.867, mean=0.867,HDI[0.835, 0.893]\n",
      "Balanced Accuracy = 0.816, mean=0.816,HDI[0.773, 0.855]\n",
      "Average Precision Score = 0.839, mean=0.838,HDI[0.787, 0.883]\n",
      "ECE = 0.090, mean=0.091,HDI[0.063, 0.117]\n",
      "MCE = 0.130, mean=0.151,HDI[0.088, 0.218]\n",
      "----------------------------------------\n",
      "../data/models/model-positive-12-adamw-lc6-2021-02-10\n",
      "NEGATIVE FILE ../data/datasets/visits_sp_unique_test_positivo_1000_random_0_negatives_older60.csv\n",
      "AUC = 0.926, mean=0.926,HDI[0.904, 0.949]\n",
      "F1-Score = 0.733, mean=0.731,HDI[0.674, 0.793]\n",
      "Accuracy = 0.869, mean=0.869,HDI[0.840, 0.898]\n",
      "Balanced Accuracy = 0.798, mean=0.797,HDI[0.758, 0.835]\n",
      "Average Precision Score = 0.858, mean=0.857,HDI[0.811, 0.899]\n",
      "ECE = 0.073, mean=0.075,HDI[0.051, 0.099]\n",
      "MCE = 0.175, mean=0.174,HDI[0.085, 0.255]\n",
      "----------------------------------------\n",
      "../data/models/model-positive-12-adamw-lc7-2021-02-10\n",
      "NEGATIVE FILE ../data/datasets/visits_sp_unique_test_positivo_1000_random_0_negatives_older60.csv\n",
      "AUC = 0.919, mean=0.919,HDI[0.895, 0.945]\n",
      "F1-Score = 0.733, mean=0.735,HDI[0.672, 0.795]\n",
      "Accuracy = 0.867, mean=0.868,HDI[0.838, 0.893]\n",
      "Balanced Accuracy = 0.799, mean=0.802,HDI[0.765, 0.843]\n",
      "Average Precision Score = 0.854, mean=0.853,HDI[0.810, 0.901]\n",
      "ECE = 0.070, mean=0.077,HDI[0.052, 0.101]\n",
      "MCE = 0.181, mean=0.184,HDI[0.093, 0.267]\n"
     ]
    }
   ],
   "source": [
    "for m in models:\n",
    "    print('-'*40)\n",
    "    ensemble = Ensemble(m)\n",
    "    r = report_ensemble.DiabNetReport(ensemble, \"positivo_1000_random_0.csv\", use_negatives=False)\n",
    "    r.auc(bootnum=1000, interval='HDI')\n",
    "    r.f1(bootnum=1000, interval='HDI')\n",
    "    r.acc(bootnum=1000, interval='HDI')\n",
    "    r.bacc(bootnum=1000, interval='HDI')\n",
    "    r.average_precision(bootnum=1000, interval='HDI')\n",
    "    r.ece(bootnum=10000, interval='HDI')\n",
    "    r.mce(bootnum=10000, interval='HDI')"
   ]
  },
  {
   "cell_type": "code",
   "execution_count": 12,
   "id": "broadband-basin",
   "metadata": {},
   "outputs": [
    {
     "ename": "NameError",
     "evalue": "name 'df' is not defined",
     "output_type": "error",
     "traceback": [
      "\u001b[0;31m---------------------------------------------------------------------------\u001b[0m",
      "\u001b[0;31mNameError\u001b[0m                                 Traceback (most recent call last)",
      "\u001b[0;32m<ipython-input-12-8d8d4f13030e>\u001b[0m in \u001b[0;36m<module>\u001b[0;34m\u001b[0m\n\u001b[1;32m      4\u001b[0m \u001b[0;32mfrom\u001b[0m \u001b[0mmath\u001b[0m \u001b[0;32mimport\u001b[0m \u001b[0mpi\u001b[0m\u001b[0;34m\u001b[0m\u001b[0;34m\u001b[0m\u001b[0m\n\u001b[1;32m      5\u001b[0m \u001b[0;34m\u001b[0m\u001b[0m\n\u001b[0;32m----> 6\u001b[0;31m \u001b[0mcategories\u001b[0m \u001b[0;34m=\u001b[0m \u001b[0mlist\u001b[0m\u001b[0;34m(\u001b[0m\u001b[0mdf\u001b[0m\u001b[0;34m)\u001b[0m\u001b[0;34m[\u001b[0m\u001b[0;36m1\u001b[0m\u001b[0;34m:\u001b[0m\u001b[0;34m]\u001b[0m\u001b[0;34m\u001b[0m\u001b[0;34m\u001b[0m\u001b[0m\n\u001b[0m\u001b[1;32m      7\u001b[0m \u001b[0mvalues\u001b[0m \u001b[0;34m=\u001b[0m \u001b[0mdf\u001b[0m\u001b[0;34m.\u001b[0m\u001b[0mmean\u001b[0m\u001b[0;34m(\u001b[0m\u001b[0;34m)\u001b[0m\u001b[0;34m.\u001b[0m\u001b[0mvalues\u001b[0m\u001b[0;34m.\u001b[0m\u001b[0mflatten\u001b[0m\u001b[0;34m(\u001b[0m\u001b[0;34m)\u001b[0m\u001b[0;34m.\u001b[0m\u001b[0mtolist\u001b[0m\u001b[0;34m(\u001b[0m\u001b[0;34m)\u001b[0m\u001b[0;34m\u001b[0m\u001b[0;34m\u001b[0m\u001b[0m\n\u001b[1;32m      8\u001b[0m \u001b[0mvalues\u001b[0m \u001b[0;34m+=\u001b[0m \u001b[0mvalues\u001b[0m\u001b[0;34m[\u001b[0m\u001b[0;34m:\u001b[0m\u001b[0;36m1\u001b[0m\u001b[0;34m]\u001b[0m \u001b[0;31m# repeat the first value to close the circular graph\u001b[0m\u001b[0;34m\u001b[0m\u001b[0;34m\u001b[0m\u001b[0m\n",
      "\u001b[0;31mNameError\u001b[0m: name 'df' is not defined"
     ]
    }
   ],
   "source": [
    "import numpy as np\n",
    "import pandas as pd\n",
    "import matplotlib.pyplot as plt\n",
    "from math import pi\n",
    "\n",
    "categories = list(df)[1:]\n",
    "values = df.mean().values.flatten().tolist()\n",
    "values += values[:1] # repeat the first value to close the circular graph\n",
    "angles = [n / float(len(categories)) * 2 * pi for n in range(len(categories))]\n",
    "angles += angles[:1]\n",
    "\n",
    "fig, ax = plt.subplots(nrows=1, ncols=1, figsize=(8, 8),\n",
    "                       subplot_kw=dict(polar=True))\n",
    "\n",
    "plt.xticks(angles[:-1], categories, color='grey', size=12)\n",
    "plt.yticks(np.arange(1, 6), ['1', '2', '3', '4', '5'],\n",
    "           color='grey', size=12)\n",
    "plt.ylim(0, 5)\n",
    "ax.set_rlabel_position(30)\n",
    " \n",
    "ax.plot(angles, values, linewidth=1, linestyle='solid')\n",
    "ax.fill(angles, values, 'skyblue', alpha=0.4)\n"
   ]
  },
  {
   "cell_type": "code",
   "execution_count": 46,
   "id": "extreme-attitude",
   "metadata": {},
   "outputs": [
    {
     "name": "stdout",
     "output_type": "stream",
     "text": [
      "[0.         0.62831853 1.25663706 1.88495559 2.51327412 3.14159265\n",
      " 3.76991118 4.39822972 5.02654825 5.65486678 0.        ]\n"
     ]
    },
    {
     "data": {
      "image/png": "[encoded data removed]",
      "text/plain": [
       "<Figure size 432x288 with 1 Axes>"
      ]
     },
     "metadata": {},
     "output_type": "display_data"
    }
   ],
   "source": [
    "def radar_plot(values):\n",
    "    angles = np.arange(0, 2 * np.pi, 2*np.pi/10)\n",
    "    angles = np.append(angles, angles[0])\n",
    "    print(angles)\n",
    "    ax = plt.subplot(111, polar=True)\n",
    "    plt.xticks(angles[:-1], ['auc', 'f1', 'acc', 'bacc', 'precision', 'sensitivity', 'specificity',\n",
    "       'avgprec', 'ece', 'mce'])\n",
    "    ax.plot(angles, np.append(values[0], values[0][0]))\n",
    "\n",
    "radar_plot([[0.91840752, 0.64978903, 0.84909091, 0.74171873, 0.95061728,\n",
    "        0.49358974, 0.98984772, 0.85589053, 0.07184451, 0.31524908],\n",
    "       [0.87779839, 0.69924812, 0.85454545, 0.77650332, 0.84545455,\n",
    "        0.59615385, 0.95685279, 0.80480483, 0.09832446, 0.37538123]])"
   ]
  },
  {
   "cell_type": "code",
   "execution_count": 19,
   "id": "lyric-potter",
   "metadata": {},
   "outputs": [
    {
     "data": {
      "text/plain": [
       "3.141592653589793"
      ]
     },
     "execution_count": 19,
     "metadata": {},
     "output_type": "execute_result"
    }
   ],
   "source": [
    "np.pi"
   ]
  },
  {
   "cell_type": "code",
   "execution_count": null,
   "id": "blank-location",
   "metadata": {},
   "outputs": [],
   "source": []
  }
 ],
 "metadata": {
  "@webio": {
   "lastCommId": null,
   "lastKernelId": null
  },
  "kernelspec": {
   "display_name": "Python 3",
   "language": "python",
   "name": "python3"
  },
  "language_info": {
   "codemirror_mode": {
    "name": "ipython",
    "version": 3
   },
   "file_extension": ".py",
   "mimetype": "text/x-python",
   "name": "python",
   "nbconvert_exporter": "python",
   "pygments_lexer": "ipython3",
   "version": "3.8.5"
  }
 },
 "nbformat": 4,
 "nbformat_minor": 5
}
