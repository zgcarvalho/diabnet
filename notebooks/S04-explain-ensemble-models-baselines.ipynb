{
 "cells": [
  {
   "cell_type": "code",
   "execution_count": 116,
   "metadata": {},
   "outputs": [
    {
     "name": "stdout",
     "output_type": "stream",
     "text": [
      "The autoreload extension is already loaded. To reload it, use:\n",
      "  %reload_ext autoreload\n"
     ]
    }
   ],
   "source": [
    "%load_ext autoreload\n",
    "%autoreload 2\n",
    "%matplotlib inline"
   ]
  },
  {
   "cell_type": "code",
   "execution_count": 117,
   "metadata": {},
   "outputs": [],
   "source": [
    "import pandas as pd\n",
    "import matplotlib.pyplot as plt\n",
    "import seaborn as sns\n",
    "import numpy as np\n",
    "import sys\n",
    "sys.path.append(\"../\")\n",
    "from diabnet.apply_ensemble import Predictor\n",
    "from diabnet.data import get_feature_names, encode_features\n",
    "from diabnet.ensemble import Ensemble"
   ]
  },
  {
   "cell_type": "code",
   "execution_count": 118,
   "metadata": {},
   "outputs": [
    {
     "data": {
      "image/png": "[encoded data removed]",
      "text/plain": [
       "<Figure size 720x72 with 1 Axes>"
      ]
     },
     "metadata": {
      "needs_background": "light"
     },
     "output_type": "display_data"
    }
   ],
   "source": [
    "colors = sns.color_palette(\"colorblind\")\n",
    "sns.palplot(colors)\n",
    "sns.set_style(\"whitegrid\")\n",
    "sns.set_style(\"ticks\",{'axes.grid': True,'grid.color': '.95', 'grid.linestyle': '-'})"
   ]
  },
  {
   "cell_type": "code",
   "execution_count": 119,
   "metadata": {},
   "outputs": [],
   "source": [
    "def plot():\n",
    "    plt.figure(figsize=(12,4))\n",
    "    plt.subplot(121)\n",
    "    color_boxplot = sns.color_palette(\"cool\", n_colors=20)\n",
    "#     plt.title(f\"patient\\n(id: {df['id'].iloc[id]}, age: {age}, diagnostic: {'positive' if label==1 else 'negative'})\")\n",
    "#     sns.boxplot(x=[i for i in probs_life[1]], y=probs_life[0], showfliers=False, palette=[color_boxplot[int(np.median(a)*20)] for a in probs_life[0]]);\n",
    "    bp1 = plt.boxplot(probs_life[0], showfliers=False, patch_artist=True, labels=[i for i in probs_life[1]], medianprops=dict(linewidth=2.5, color='black'))\n",
    "    colors = [color_boxplot[int(np.median(a)*20)] for a in probs_life[0]]\n",
    "    for box, color in zip(bp1['boxes'], colors):\n",
    "        box.set(facecolor = color)\n",
    "        box.set(edgecolor = 'black')\n",
    "    plt.xlabel(\"age\")\n",
    "    plt.ylim(0,1);\n",
    "    plt.subplot(122)\n",
    "    plt.title(\"negative control\\n(non-diabetic older than 60 years)\")\n",
    "#     sns.boxplot(x=[i for i in neg_life[1]], y=neg_life[0], showfliers=False, palette=[color_boxplot[int(np.median(a)*20)] for a in neg_life[0]]);\n",
    "    bp2 = plt.boxplot(neg_life[0], showfliers=False, patch_artist=True, labels=[i for i in neg_life[1]], medianprops=dict(linewidth=2.5, color='black'))\n",
    "    colors = [color_boxplot[int(np.median(a)*20)] for a in neg_life[0]]\n",
    "    for box, color in zip(bp2['boxes'], colors):\n",
    "        box.set(facecolor = color)\n",
    "        box.set(edgecolor = 'black')\n",
    "    plt.xlabel(\"age\")\n",
    "    plt.ylim(0,1);"
   ]
  },
  {
   "cell_type": "code",
   "execution_count": 120,
   "metadata": {},
   "outputs": [],
   "source": [
    "# ensemble = Ensemble('../diabnet/models/model-4-soft-label-age-positives-500-dropout0-bn-decay-flood-hyperopt-ax-batch256-adamw-lc2-20201001')\n",
    "# c = get_feature_names(\"../datasets/visits_sp_unique_test_positivo_1000_random_0.csv\", BMI=False, sex=True, parents_diagnostics=True)\n",
    "# pred = Predictor(ensemble, c, \"../datasets/visits_sp_unique_test_positivo_1000_random_0_negatives_older60.csv\")"
   ]
  },
  {
   "cell_type": "code",
   "execution_count": 129,
   "metadata": {},
   "outputs": [
    {
     "name": "stdout",
     "output_type": "stream",
     "text": [
      "NEGATIVE FILE ../data/datasets/visits_sp_unique_test_positivo_1000_random_0_negatives_older60.csv\n"
     ]
    }
   ],
   "source": [
    "ensemble = Ensemble('../results/models/positive/model-positive-21-adamw-lc7-2021-10-05')\n",
    "c = get_feature_names(\"../data/datasets/visits_sp_unique_test_positivo_1000_random_0.csv\", use_sex=True, use_parents_diagnosis=True)\n",
    "pred = Predictor(ensemble, c, \"../data/datasets/visits_sp_unique_test_positivo_1000_random_0_negatives_older60.csv\")"
   ]
  },
  {
   "cell_type": "code",
   "execution_count": 130,
   "metadata": {},
   "outputs": [],
   "source": [
    "neg_life = pred.negatives_life(samples_per_model=1)"
   ]
  },
  {
   "cell_type": "markdown",
   "metadata": {},
   "source": [
    "## Análise do baseline\n",
    "\n",
    "O uso de Integrated Gradients depende da definição de um baseline. Esse baseline é um exemplo de entrada que define um caso para ser utilizado como um âncora (base) relativa.\n",
    "\n",
    "Optamos aqui por utilizar como baseline um indivíduo hipotético que apresenta alelos dominantes (**0**) para todos os SNPs. A idade desse indivíduo é a mesma para os demais sendo analisado e o diagnóstico dos pais é **negativo**.\n",
    "\n",
    "Abaixo analisaremos qual a predição para esse indivíduo."
   ]
  },
  {
   "cell_type": "code",
   "execution_count": 131,
   "metadata": {},
   "outputs": [],
   "source": [
    "baseline_snps = [0 for i in range(1000)]"
   ]
  },
  {
   "cell_type": "code",
   "execution_count": 132,
   "metadata": {},
   "outputs": [],
   "source": [
    "baseline = np.array(baseline_snps +[50., 'X', 2, 2], dtype=object)"
   ]
  },
  {
   "cell_type": "code",
   "execution_count": 133,
   "metadata": {},
   "outputs": [
    {
     "data": {
      "text/plain": [
       "array([0, 0, 0, 0, 0, 0, 50.0, 'X', 2, 2], dtype=object)"
      ]
     },
     "execution_count": 133,
     "metadata": {},
     "output_type": "execute_result"
    }
   ],
   "source": [
    "baseline[-10:]"
   ]
  },
  {
   "cell_type": "code",
   "execution_count": 134,
   "metadata": {},
   "outputs": [],
   "source": [
    "probs_life = pred.patient_life(baseline, samples_per_model=1)"
   ]
  },
  {
   "cell_type": "code",
   "execution_count": 135,
   "metadata": {},
   "outputs": [
    {
     "data": {
      "text/plain": [
       "([array([4.47804780e-08, 8.34640246e-10, 5.14617611e-08, 8.94475605e-10,\n",
       "         1.13324763e-08, 7.64195818e-10, 3.62111480e-10, 2.27767707e-08,\n",
       "         4.78111604e-12, 1.35800871e-10, 3.19759952e-09, 1.08868504e-11,\n",
       "         4.62631569e-08, 2.20431318e-09, 8.27453928e-09, 2.16251195e-08,\n",
       "         4.29431020e-06, 2.03924078e-08, 3.12566861e-08, 4.10935973e-11,\n",
       "         1.92047833e-06, 4.35771341e-07, 4.69651766e-08, 2.43067348e-07,\n",
       "         1.59752114e-10, 1.84673343e-08, 5.95595795e-10, 1.61565639e-09,\n",
       "         1.62274091e-07, 3.80328713e-10, 1.08799777e-05, 1.91361892e-06,\n",
       "         7.82991894e-09, 1.27387167e-07, 1.42072454e-09, 4.42300552e-09,\n",
       "         1.79727999e-09, 1.18773563e-07, 3.44786417e-06, 2.53057109e-09,\n",
       "         1.07607541e-07, 1.50342586e-07, 3.90669985e-09, 5.91318781e-08,\n",
       "         5.53436763e-08, 1.11430387e-09, 2.86711627e-11, 2.67373762e-10,\n",
       "         2.56454771e-11, 2.40469724e-08, 5.47163759e-10, 4.08793621e-09,\n",
       "         1.16893511e-06, 1.44850947e-05, 6.06268202e-07, 3.92958860e-10,\n",
       "         6.75362662e-06, 2.61887435e-05, 1.41750934e-12, 6.92813007e-09,\n",
       "         1.37132377e-08, 7.25145952e-08, 1.31072659e-06, 1.15467573e-08,\n",
       "         5.28377919e-09, 5.16569025e-06, 2.69010147e-10, 2.53767602e-13,\n",
       "         7.63626107e-10, 1.53551980e-08, 4.34701626e-08, 1.20651119e-11,\n",
       "         2.50062753e-12, 1.19811683e-09, 3.37116823e-08, 1.12944698e-09,\n",
       "         1.89227709e-08, 4.98180725e-07, 1.62628396e-07, 4.57157294e-04,\n",
       "         2.70016148e-10, 4.12146193e-08, 8.78986725e-07, 1.90011340e-09,\n",
       "         1.93917890e-06, 4.47803461e-10, 2.48218530e-08, 5.52645041e-10,\n",
       "         4.06775835e-10, 2.89244269e-07, 2.45698484e-05, 5.63454727e-10,\n",
       "         1.03566170e-10, 8.73470540e-09, 9.00892416e-11, 1.07524756e-09,\n",
       "         5.04450544e-11, 1.27821620e-09, 2.85969826e-08, 1.37878930e-10],\n",
       "        dtype=float32),\n",
       "  array([7.91602451e-06, 1.40841706e-07, 6.72683518e-06, 2.54081186e-07,\n",
       "         3.44635873e-06, 1.32129372e-07, 1.99034091e-07, 4.97626070e-06,\n",
       "         2.34296849e-09, 8.57096154e-08, 5.94755704e-07, 1.07115836e-08,\n",
       "         1.09620678e-05, 4.34617561e-07, 1.46596437e-06, 3.22944175e-06,\n",
       "         5.46530122e-04, 2.88056390e-06, 6.25888879e-06, 1.01832160e-08,\n",
       "         2.37420812e-04, 7.48654275e-05, 6.72813803e-06, 3.18550301e-05,\n",
       "         9.49381445e-08, 1.72714817e-06, 2.90448895e-07, 7.35569813e-07,\n",
       "         1.51749400e-05, 2.03228709e-07, 1.46928616e-03, 2.16550674e-04,\n",
       "         1.90451931e-06, 2.07197045e-05, 6.16577097e-07, 6.36398738e-07,\n",
       "         2.78356936e-07, 2.06872828e-05, 4.02840495e-04, 9.81267021e-07,\n",
       "         1.49530770e-05, 8.92537628e-06, 1.42158524e-06, 1.13493015e-05,\n",
       "         6.13758630e-06, 5.05723449e-07, 2.32080684e-08, 1.55263265e-07,\n",
       "         2.05064161e-08, 6.44634338e-06, 2.73376060e-07, 1.46661750e-06,\n",
       "         1.58977520e-04, 2.60845735e-03, 9.00677333e-05, 8.49110080e-08,\n",
       "         6.89888606e-04, 2.07005930e-03, 1.86658111e-09, 2.20902552e-06,\n",
       "         1.28655222e-06, 1.06698171e-05, 2.35645071e-04, 3.45332364e-06,\n",
       "         1.83522855e-06, 5.52061712e-04, 3.72220939e-08, 4.75300688e-10,\n",
       "         3.61316438e-07, 2.46645686e-06, 1.00281231e-05, 4.85362772e-09,\n",
       "         1.05819986e-09, 5.27838267e-07, 5.52808115e-06, 2.22461622e-07,\n",
       "         3.24077087e-06, 7.77589084e-05, 3.10412579e-05, 4.28077728e-02,\n",
       "         1.51421048e-07, 8.56391125e-06, 1.31134031e-04, 7.67294978e-07,\n",
       "         2.82348861e-04, 2.34915660e-07, 2.25918211e-06, 1.01704870e-07,\n",
       "         2.18097867e-07, 2.61716414e-05, 2.02253438e-03, 6.95333924e-08,\n",
       "         6.69073756e-08, 2.69463408e-06, 6.14110078e-08, 4.71114674e-07,\n",
       "         8.54583604e-09, 3.87126107e-07, 4.59159764e-06, 8.65918395e-08],\n",
       "        dtype=float32),\n",
       "  array([3.54370975e-04, 6.35368815e-06, 2.31260914e-04, 1.65352067e-05,\n",
       "         2.02470474e-04, 5.91357684e-06, 1.74859597e-05, 2.49671080e-04,\n",
       "         2.23464411e-07, 8.43823636e-06, 2.92165696e-05, 1.45169997e-06,\n",
       "         5.22372895e-04, 2.06459335e-05, 6.38628044e-05, 1.18598284e-04,\n",
       "         1.72551684e-02, 1.07324791e-04, 3.01953463e-04, 5.96833615e-07,\n",
       "         7.94406515e-03, 3.00061610e-03, 2.56104337e-04, 1.05470757e-03,\n",
       "         8.78830087e-06, 4.87031102e-05, 2.25817021e-05, 5.71795208e-05,\n",
       "         4.20384808e-04, 1.78755254e-05, 4.54098545e-02, 6.67713955e-03,\n",
       "         1.14548675e-04, 7.85268494e-04, 4.56439157e-05, 2.40373065e-05,\n",
       "         1.13844453e-05, 8.36522609e-04, 1.18904803e-02, 6.73340110e-05,\n",
       "         5.49485208e-04, 1.17381598e-04, 9.29845919e-05, 5.19006455e-04,\n",
       "         1.86881065e-04, 3.94595918e-05, 2.61451032e-06, 1.45049726e-05,\n",
       "         2.28020622e-06, 3.39306484e-04, 2.22913950e-05, 9.86722589e-05,\n",
       "         5.24749886e-03, 9.78427976e-02, 3.12304287e-03, 4.34321464e-06,\n",
       "         1.80846378e-02, 4.63352762e-02, 2.88522443e-07, 1.31218723e-04,\n",
       "         4.06430736e-05, 3.90235044e-04, 9.59102716e-03, 2.00352079e-04,\n",
       "         1.18123571e-04, 1.50689343e-02, 1.37742597e-06, 9.80132882e-08,\n",
       "         2.87304792e-05, 1.01352955e-04, 4.92282037e-04, 2.27865328e-07,\n",
       "         9.64436850e-08, 3.91072244e-05, 2.20114089e-04, 1.08752056e-05,\n",
       "         1.44788777e-04, 2.78578629e-03, 1.30734872e-03, 5.21083891e-01,\n",
       "         1.36459767e-05, 4.14734794e-04, 4.59550787e-03, 5.37865744e-05,\n",
       "         1.01993112e-02, 2.02586452e-05, 6.23559827e-05, 4.81110328e-06,\n",
       "         1.85163626e-05, 6.98348507e-04, 4.47004363e-02, 2.41418161e-06,\n",
       "         6.47286288e-06, 1.56353286e-04, 6.23503547e-06, 3.42367748e-05,\n",
       "         3.86232955e-07, 2.62198046e-05, 1.83065233e-04, 8.24033850e-06],\n",
       "        dtype=float32),\n",
       "  array([6.4733513e-03, 1.2599958e-04, 3.4169573e-03, 4.1456360e-04,\n",
       "         4.2244885e-03, 1.1391407e-04, 4.8460325e-04, 4.8435386e-03,\n",
       "         7.5245011e-06, 2.5769224e-04, 6.0969562e-04, 5.6591161e-05,\n",
       "         8.9961141e-03, 4.0056033e-04, 1.1294784e-03, 1.8160337e-03,\n",
       "         1.9238926e-01, 1.7340948e-03, 5.7500228e-03, 1.4256882e-05,\n",
       "         1.0349833e-01, 4.5391139e-02, 4.1440921e-03, 1.4451975e-02,\n",
       "         2.5214395e-04, 6.5641472e-04, 5.4914202e-04, 1.4598457e-03,\n",
       "         5.3764018e-03, 5.0618319e-04, 3.7514183e-01, 8.3216272e-02,\n",
       "         2.7035563e-03, 1.1803834e-02, 1.1083316e-03, 3.9333067e-04,\n",
       "         2.0536082e-04, 1.3232431e-02, 1.3265149e-01, 1.5561574e-03,\n",
       "         8.5294424e-03, 1.0394333e-03, 2.0620900e-03, 9.2908619e-03,\n",
       "         2.5333986e-03, 1.0186479e-03, 8.4985673e-05, 4.3096545e-04,\n",
       "         7.3200368e-05, 6.3762614e-03, 5.7957083e-04, 2.3199907e-03,\n",
       "         6.7302823e-02, 6.2980968e-01, 4.1888114e-02, 9.0276604e-05,\n",
       "         1.7458421e-01, 3.4763727e-01, 1.1512534e-05, 2.7017081e-03,\n",
       "         6.3480815e-04, 5.9122401e-03, 1.3269670e-01, 4.1331202e-03,\n",
       "         2.6260293e-03, 1.5360075e-01, 2.3223683e-05, 4.9937171e-06,\n",
       "         7.4579578e-04, 1.7420895e-03, 9.0917191e-03, 4.4882081e-06,\n",
       "         3.3142269e-06, 9.4127166e-04, 3.5884038e-03, 2.2200659e-04,\n",
       "         2.7180302e-03, 3.8438730e-02, 2.0935141e-02, 9.1517293e-01,\n",
       "         3.8944697e-04, 7.7335732e-03, 6.1612718e-02, 1.2520942e-03,\n",
       "         1.3254410e-01, 5.5938959e-04, 8.2552258e-04, 9.7394550e-05,\n",
       "         4.9099053e-04, 8.5906293e-03, 3.2690099e-01, 3.9253766e-05,\n",
       "         1.8949414e-04, 3.1579486e-03, 1.9093821e-04, 7.9939468e-04,\n",
       "         7.8098974e-06, 6.6993793e-04, 3.0038960e-03, 2.3954589e-04],\n",
       "        dtype=float32),\n",
       "  array([6.0475625e-02, 1.4284892e-03, 2.8089432e-02, 5.3228359e-03,\n",
       "         4.2746812e-02, 1.2451949e-03, 6.1589875e-03, 4.7070358e-02,\n",
       "         1.2451533e-04, 3.5772179e-03, 6.9538569e-03, 9.5816352e-04,\n",
       "         7.4189715e-02, 4.2388951e-03, 1.0706401e-02, 1.5432694e-02,\n",
       "         6.4532995e-01, 1.5806710e-02, 5.4906759e-02, 1.8611411e-04,\n",
       "         4.7853416e-01, 2.8408992e-01, 3.6260992e-02, 1.0201077e-01,\n",
       "         3.2971560e-03, 5.4017152e-03, 6.0827150e-03, 1.7411334e-02,\n",
       "         3.9750479e-02, 6.6936403e-03, 7.9917467e-01, 4.0841147e-01,\n",
       "         3.1748485e-02, 8.9946494e-02, 1.2625181e-02, 3.6671772e-03,\n",
       "         2.1401290e-03, 1.0311451e-01, 5.2382827e-01, 1.7134290e-02,\n",
       "         6.9498435e-02, 8.0760252e-03, 2.1807058e-02, 8.1842586e-02,\n",
       "         1.9778460e-02, 1.2420188e-02, 1.1984783e-03, 5.9332964e-03,\n",
       "         1.0211334e-03, 5.7492074e-02, 6.9582318e-03, 2.6447510e-02,\n",
       "         3.5289025e-01, 9.3094218e-01, 2.4860574e-01, 1.0292355e-03,\n",
       "         5.8029205e-01, 7.7920967e-01, 1.8458522e-04, 2.6802165e-02,\n",
       "         6.0050841e-03, 4.7988329e-02, 5.5620074e-01, 4.1304849e-02,\n",
       "         2.7959226e-02, 5.4974139e-01, 2.3741426e-04, 9.9031779e-05,\n",
       "         9.1007100e-03, 1.6286610e-02, 8.2168698e-02, 6.0153910e-05,\n",
       "         5.8091049e-05, 1.0554148e-02, 3.1451322e-02, 2.5015981e-03,\n",
       "         2.7351050e-02, 2.3649640e-01, 1.5621504e-01, 9.8308957e-01,\n",
       "         5.1240791e-03, 7.0576221e-02, 3.3740124e-01, 1.3762234e-02,\n",
       "         5.4750872e-01, 7.1418015e-03, 6.6815247e-03, 1.1094904e-03,\n",
       "         5.9340359e-03, 6.0230333e-02, 7.4688238e-01, 3.9228721e-04,\n",
       "         2.4867225e-03, 3.0702900e-02, 2.6123296e-03, 8.6464947e-03,\n",
       "         9.3126837e-05, 8.5865613e-03, 2.6489828e-02, 3.1421429e-03],\n",
       "        dtype=float32),\n",
       "  array([2.8809005e-01, 1.0732484e-02, 1.4087109e-01, 4.0710241e-02,\n",
       "         2.2537793e-01, 9.0451501e-03, 4.3859106e-02, 2.3844551e-01,\n",
       "         1.2356815e-03, 2.8007846e-02, 4.9105767e-02, 9.0040285e-03,\n",
       "         3.0572566e-01, 2.8680081e-02, 6.2842779e-02, 8.3127670e-02,\n",
       "         9.0277666e-01, 9.0774424e-02, 2.6758957e-01, 1.5743859e-03,\n",
       "         8.2511997e-01, 6.7769754e-01, 1.8288977e-01, 3.6926880e-01,\n",
       "         2.4562227e-02, 3.0813282e-02, 3.7957154e-02, 1.1265892e-01,\n",
       "         1.8046799e-01, 5.0359324e-02, 9.4401503e-01, 7.7608061e-01,\n",
       "         1.9374844e-01, 3.4931397e-01, 8.0377325e-02, 2.2726461e-02,\n",
       "         1.4912225e-02, 3.8847899e-01, 8.4166247e-01, 1.0476812e-01,\n",
       "         2.9822892e-01, 5.1128406e-02, 1.2681523e-01, 3.4866205e-01,\n",
       "         9.9301606e-02, 8.4502786e-02, 9.3481420e-03, 4.6212412e-02,\n",
       "         7.9041459e-03, 2.6320052e-01, 4.7102064e-02, 1.6235234e-01,\n",
       "         7.3084050e-01, 9.8484796e-01, 6.1970353e-01, 7.6828985e-03,\n",
       "         8.5894167e-01, 9.4253951e-01, 1.5579499e-03, 1.4560723e-01,\n",
       "         3.8240280e-02, 2.2084150e-01, 8.6533827e-01, 2.1573769e-01,\n",
       "         1.5951480e-01, 8.4668547e-01, 1.7288069e-03, 1.0103297e-03,\n",
       "         6.2829927e-02, 9.2842638e-02, 3.5742253e-01, 6.1911246e-04,\n",
       "         6.2255439e-04, 6.6240877e-02, 1.6180585e-01, 1.8170146e-02,\n",
       "         1.5726306e-01, 6.1010188e-01, 5.0665450e-01, 9.9513370e-01,\n",
       "         3.8166396e-02, 3.1583589e-01, 7.2064006e-01, 8.4492244e-02,\n",
       "         8.5887712e-01, 5.1187035e-02, 3.7364729e-02, 8.3092414e-03,\n",
       "         4.0327471e-02, 2.4736844e-01, 9.2481291e-01, 2.8022723e-03,\n",
       "         1.8388482e-02, 1.6173954e-01, 2.0029902e-02, 5.2797075e-02,\n",
       "         7.6637056e-04, 6.3456416e-02, 1.3858481e-01, 2.3249898e-02],\n",
       "        dtype=float32),\n",
       "  array([0.6446559 , 0.05715118, 0.41078615, 0.18888555, 0.5730813 ,\n",
       "         0.04717453, 0.18529235, 0.5832364 , 0.00832326, 0.13420857,\n",
       "         0.21348788, 0.05358164, 0.6320316 , 0.13015999, 0.23286423,\n",
       "         0.28255084, 0.97240114, 0.31605765, 0.6188099 , 0.00955508,\n",
       "         0.94588834, 0.88873804, 0.49484965, 0.69228095, 0.11506271,\n",
       "         0.12581432, 0.14669478, 0.38245496, 0.47310144, 0.22267762,\n",
       "         0.98121864, 0.92728615, 0.5462151 , 0.68318564, 0.29075122,\n",
       "         0.09948318, 0.07362375, 0.718409  , 0.9505764 , 0.35123122,\n",
       "         0.6393342 , 0.2200371 , 0.39697006, 0.69659215, 0.31457856,\n",
       "         0.31703332, 0.04635673, 0.21088952, 0.03916915, 0.5947902 ,\n",
       "         0.19105677, 0.49062935, 0.9087644 , 0.9954087 , 0.8544182 ,\n",
       "         0.04119929, 0.952658  , 0.9832461 , 0.00824097, 0.4239389 ,\n",
       "         0.16484681, 0.5418848 , 0.95900536, 0.55177516, 0.4634221 ,\n",
       "         0.9493043 , 0.00979557, 0.00635617, 0.25115085, 0.31510738,\n",
       "         0.7135315 , 0.00488685, 0.0045817 , 0.24244516, 0.4588923 ,\n",
       "         0.09029092, 0.46933475, 0.8529974 , 0.80467886, 0.9981205 ,\n",
       "         0.17119673, 0.6649698 , 0.90542483, 0.29435933, 0.9563293 ,\n",
       "         0.2147049 , 0.14764915, 0.04420744, 0.16660821, 0.5625229 ,\n",
       "         0.97494465, 0.01548911, 0.08588467, 0.45058483, 0.09579776,\n",
       "         0.19519454, 0.00477019, 0.26605698, 0.4113999 , 0.10737382],\n",
       "        dtype=float32),\n",
       "  array([0.8625525 , 0.21023522, 0.7042885 , 0.4898955 , 0.8274887 ,\n",
       "         0.17526098, 0.454186  , 0.82749873, 0.04067812, 0.38195038,\n",
       "         0.52237755, 0.20544426, 0.83855504, 0.37350127, 0.52140146,\n",
       "         0.5797917 , 0.9906848 , 0.6297788 , 0.8473179 , 0.04374563,\n",
       "         0.98052543, 0.95940113, 0.7727116 , 0.87415606, 0.3359287 ,\n",
       "         0.34763178, 0.36043292, 0.69316113, 0.74939317, 0.53956795,\n",
       "         0.99234176, 0.9736472 , 0.8181203 , 0.87368107, 0.5928394 ,\n",
       "         0.2973224 , 0.24827328, 0.88969004, 0.9824279 , 0.65412664,\n",
       "         0.8540331 , 0.53538555, 0.6954931 , 0.8842547 , 0.6085454 ,\n",
       "         0.6372688 , 0.15484115, 0.5248081 , 0.13264117, 0.82192004,\n",
       "         0.45806116, 0.78399366, 0.96662426, 0.99817896, 0.943496  ,\n",
       "         0.15917647, 0.9816789 , 0.9941881 , 0.030609  , 0.708519  ,\n",
       "         0.43926534, 0.79758906, 0.9850559 , 0.8080999 , 0.7473951 ,\n",
       "         0.98082757, 0.04459251, 0.02770678, 0.55865705, 0.6185019 ,\n",
       "         0.8968605 , 0.0288991 , 0.02479949, 0.51908034, 0.7477145 ,\n",
       "         0.29344115, 0.7629543 , 0.9446835 , 0.9282752 , 0.9990977 ,\n",
       "         0.44495496, 0.8681204 , 0.96558905, 0.5859474 , 0.9839406 ,\n",
       "         0.5081549 , 0.3872475 , 0.16647527, 0.41661608, 0.8033718 ,\n",
       "         0.9900802 , 0.06751832, 0.25882268, 0.72704554, 0.28817898,\n",
       "         0.44329932, 0.02352145, 0.5909615 , 0.70671356, 0.31076476],\n",
       "        dtype=float32),\n",
       "  array([0.9464946 , 0.48964882, 0.8723988 , 0.7594343 , 0.9337343 ,\n",
       "         0.4297361 , 0.7059367 , 0.93042445, 0.14489323, 0.661331  ,\n",
       "         0.7806409 , 0.4819522 , 0.92821723, 0.6620086 , 0.7659021 ,\n",
       "         0.8031333 , 0.9962606 , 0.8386843 , 0.9393647 , 0.15000391,\n",
       "         0.99166733, 0.98294526, 0.90759724, 0.94762504, 0.61401176,\n",
       "         0.62592685, 0.5997818 , 0.86786115, 0.89435595, 0.79452556,\n",
       "         0.9963482 , 0.98884165, 0.93036497, 0.9489773 , 0.8073143 ,\n",
       "         0.57741785, 0.531161  , 0.9548951 , 0.9927327 , 0.8414744 ,\n",
       "         0.94144434, 0.78975016, 0.8661744 , 0.9542077 , 0.8171737 ,\n",
       "         0.84206873, 0.35320663, 0.7849614 , 0.31244895, 0.92176145,\n",
       "         0.70832974, 0.91635334, 0.98592365, 0.99910873, 0.97531486,\n",
       "         0.40898588, 0.9917754 , 0.9976259 , 0.08566996, 0.8673268 ,\n",
       "         0.7208221 , 0.9165722 , 0.9934871 , 0.921135  , 0.8900815 ,\n",
       "         0.9916089 , 0.15763846, 0.08921103, 0.7936769 , 0.8250766 ,\n",
       "         0.96129787, 0.12251851, 0.10007264, 0.74437886, 0.89622176,\n",
       "         0.5871632 , 0.9045    , 0.9767463 , 0.971059  , 0.9994904 ,\n",
       "         0.7125067 , 0.94703394, 0.98556376, 0.79354227, 0.99296814,\n",
       "         0.7568416 , 0.6614864 , 0.41384327, 0.67323595, 0.91660243,\n",
       "         0.99541074, 0.21983801, 0.508275  , 0.8754787 , 0.55067027,\n",
       "         0.67951244, 0.09165897, 0.8201487 , 0.8739478 , 0.5736328 ],\n",
       "        dtype=float32),\n",
       "  array([0.97683823, 0.74495226, 0.94434667, 0.8961026 , 0.97249067,\n",
       "         0.6943513 , 0.85115576, 0.96929705, 0.35849938, 0.8363951 ,\n",
       "         0.9065809 , 0.73434335, 0.9650282 , 0.8455119 , 0.89480156,\n",
       "         0.912819  , 0.9982438 , 0.9313741 , 0.9735252 , 0.36421433,\n",
       "         0.99584806, 0.99176884, 0.9605576 , 0.97619015, 0.8088518 ,\n",
       "         0.82020336, 0.7730066 , 0.94083244, 0.954281  , 0.9144623 ,\n",
       "         0.9980258 , 0.9945427 , 0.97057414, 0.9773916 , 0.91088104,\n",
       "         0.79273057, 0.76749945, 0.9795075 , 0.9965448 , 0.925857  ,\n",
       "         0.9743593 , 0.909896  , 0.9399077 , 0.9797148 , 0.9180656 ,\n",
       "         0.931247  , 0.5763391 , 0.9096971 , 0.5304982 , 0.96215785,\n",
       "         0.8545475 , 0.96485114, 0.993168  , 0.9994854 , 0.9877237 ,\n",
       "         0.682966  , 0.9957936 , 0.9988738 , 0.1882966 , 0.9372293 ,\n",
       "         0.8786674 , 0.96354187, 0.99669766, 0.96471936, 0.94858205,\n",
       "         0.9958189 , 0.3927412 , 0.2169647 , 0.9076831 , 0.92153066,\n",
       "         0.9835407 , 0.34259427, 0.2858669 , 0.86831844, 0.9557703 ,\n",
       "         0.8045301 , 0.95900756, 0.9889203 , 0.9867111 , 0.99967384,\n",
       "         0.8644582 , 0.97642344, 0.9930281 , 0.89738214, 0.9964251 ,\n",
       "         0.88664955, 0.839841  , 0.67832553, 0.834533  , 0.96257776,\n",
       "         0.9975733 , 0.4850353 , 0.71921706, 0.9402164 , 0.75547606,\n",
       "         0.82804537, 0.26486212, 0.9225481 , 0.9450332 , 0.7704145 ],\n",
       "        dtype=float32),\n",
       "  array([0.9886628 , 0.8844837 , 0.9737275 , 0.95277476, 0.987253  ,\n",
       "         0.85576063, 0.9207461 , 0.98481745, 0.61057496, 0.91946846,\n",
       "         0.95792013, 0.87482214, 0.9810656 , 0.929915  , 0.9512954 ,\n",
       "         0.95956004, 0.9990476 , 0.96858764, 0.987046  , 0.6157501 ,\n",
       "         0.9976433 , 0.9955087 , 0.98140895, 0.9880044 , 0.90733784,\n",
       "         0.91639394, 0.872486  , 0.9706274 , 0.97847605, 0.9619718 ,\n",
       "         0.9988129 , 0.99697113, 0.9858766 , 0.9888265 , 0.95605433,\n",
       "         0.9041322 , 0.89283967, 0.9895829 , 0.9981318 , 0.96203464,\n",
       "         0.987473  , 0.95845205, 0.9706889 , 0.9898369 , 0.96138996,\n",
       "         0.9673477 , 0.7464105 , 0.95975477, 0.709501  , 0.9794645 ,\n",
       "         0.9250897 , 0.98318833, 0.9962287 , 0.99966025, 0.99311185,\n",
       "         0.8529238 , 0.99758756, 0.9993855 , 0.33443344, 0.9674893 ,\n",
       "         0.946129  , 0.9824325 , 0.99809676, 0.9823064 , 0.9729893 ,\n",
       "         0.9976629 , 0.65982026, 0.40270835, 0.9560285 , 0.96246123,\n",
       "         0.991956  , 0.61468714, 0.549305  , 0.928394  , 0.97929335,\n",
       "         0.9113635 , 0.98032916, 0.9940538 , 0.99306583, 0.9997687 ,\n",
       "         0.93358445, 0.9882338 , 0.99617046, 0.945066  , 0.99793565,\n",
       "         0.9441401 , 0.9253972 , 0.84470576, 0.9153382 , 0.9815865 ,\n",
       "         0.99855727, 0.7317743 , 0.8461599 , 0.9684181 , 0.87033933,\n",
       "         0.90614474, 0.52644265, 0.9637285 , 0.97401106, 0.878534  ],\n",
       "        dtype=float32),\n",
       "  array([0.9937518 , 0.9459786 , 0.98630756, 0.9763317 , 0.9933704 ,\n",
       "         0.9314771 , 0.953696  , 0.99160403, 0.79265237, 0.956873  ,\n",
       "         0.97906667, 0.9387308 , 0.988636  , 0.96584165, 0.97564346,\n",
       "         0.9795741 , 0.99940896, 0.9840644 , 0.9929148 , 0.79706675,\n",
       "         0.9985012 , 0.9972677 , 0.99021554, 0.99330336, 0.95246965,\n",
       "         0.95906514, 0.9254314 , 0.9836615 , 0.9887869 , 0.98106915,\n",
       "         0.99921405, 0.9981194 , 0.99232894, 0.99384177, 0.9762412 ,\n",
       "         0.9538613 , 0.9486181 , 0.99410546, 0.9988575 , 0.9783613 ,\n",
       "         0.9931646 , 0.9786471 , 0.98422563, 0.99427336, 0.9802122 ,\n",
       "         0.9826941 , 0.8502066 , 0.98008037, 0.82483935, 0.9875386 ,\n",
       "         0.9583393 , 0.9908065 , 0.9976554 , 0.9997489 , 0.9956826 ,\n",
       "         0.9316393 , 0.99846387, 0.99961686, 0.4957505 , 0.9813493 ,\n",
       "         0.97385275, 0.9905974 , 0.9987733 , 0.99005157, 0.98402065,\n",
       "         0.99854714, 0.8351667 , 0.59225744, 0.9769155 , 0.9803429 ,\n",
       "         0.99550074, 0.8045726 , 0.761766  , 0.9577449 , 0.9891991 ,\n",
       "         0.9574314 , 0.9894015 , 0.99642926, 0.9959155 , 0.99982077,\n",
       "         0.96430546, 0.9934482 , 0.9976311 , 0.96764666, 0.99866676,\n",
       "         0.9697374 , 0.96313787, 0.92483485, 0.9538764 , 0.98999363,\n",
       "         0.99904555, 0.87320954, 0.91287637, 0.9815161 , 0.9278424 ,\n",
       "         0.9458522 , 0.7494075 , 0.9810471 , 0.9864261 , 0.93230915],\n",
       "        dtype=float32),\n",
       "  array([0.9961506 , 0.97241926, 0.99208903, 0.98680174, 0.9961247 ,\n",
       "         0.9649814 , 0.9700514 , 0.99483925, 0.89155877, 0.9743953 ,\n",
       "         0.9883985 , 0.9672025 , 0.9924723 , 0.9816274 , 0.98662496,\n",
       "         0.98862714, 0.9995833 , 0.9909881 , 0.9956905 , 0.8950868 ,\n",
       "         0.99894387, 0.998164  , 0.99424946, 0.995867  , 0.9734157 ,\n",
       "         0.9781683 , 0.95359737, 0.98985696, 0.9935102 , 0.98931783,\n",
       "         0.99942976, 0.9987066 , 0.99532604, 0.99622655, 0.98581064,\n",
       "         0.97589135, 0.97315097, 0.99630797, 0.99921083, 0.9862714 ,\n",
       "         0.99584705, 0.9877363 , 0.99060225, 0.996398  , 0.9888521 ,\n",
       "         0.9897295 , 0.90835655, 0.9889178 , 0.89167726, 0.9916033 ,\n",
       "         0.9746269 , 0.9942895 , 0.99836963, 0.99979514, 0.9969997 ,\n",
       "         0.9656863 , 0.99891865, 0.99972874, 0.63908654, 0.9881351 ,\n",
       "         0.9858467 , 0.9944141 , 0.99912506, 0.99376196, 0.9894348 ,\n",
       "         0.99899906, 0.9204007 , 0.73824286, 0.98652506, 0.98867375,\n",
       "         0.9971433 , 0.901526  , 0.87983286, 0.9728229 , 0.9937152 ,\n",
       "         0.9775283 , 0.99362445, 0.9976089 , 0.99729913, 0.9998491 ,\n",
       "         0.97863674, 0.99595296, 0.9983602 , 0.9790003 , 0.999047  ,\n",
       "         0.98183125, 0.9801239 , 0.96103114, 0.9727175 , 0.9939957 ,\n",
       "         0.99930155, 0.93834394, 0.9473351 , 0.9880526 , 0.9566003 ,\n",
       "         0.96654385, 0.8758571 , 0.988946  , 0.99213964, 0.95918787],\n",
       "        dtype=float32)],\n",
       " range(20, 81, 5))"
      ]
     },
     "execution_count": 135,
     "metadata": {},
     "output_type": "execute_result"
    }
   ],
   "source": [
    "probs_life"
   ]
  },
  {
   "cell_type": "code",
   "execution_count": 136,
   "metadata": {},
   "outputs": [
    {
     "data": {
      "image/png": "[encoded data removed]",
      "text/plain": [
       "<Figure size 864x288 with 2 Axes>"
      ]
     },
     "metadata": {},
     "output_type": "display_data"
    }
   ],
   "source": [
    "plot()"
   ]
  },
  {
   "cell_type": "code",
   "execution_count": 102,
   "metadata": {},
   "outputs": [
    {
     "data": {
      "text/plain": [
       "3.1959036e-07"
      ]
     },
     "execution_count": 102,
     "metadata": {},
     "output_type": "execute_result"
    }
   ],
   "source": [
    "np.mean(probs_life[0][0])"
   ]
  },
  {
   "cell_type": "code",
   "execution_count": 114,
   "metadata": {},
   "outputs": [
    {
     "ename": "RuntimeError",
     "evalue": "running_mean should contain 2 elements not 7",
     "output_type": "error",
     "traceback": [
      "\u001b[0;31m---------------------------------------------------------------------------\u001b[0m",
      "\u001b[0;31mRuntimeError\u001b[0m                              Traceback (most recent call last)",
      "\u001b[0;32m<ipython-input-114-8d0896f5fb7c>\u001b[0m in \u001b[0;36m<module>\u001b[0;34m\u001b[0m\n\u001b[1;32m      1\u001b[0m \u001b[0;32mimport\u001b[0m \u001b[0mtorch\u001b[0m\u001b[0;34m\u001b[0m\u001b[0;34m\u001b[0m\u001b[0m\n\u001b[0;32m----> 2\u001b[0;31m \u001b[0mensemble\u001b[0m\u001b[0;34m.\u001b[0m\u001b[0mmodels\u001b[0m\u001b[0;34m[\u001b[0m\u001b[0;36m0\u001b[0m\u001b[0;34m]\u001b[0m\u001b[0;34m.\u001b[0m\u001b[0mapply\u001b[0m\u001b[0;34m(\u001b[0m\u001b[0mtorch\u001b[0m\u001b[0;34m.\u001b[0m\u001b[0mTensor\u001b[0m\u001b[0;34m(\u001b[0m\u001b[0mencode_features\u001b[0m\u001b[0;34m(\u001b[0m\u001b[0mc\u001b[0m\u001b[0;34m,\u001b[0m \u001b[0mbaseline\u001b[0m\u001b[0;34m)\u001b[0m\u001b[0;34m)\u001b[0m\u001b[0;34m)\u001b[0m\u001b[0;34m\u001b[0m\u001b[0;34m\u001b[0m\u001b[0m\n\u001b[0m",
      "\u001b[0;32m~/projects/diabnet/diabnet/model.py\u001b[0m in \u001b[0;36mapply\u001b[0;34m(self, x)\u001b[0m\n\u001b[1;32m    180\u001b[0m \u001b[0;34m\u001b[0m\u001b[0m\n\u001b[1;32m    181\u001b[0m     \u001b[0;32mdef\u001b[0m \u001b[0mapply\u001b[0m\u001b[0;34m(\u001b[0m\u001b[0mself\u001b[0m\u001b[0;34m,\u001b[0m \u001b[0mx\u001b[0m\u001b[0;34m:\u001b[0m \u001b[0mtorch\u001b[0m\u001b[0;34m.\u001b[0m\u001b[0mTensor\u001b[0m\u001b[0;34m)\u001b[0m \u001b[0;34m->\u001b[0m \u001b[0mtorch\u001b[0m\u001b[0;34m.\u001b[0m\u001b[0mTensor\u001b[0m\u001b[0;34m:\u001b[0m\u001b[0;34m\u001b[0m\u001b[0;34m\u001b[0m\u001b[0m\n\u001b[0;32m--> 182\u001b[0;31m         \u001b[0my\u001b[0m \u001b[0;34m=\u001b[0m \u001b[0mself\u001b[0m\u001b[0;34m.\u001b[0m\u001b[0mforward\u001b[0m\u001b[0;34m(\u001b[0m\u001b[0mx\u001b[0m\u001b[0;34m)\u001b[0m\u001b[0;34m\u001b[0m\u001b[0;34m\u001b[0m\u001b[0m\n\u001b[0m\u001b[1;32m    183\u001b[0m         \u001b[0mages\u001b[0m \u001b[0;34m=\u001b[0m \u001b[0mself\u001b[0m\u001b[0;34m.\u001b[0m\u001b[0mget_ages\u001b[0m\u001b[0;34m(\u001b[0m\u001b[0mx\u001b[0m\u001b[0;34m)\u001b[0m\u001b[0;34m\u001b[0m\u001b[0;34m\u001b[0m\u001b[0m\n\u001b[1;32m    184\u001b[0m         \u001b[0;32mreturn\u001b[0m \u001b[0mself\u001b[0m\u001b[0;34m.\u001b[0m\u001b[0msigmoid\u001b[0m\u001b[0;34m(\u001b[0m\u001b[0my\u001b[0m\u001b[0;34m,\u001b[0m \u001b[0mages\u001b[0m\u001b[0;34m,\u001b[0m \u001b[0mwith_correction\u001b[0m\u001b[0;34m=\u001b[0m\u001b[0mself\u001b[0m\u001b[0;34m.\u001b[0m\u001b[0muse_correction\u001b[0m\u001b[0;34m)\u001b[0m\u001b[0;34m\u001b[0m\u001b[0;34m\u001b[0m\u001b[0m\n",
      "\u001b[0;32m~/projects/diabnet/diabnet/model.py\u001b[0m in \u001b[0;36mforward\u001b[0;34m(self, x)\u001b[0m\n\u001b[1;32m    174\u001b[0m         \u001b[0mout\u001b[0m \u001b[0;34m=\u001b[0m \u001b[0mself\u001b[0m\u001b[0;34m.\u001b[0m\u001b[0mdropout\u001b[0m\u001b[0;34m(\u001b[0m\u001b[0mout\u001b[0m\u001b[0;34m)\u001b[0m\u001b[0;34m\u001b[0m\u001b[0;34m\u001b[0m\u001b[0m\n\u001b[1;32m    175\u001b[0m         \u001b[0mout\u001b[0m \u001b[0;34m=\u001b[0m \u001b[0mself\u001b[0m\u001b[0;34m.\u001b[0m\u001b[0mfc\u001b[0m\u001b[0;34m(\u001b[0m\u001b[0mout\u001b[0m\u001b[0;34m)\u001b[0m\u001b[0;34m\u001b[0m\u001b[0;34m\u001b[0m\u001b[0m\n\u001b[0;32m--> 176\u001b[0;31m         \u001b[0mout\u001b[0m \u001b[0;34m=\u001b[0m \u001b[0mself\u001b[0m\u001b[0;34m.\u001b[0m\u001b[0mbn\u001b[0m\u001b[0;34m(\u001b[0m\u001b[0mout\u001b[0m\u001b[0;34m)\u001b[0m\u001b[0;34m\u001b[0m\u001b[0;34m\u001b[0m\u001b[0m\n\u001b[0m\u001b[1;32m    177\u001b[0m         \u001b[0mout\u001b[0m \u001b[0;34m=\u001b[0m \u001b[0mself\u001b[0m\u001b[0;34m.\u001b[0m\u001b[0mact\u001b[0m\u001b[0;34m(\u001b[0m\u001b[0mout\u001b[0m\u001b[0;34m)\u001b[0m\u001b[0;34m\u001b[0m\u001b[0;34m\u001b[0m\u001b[0m\n\u001b[1;32m    178\u001b[0m         \u001b[0mout\u001b[0m \u001b[0;34m=\u001b[0m \u001b[0mself\u001b[0m\u001b[0;34m.\u001b[0m\u001b[0mexit\u001b[0m\u001b[0;34m(\u001b[0m\u001b[0mout\u001b[0m\u001b[0;34m)\u001b[0m\u001b[0;34m\u001b[0m\u001b[0;34m\u001b[0m\u001b[0m\n",
      "\u001b[0;32m~/projects/diabnet/.venv/lib/python3.9/site-packages/torch/nn/modules/module.py\u001b[0m in \u001b[0;36m_call_impl\u001b[0;34m(self, *input, **kwargs)\u001b[0m\n\u001b[1;32m   1049\u001b[0m         if not (self._backward_hooks or self._forward_hooks or self._forward_pre_hooks or _global_backward_hooks\n\u001b[1;32m   1050\u001b[0m                 or _global_forward_hooks or _global_forward_pre_hooks):\n\u001b[0;32m-> 1051\u001b[0;31m             \u001b[0;32mreturn\u001b[0m \u001b[0mforward_call\u001b[0m\u001b[0;34m(\u001b[0m\u001b[0;34m*\u001b[0m\u001b[0minput\u001b[0m\u001b[0;34m,\u001b[0m \u001b[0;34m**\u001b[0m\u001b[0mkwargs\u001b[0m\u001b[0;34m)\u001b[0m\u001b[0;34m\u001b[0m\u001b[0;34m\u001b[0m\u001b[0m\n\u001b[0m\u001b[1;32m   1052\u001b[0m         \u001b[0;31m# Do not call functions when jit is used\u001b[0m\u001b[0;34m\u001b[0m\u001b[0;34m\u001b[0m\u001b[0;34m\u001b[0m\u001b[0m\n\u001b[1;32m   1053\u001b[0m         \u001b[0mfull_backward_hooks\u001b[0m\u001b[0;34m,\u001b[0m \u001b[0mnon_full_backward_hooks\u001b[0m \u001b[0;34m=\u001b[0m \u001b[0;34m[\u001b[0m\u001b[0;34m]\u001b[0m\u001b[0;34m,\u001b[0m \u001b[0;34m[\u001b[0m\u001b[0;34m]\u001b[0m\u001b[0;34m\u001b[0m\u001b[0;34m\u001b[0m\u001b[0m\n",
      "\u001b[0;32m~/projects/diabnet/.venv/lib/python3.9/site-packages/torch/nn/modules/batchnorm.py\u001b[0m in \u001b[0;36mforward\u001b[0;34m(self, input)\u001b[0m\n\u001b[1;32m    165\u001b[0m         \u001b[0mused\u001b[0m \u001b[0;32mfor\u001b[0m \u001b[0mnormalization\u001b[0m \u001b[0;34m(\u001b[0m\u001b[0mi\u001b[0m\u001b[0;34m.\u001b[0m\u001b[0me\u001b[0m\u001b[0;34m.\u001b[0m \u001b[0;32min\u001b[0m \u001b[0meval\u001b[0m \u001b[0mmode\u001b[0m \u001b[0mwhen\u001b[0m \u001b[0mbuffers\u001b[0m \u001b[0mare\u001b[0m \u001b[0;32mnot\u001b[0m \u001b[0;32mNone\u001b[0m\u001b[0;34m)\u001b[0m\u001b[0;34m.\u001b[0m\u001b[0;34m\u001b[0m\u001b[0;34m\u001b[0m\u001b[0m\n\u001b[1;32m    166\u001b[0m         \"\"\"\n\u001b[0;32m--> 167\u001b[0;31m         return F.batch_norm(\n\u001b[0m\u001b[1;32m    168\u001b[0m             \u001b[0minput\u001b[0m\u001b[0;34m,\u001b[0m\u001b[0;34m\u001b[0m\u001b[0;34m\u001b[0m\u001b[0m\n\u001b[1;32m    169\u001b[0m             \u001b[0;31m# If buffers are not to be tracked, ensure that they won't be updated\u001b[0m\u001b[0;34m\u001b[0m\u001b[0;34m\u001b[0m\u001b[0;34m\u001b[0m\u001b[0m\n",
      "\u001b[0;32m~/projects/diabnet/.venv/lib/python3.9/site-packages/torch/nn/functional.py\u001b[0m in \u001b[0;36mbatch_norm\u001b[0;34m(input, running_mean, running_var, weight, bias, training, momentum, eps)\u001b[0m\n\u001b[1;32m   2279\u001b[0m         \u001b[0m_verify_batch_size\u001b[0m\u001b[0;34m(\u001b[0m\u001b[0minput\u001b[0m\u001b[0;34m.\u001b[0m\u001b[0msize\u001b[0m\u001b[0;34m(\u001b[0m\u001b[0;34m)\u001b[0m\u001b[0;34m)\u001b[0m\u001b[0;34m\u001b[0m\u001b[0;34m\u001b[0m\u001b[0m\n\u001b[1;32m   2280\u001b[0m \u001b[0;34m\u001b[0m\u001b[0m\n\u001b[0;32m-> 2281\u001b[0;31m     return torch.batch_norm(\n\u001b[0m\u001b[1;32m   2282\u001b[0m         \u001b[0minput\u001b[0m\u001b[0;34m,\u001b[0m \u001b[0mweight\u001b[0m\u001b[0;34m,\u001b[0m \u001b[0mbias\u001b[0m\u001b[0;34m,\u001b[0m \u001b[0mrunning_mean\u001b[0m\u001b[0;34m,\u001b[0m \u001b[0mrunning_var\u001b[0m\u001b[0;34m,\u001b[0m \u001b[0mtraining\u001b[0m\u001b[0;34m,\u001b[0m \u001b[0mmomentum\u001b[0m\u001b[0;34m,\u001b[0m \u001b[0meps\u001b[0m\u001b[0;34m,\u001b[0m \u001b[0mtorch\u001b[0m\u001b[0;34m.\u001b[0m\u001b[0mbackends\u001b[0m\u001b[0;34m.\u001b[0m\u001b[0mcudnn\u001b[0m\u001b[0;34m.\u001b[0m\u001b[0menabled\u001b[0m\u001b[0;34m\u001b[0m\u001b[0;34m\u001b[0m\u001b[0m\n\u001b[1;32m   2283\u001b[0m     )\n",
      "\u001b[0;31mRuntimeError\u001b[0m: running_mean should contain 2 elements not 7"
     ]
    }
   ],
   "source": [
    "import torch\n",
    "ensemble.models[0].apply(torch.Tensor(encode_features(c, baseline)))"
   ]
  },
  {
   "cell_type": "code",
   "execution_count": 104,
   "metadata": {},
   "outputs": [],
   "source": [
    "encode_features?"
   ]
  },
  {
   "cell_type": "code",
   "execution_count": 115,
   "metadata": {},
   "outputs": [
    {
     "data": {
      "text/plain": [
       "tensor([[2., 2., 2., 2., 2., 2., 2., 2., 2., 2., 2., 2., 1., 1., 0., 0., 2., 0.,\n",
       "         0., 2.],\n",
       "        [0., 0., 0., 0., 0., 0., 0., 0., 0., 0., 0., 0., 0., 1., 0., 0., 0., 0.,\n",
       "         0., 0.]])"
      ]
     },
     "execution_count": 115,
     "metadata": {},
     "output_type": "execute_result"
    }
   ],
   "source": [
    "pred._encode_features(baseline)[0,:,-20:]"
   ]
  },
  {
   "cell_type": "code",
   "execution_count": null,
   "metadata": {},
   "outputs": [],
   "source": []
  }
 ],
 "metadata": {
  "kernelspec": {
   "display_name": "Python 3 (ipykernel)",
   "language": "python",
   "name": "python3"
  },
  "language_info": {
   "codemirror_mode": {
    "name": "ipython",
    "version": 3
   },
   "file_extension": ".py",
   "mimetype": "text/x-python",
   "name": "python",
   "nbconvert_exporter": "python",
   "pygments_lexer": "ipython3",
   "version": "3.9.7"
  },
  "metadata": {
   "interpreter": {
    "hash": "80dbbbcd418b21f6a3dece7f655e280c08906357593631f5a6de133dcde57fb8"
   }
  }
 },
 "nbformat": 4,
 "nbformat_minor": 4
}
