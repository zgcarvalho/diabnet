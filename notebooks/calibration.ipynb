{
 "cells": [
  {
   "cell_type": "code",
   "execution_count": 35,
   "metadata": {},
   "outputs": [
    {
     "name": "stdout",
     "output_type": "stream",
     "text": [
      "The autoreload extension is already loaded. To reload it, use:\n",
      "  %reload_ext autoreload\n"
     ]
    }
   ],
   "source": [
    "%load_ext autoreload\n",
    "%autoreload 2\n",
    "%matplotlib inline\n",
    "import report_ensemble\n",
    "from diabnet.ensemble import Ensemble\n",
    "import pandas as pd\n",
    "import seaborn as sns\n",
    "import numpy as np\n",
    "import matplotlib.pyplot as plt\n",
    "from astropy.stats import bootstrap\n",
    "import scipy.stats as st\n",
    "# warnings.simplefilter(action='ignore', category=FutureWarning)\n",
    "# sns.set_style(\"whitegrid\")\n",
    "sns.set_style(\"ticks\",{'axes.grid': True,'grid.color': '.95', 'grid.linestyle': '-', 'grid.zorder': 0})\n",
    "# sns.set_style(\"ticks\",{'axes.grid': True,'grid.color': '.95', 'grid.linestyle': '--'})\n",
    "COLORS = sns.color_palette(\"colorblind\")\n",
    "\n"
   ]
  },
  {
   "cell_type": "code",
   "execution_count": 76,
   "metadata": {},
   "outputs": [
    {
     "name": "stdout",
     "output_type": "stream",
     "text": [
      "../data/models/model-positive-13-adamw-lc5-2021-03-03\n"
     ]
    }
   ],
   "source": [
    "ensemble = Ensemble('../data/models/model-positive-13-adamw-lc5-2021-03-03')"
   ]
  },
  {
   "cell_type": "code",
   "execution_count": 77,
   "metadata": {},
   "outputs": [
    {
     "name": "stdout",
     "output_type": "stream",
     "text": [
      "NEGATIVE FILE ../data/datasets/visits_sp_unique_test_positivo_1000_random_0_negatives_older60.csv\n"
     ]
    }
   ],
   "source": [
    "r = report_ensemble.DiabNetReport(ensemble, \"positivo_1000_random_0.csv\")"
   ]
  },
  {
   "cell_type": "code",
   "execution_count": 78,
   "metadata": {},
   "outputs": [],
   "source": [
    "def ece_mce_t_p(preds, targets, bins=10):\n",
    "    lower_bound = np.arange(0.0, 1.0, 1.0/bins)\n",
    "    upper_bound = lower_bound + 1.0/bins\n",
    "    \n",
    "    ece = np.zeros(1)\n",
    "    mce = np.zeros(1)\n",
    "    t = np.zeros(bins)\n",
    "    p = np.zeros(bins)\n",
    "    interval_min = np.zeros(bins)\n",
    "    interval_max = np.zeros(bins)\n",
    "    \n",
    "    \n",
    "    \n",
    "    for i in range(bins):\n",
    "        mask = (preds > lower_bound[i]) * (preds <= upper_bound[i])\n",
    "        if np.any(mask):\n",
    "#             print(lower_bound[i], upper_bound[i])\n",
    "#             print(preds[mask])\n",
    "#             print(targets[mask])\n",
    "            t[i] = np.mean(targets[mask])\n",
    "            p[i] = np.mean(preds[mask])\n",
    "            # num of bootstraps is equal to  \n",
    "#             data = bootstrap(targets[mask], bootnum=10000, bootfunc=lambda x: np.mean(x) - t[i])\n",
    "            data = bootstrap(targets[mask], bootnum=10000, bootfunc=lambda x: np.mean(x))\n",
    "            data = np.sort(data)\n",
    "#             np.sort(data)\n",
    "            #print(st.sem(data))\n",
    "            #interval_min[i], interval_max[i] = st.t.interval(alpha=0.95, df=len(data)-1, loc=t[i], scale=st.sem(data))\n",
    "#             t[i], _, _, ci = jackknife_stats(targets[mask], np.mean, 0.95)\n",
    "#             interval_min[i], interval_max[i] = data[249], data[9749]\n",
    "            interval_min[i], interval_max[i] = data[249]-t[i], data[9749]-t[i]\n",
    "            delta = np.abs(np.mean(preds[mask]) - np.mean(targets[mask]))\n",
    "            ece += delta * np.mean(mask)\n",
    "            mce = np.maximum(mce, delta)\n",
    "#             print(ece, mce)\n",
    "            \n",
    "#     print(interval_min)\n",
    "#     print(interval_max)\n",
    "    return ece, mce, t, p, np.stack([np.abs(interval_min), interval_max])"
   ]
  },
  {
   "cell_type": "code",
   "execution_count": 79,
   "metadata": {},
   "outputs": [],
   "source": [
    "df = pd.DataFrame(r.dataset_test_unique.features)\n",
    "df.columns = r.feat_names\n",
    "df['T2D'] = r.dataset_test_unique.labels\n",
    "df['Pred'] = r.dataset_test_unique.predictions\n",
    "# correction for soft_label_baseline\n",
    "# baseline = 0.20\n",
    "# df['Pred'] = (r.dataset_test_unique.predictions - 0.33)/(0.9 - 0.33)"
   ]
  },
  {
   "cell_type": "code",
   "execution_count": 80,
   "metadata": {},
   "outputs": [],
   "source": [
    "# df = pd.DataFrame(r.dataset_test_first_diag.features)\n",
    "# df.columns = r.feat_names\n",
    "# df['T2D'] = r.dataset_test_first_diag.labels\n",
    "# df['Pred'] = r.dataset_test_first_diag.predictions"
   ]
  },
  {
   "cell_type": "code",
   "execution_count": 81,
   "metadata": {},
   "outputs": [],
   "source": [
    "# r.dataset_test_first_diag.df"
   ]
  },
  {
   "cell_type": "code",
   "execution_count": 82,
   "metadata": {},
   "outputs": [],
   "source": [
    "# df = pd.DataFrame(r.dataset_test_unique_subset_older50.features)\n",
    "# df.columns = r.feat_names\n",
    "# df['T2D'] = r.dataset_test_unique_subset_older50.labels\n",
    "# df['Pred'] = r.dataset_test_unique_subset_older50.predictions"
   ]
  },
  {
   "cell_type": "code",
   "execution_count": 83,
   "metadata": {},
   "outputs": [
    {
     "data": {
      "text/html": [
       "<div>\n",
       "<style scoped>\n",
       "    .dataframe tbody tr th:only-of-type {\n",
       "        vertical-align: middle;\n",
       "    }\n",
       "\n",
       "    .dataframe tbody tr th {\n",
       "        vertical-align: top;\n",
       "    }\n",
       "\n",
       "    .dataframe thead th {\n",
       "        text-align: right;\n",
       "    }\n",
       "</style>\n",
       "<table border=\"1\" class=\"dataframe\">\n",
       "  <thead>\n",
       "    <tr style=\"text-align: right;\">\n",
       "      <th></th>\n",
       "      <th>snp_8_133462953</th>\n",
       "      <th>snp_2_91635413</th>\n",
       "      <th>snp_9_25963828</th>\n",
       "      <th>snp_1_17764169</th>\n",
       "      <th>snp_12_41767967</th>\n",
       "      <th>snp_4_49530811</th>\n",
       "      <th>snp_2_96519717</th>\n",
       "      <th>snp_7_116910447</th>\n",
       "      <th>snp_18_56742728</th>\n",
       "      <th>snp_3_75912490</th>\n",
       "      <th>...</th>\n",
       "      <th>snp_20_50189624</th>\n",
       "      <th>snp_1_143276644</th>\n",
       "      <th>snp_16_9536673</th>\n",
       "      <th>snp_20_25734788</th>\n",
       "      <th>AGE</th>\n",
       "      <th>sex</th>\n",
       "      <th>mo_t2d</th>\n",
       "      <th>fa_t2d</th>\n",
       "      <th>T2D</th>\n",
       "      <th>Pred</th>\n",
       "    </tr>\n",
       "  </thead>\n",
       "  <tbody>\n",
       "    <tr>\n",
       "      <th>0</th>\n",
       "      <td>0</td>\n",
       "      <td>0</td>\n",
       "      <td>0</td>\n",
       "      <td>0</td>\n",
       "      <td>0</td>\n",
       "      <td>0</td>\n",
       "      <td>0</td>\n",
       "      <td>0</td>\n",
       "      <td>0</td>\n",
       "      <td>0</td>\n",
       "      <td>...</td>\n",
       "      <td>0</td>\n",
       "      <td>0</td>\n",
       "      <td>0</td>\n",
       "      <td>0</td>\n",
       "      <td>51</td>\n",
       "      <td>M</td>\n",
       "      <td>2</td>\n",
       "      <td>2</td>\n",
       "      <td>1</td>\n",
       "      <td>0.901883</td>\n",
       "    </tr>\n",
       "    <tr>\n",
       "      <th>1</th>\n",
       "      <td>0</td>\n",
       "      <td>0</td>\n",
       "      <td>0</td>\n",
       "      <td>1</td>\n",
       "      <td>0</td>\n",
       "      <td>1</td>\n",
       "      <td>1</td>\n",
       "      <td>0</td>\n",
       "      <td>0</td>\n",
       "      <td>1</td>\n",
       "      <td>...</td>\n",
       "      <td>1</td>\n",
       "      <td>1</td>\n",
       "      <td>0</td>\n",
       "      <td>1</td>\n",
       "      <td>40</td>\n",
       "      <td>F</td>\n",
       "      <td>0</td>\n",
       "      <td>1</td>\n",
       "      <td>0</td>\n",
       "      <td>0.086617</td>\n",
       "    </tr>\n",
       "    <tr>\n",
       "      <th>2</th>\n",
       "      <td>0</td>\n",
       "      <td>0</td>\n",
       "      <td>0</td>\n",
       "      <td>0</td>\n",
       "      <td>0</td>\n",
       "      <td>1</td>\n",
       "      <td>0</td>\n",
       "      <td>0</td>\n",
       "      <td>0</td>\n",
       "      <td>0</td>\n",
       "      <td>...</td>\n",
       "      <td>0</td>\n",
       "      <td>1</td>\n",
       "      <td>0</td>\n",
       "      <td>0</td>\n",
       "      <td>52</td>\n",
       "      <td>F</td>\n",
       "      <td>0</td>\n",
       "      <td>2</td>\n",
       "      <td>1</td>\n",
       "      <td>0.422955</td>\n",
       "    </tr>\n",
       "    <tr>\n",
       "      <th>3</th>\n",
       "      <td>0</td>\n",
       "      <td>0</td>\n",
       "      <td>0</td>\n",
       "      <td>0</td>\n",
       "      <td>0</td>\n",
       "      <td>1</td>\n",
       "      <td>0</td>\n",
       "      <td>0</td>\n",
       "      <td>0</td>\n",
       "      <td>0</td>\n",
       "      <td>...</td>\n",
       "      <td>1</td>\n",
       "      <td>1</td>\n",
       "      <td>0</td>\n",
       "      <td>0</td>\n",
       "      <td>34</td>\n",
       "      <td>M</td>\n",
       "      <td>0</td>\n",
       "      <td>1</td>\n",
       "      <td>0</td>\n",
       "      <td>0.034907</td>\n",
       "    </tr>\n",
       "    <tr>\n",
       "      <th>4</th>\n",
       "      <td>0</td>\n",
       "      <td>0</td>\n",
       "      <td>0</td>\n",
       "      <td>0</td>\n",
       "      <td>0</td>\n",
       "      <td>1</td>\n",
       "      <td>0</td>\n",
       "      <td>0</td>\n",
       "      <td>0</td>\n",
       "      <td>0</td>\n",
       "      <td>...</td>\n",
       "      <td>1</td>\n",
       "      <td>0</td>\n",
       "      <td>0</td>\n",
       "      <td>0</td>\n",
       "      <td>37</td>\n",
       "      <td>F</td>\n",
       "      <td>1</td>\n",
       "      <td>1</td>\n",
       "      <td>0</td>\n",
       "      <td>0.014082</td>\n",
       "    </tr>\n",
       "    <tr>\n",
       "      <th>...</th>\n",
       "      <td>...</td>\n",
       "      <td>...</td>\n",
       "      <td>...</td>\n",
       "      <td>...</td>\n",
       "      <td>...</td>\n",
       "      <td>...</td>\n",
       "      <td>...</td>\n",
       "      <td>...</td>\n",
       "      <td>...</td>\n",
       "      <td>...</td>\n",
       "      <td>...</td>\n",
       "      <td>...</td>\n",
       "      <td>...</td>\n",
       "      <td>...</td>\n",
       "      <td>...</td>\n",
       "      <td>...</td>\n",
       "      <td>...</td>\n",
       "      <td>...</td>\n",
       "      <td>...</td>\n",
       "      <td>...</td>\n",
       "      <td>...</td>\n",
       "    </tr>\n",
       "    <tr>\n",
       "      <th>545</th>\n",
       "      <td>0</td>\n",
       "      <td>2</td>\n",
       "      <td>0</td>\n",
       "      <td>1</td>\n",
       "      <td>0</td>\n",
       "      <td>1</td>\n",
       "      <td>1</td>\n",
       "      <td>0</td>\n",
       "      <td>0</td>\n",
       "      <td>0</td>\n",
       "      <td>...</td>\n",
       "      <td>0</td>\n",
       "      <td>1</td>\n",
       "      <td>0</td>\n",
       "      <td>1</td>\n",
       "      <td>36</td>\n",
       "      <td>M</td>\n",
       "      <td>1</td>\n",
       "      <td>0</td>\n",
       "      <td>0</td>\n",
       "      <td>0.029540</td>\n",
       "    </tr>\n",
       "    <tr>\n",
       "      <th>546</th>\n",
       "      <td>0</td>\n",
       "      <td>0</td>\n",
       "      <td>0</td>\n",
       "      <td>0</td>\n",
       "      <td>0</td>\n",
       "      <td>0</td>\n",
       "      <td>0</td>\n",
       "      <td>0</td>\n",
       "      <td>0</td>\n",
       "      <td>0</td>\n",
       "      <td>...</td>\n",
       "      <td>0</td>\n",
       "      <td>0</td>\n",
       "      <td>0</td>\n",
       "      <td>0</td>\n",
       "      <td>41</td>\n",
       "      <td>M</td>\n",
       "      <td>0</td>\n",
       "      <td>2</td>\n",
       "      <td>0</td>\n",
       "      <td>0.405025</td>\n",
       "    </tr>\n",
       "    <tr>\n",
       "      <th>547</th>\n",
       "      <td>0</td>\n",
       "      <td>0</td>\n",
       "      <td>1</td>\n",
       "      <td>0</td>\n",
       "      <td>0</td>\n",
       "      <td>0</td>\n",
       "      <td>0</td>\n",
       "      <td>0</td>\n",
       "      <td>0</td>\n",
       "      <td>0</td>\n",
       "      <td>...</td>\n",
       "      <td>2</td>\n",
       "      <td>0</td>\n",
       "      <td>0</td>\n",
       "      <td>0</td>\n",
       "      <td>67</td>\n",
       "      <td>F</td>\n",
       "      <td>2</td>\n",
       "      <td>2</td>\n",
       "      <td>0</td>\n",
       "      <td>0.064399</td>\n",
       "    </tr>\n",
       "    <tr>\n",
       "      <th>548</th>\n",
       "      <td>0</td>\n",
       "      <td>0</td>\n",
       "      <td>1</td>\n",
       "      <td>1</td>\n",
       "      <td>0</td>\n",
       "      <td>1</td>\n",
       "      <td>1</td>\n",
       "      <td>0</td>\n",
       "      <td>0</td>\n",
       "      <td>1</td>\n",
       "      <td>...</td>\n",
       "      <td>1</td>\n",
       "      <td>1</td>\n",
       "      <td>0</td>\n",
       "      <td>1</td>\n",
       "      <td>41</td>\n",
       "      <td>F</td>\n",
       "      <td>0</td>\n",
       "      <td>2</td>\n",
       "      <td>0</td>\n",
       "      <td>0.214895</td>\n",
       "    </tr>\n",
       "    <tr>\n",
       "      <th>549</th>\n",
       "      <td>0</td>\n",
       "      <td>0</td>\n",
       "      <td>0</td>\n",
       "      <td>0</td>\n",
       "      <td>0</td>\n",
       "      <td>0</td>\n",
       "      <td>0</td>\n",
       "      <td>0</td>\n",
       "      <td>0</td>\n",
       "      <td>0</td>\n",
       "      <td>...</td>\n",
       "      <td>0</td>\n",
       "      <td>0</td>\n",
       "      <td>0</td>\n",
       "      <td>0</td>\n",
       "      <td>30</td>\n",
       "      <td>F</td>\n",
       "      <td>1</td>\n",
       "      <td>2</td>\n",
       "      <td>1</td>\n",
       "      <td>0.987017</td>\n",
       "    </tr>\n",
       "  </tbody>\n",
       "</table>\n",
       "<p>550 rows × 1006 columns</p>\n",
       "</div>"
      ],
      "text/plain": [
       "    snp_8_133462953 snp_2_91635413 snp_9_25963828 snp_1_17764169  \\\n",
       "0                 0              0              0              0   \n",
       "1                 0              0              0              1   \n",
       "2                 0              0              0              0   \n",
       "3                 0              0              0              0   \n",
       "4                 0              0              0              0   \n",
       "..              ...            ...            ...            ...   \n",
       "545               0              2              0              1   \n",
       "546               0              0              0              0   \n",
       "547               0              0              1              0   \n",
       "548               0              0              1              1   \n",
       "549               0              0              0              0   \n",
       "\n",
       "    snp_12_41767967 snp_4_49530811 snp_2_96519717 snp_7_116910447  \\\n",
       "0                 0              0              0               0   \n",
       "1                 0              1              1               0   \n",
       "2                 0              1              0               0   \n",
       "3                 0              1              0               0   \n",
       "4                 0              1              0               0   \n",
       "..              ...            ...            ...             ...   \n",
       "545               0              1              1               0   \n",
       "546               0              0              0               0   \n",
       "547               0              0              0               0   \n",
       "548               0              1              1               0   \n",
       "549               0              0              0               0   \n",
       "\n",
       "    snp_18_56742728 snp_3_75912490  ... snp_20_50189624 snp_1_143276644  \\\n",
       "0                 0              0  ...               0               0   \n",
       "1                 0              1  ...               1               1   \n",
       "2                 0              0  ...               0               1   \n",
       "3                 0              0  ...               1               1   \n",
       "4                 0              0  ...               1               0   \n",
       "..              ...            ...  ...             ...             ...   \n",
       "545               0              0  ...               0               1   \n",
       "546               0              0  ...               0               0   \n",
       "547               0              0  ...               2               0   \n",
       "548               0              1  ...               1               1   \n",
       "549               0              0  ...               0               0   \n",
       "\n",
       "    snp_16_9536673 snp_20_25734788 AGE sex mo_t2d fa_t2d T2D      Pred  \n",
       "0                0               0  51   M      2      2   1  0.901883  \n",
       "1                0               1  40   F      0      1   0  0.086617  \n",
       "2                0               0  52   F      0      2   1  0.422955  \n",
       "3                0               0  34   M      0      1   0  0.034907  \n",
       "4                0               0  37   F      1      1   0  0.014082  \n",
       "..             ...             ...  ..  ..    ...    ...  ..       ...  \n",
       "545              0               1  36   M      1      0   0  0.029540  \n",
       "546              0               0  41   M      0      2   0  0.405025  \n",
       "547              0               0  67   F      2      2   0  0.064399  \n",
       "548              0               1  41   F      0      2   0  0.214895  \n",
       "549              0               0  30   F      1      2   1  0.987017  \n",
       "\n",
       "[550 rows x 1006 columns]"
      ]
     },
     "execution_count": 83,
     "metadata": {},
     "output_type": "execute_result"
    }
   ],
   "source": [
    "df"
   ]
  },
  {
   "cell_type": "code",
   "execution_count": 84,
   "metadata": {},
   "outputs": [],
   "source": [
    "BINS=10\n",
    "ece, mce, t, p, ece_ci = ece_mce_t_p(df['Pred'].values, df['T2D'].values, bins=BINS)"
   ]
  },
  {
   "cell_type": "code",
   "execution_count": 85,
   "metadata": {},
   "outputs": [
    {
     "name": "stdout",
     "output_type": "stream",
     "text": [
      "[0.09599662] [0.19309005]\n"
     ]
    },
    {
     "data": {
      "text/plain": [
       "array([[0.00934579, 0.03809524, 0.06896552, 0.09677419, 0.125     ,\n",
       "        0.15789474, 0.13888889, 0.17391304, 0.        , 0.        ],\n",
       "       [0.01869159, 0.04761905, 0.08045977, 0.09677419, 0.125     ,\n",
       "        0.15789474, 0.11111111, 0.13043478, 0.        , 0.        ]])"
      ]
     },
     "execution_count": 85,
     "metadata": {},
     "output_type": "execute_result"
    }
   ],
   "source": [
    "print(ece, mce)\n",
    "ece_ci"
   ]
  },
  {
   "cell_type": "code",
   "execution_count": 86,
   "metadata": {},
   "outputs": [
    {
     "data": {
      "text/plain": [
       "(-0.0, 1.0)"
      ]
     },
     "execution_count": 86,
     "metadata": {},
     "output_type": "execute_result"
    },
    {
     "data": {
      "image/png": "[encoded data removed]",
      "text/plain": [
       "<Figure size 1800x1800 with 1 Axes>"
      ]
     },
     "metadata": {},
     "output_type": "display_data"
    }
   ],
   "source": [
    "plt.figure(figsize=(6,6), dpi=300)\n",
    "width = 1.0/BINS\n",
    "xs = np.arange(width/2,1,width)\n",
    "plt.bar(xs,t,width, yerr=ece_ci, align='center', linewidth=0.1, alpha=0.9, edgecolor='k')\n",
    "plt.plot([0,1],[0,1], color=COLORS[7], linewidth=.8)\n",
    "plt.ylabel(\"Observed\")\n",
    "plt.xlabel(\"Predicted\")\n",
    "plt.ylim(-0.0,1.0)\n",
    "plt.xlim(-0.0,1.0)"
   ]
  },
  {
   "cell_type": "markdown",
   "metadata": {},
   "source": [
    "## Mean calibration"
   ]
  },
  {
   "cell_type": "code",
   "execution_count": 87,
   "metadata": {},
   "outputs": [
    {
     "data": {
      "text/plain": [
       "(0.28363636363636363, 0.3353797)"
      ]
     },
     "execution_count": 87,
     "metadata": {},
     "output_type": "execute_result"
    }
   ],
   "source": [
    "df['T2D'].mean(), df['Pred'].mean()"
   ]
  },
  {
   "cell_type": "code",
   "execution_count": 88,
   "metadata": {},
   "outputs": [
    {
     "data": {
      "text/plain": [
       "<AxesSubplot:>"
      ]
     },
     "execution_count": 88,
     "metadata": {},
     "output_type": "execute_result"
    },
    {
     "data": {
      "image/png": "[encoded data removed]",
      "text/plain": [
       "<Figure size 432x288 with 1 Axes>"
      ]
     },
     "metadata": {},
     "output_type": "display_data"
    }
   ],
   "source": [
    "df['Pred'].plot.box()"
   ]
  },
  {
   "cell_type": "code",
   "execution_count": 89,
   "metadata": {},
   "outputs": [
    {
     "data": {
      "text/plain": [
       "count    550.000000\n",
       "mean       0.335380\n",
       "std        0.261708\n",
       "min        0.000000\n",
       "25%        0.123605\n",
       "50%        0.264554\n",
       "75%        0.504226\n",
       "max        0.998282\n",
       "Name: Pred, dtype: float64"
      ]
     },
     "execution_count": 89,
     "metadata": {},
     "output_type": "execute_result"
    }
   ],
   "source": [
    "df['Pred'].describe()"
   ]
  },
  {
   "cell_type": "code",
   "execution_count": 90,
   "metadata": {},
   "outputs": [
    {
     "data": {
      "text/html": [
       "<div>\n",
       "<style scoped>\n",
       "    .dataframe tbody tr th:only-of-type {\n",
       "        vertical-align: middle;\n",
       "    }\n",
       "\n",
       "    .dataframe tbody tr th {\n",
       "        vertical-align: top;\n",
       "    }\n",
       "\n",
       "    .dataframe thead th {\n",
       "        text-align: right;\n",
       "    }\n",
       "</style>\n",
       "<table border=\"1\" class=\"dataframe\">\n",
       "  <thead>\n",
       "    <tr style=\"text-align: right;\">\n",
       "      <th></th>\n",
       "      <th>T2D</th>\n",
       "      <th>Pred</th>\n",
       "    </tr>\n",
       "  </thead>\n",
       "  <tbody>\n",
       "    <tr>\n",
       "      <th>count</th>\n",
       "      <td>156.0</td>\n",
       "      <td>156.000000</td>\n",
       "    </tr>\n",
       "    <tr>\n",
       "      <th>mean</th>\n",
       "      <td>1.0</td>\n",
       "      <td>0.626055</td>\n",
       "    </tr>\n",
       "    <tr>\n",
       "      <th>std</th>\n",
       "      <td>0.0</td>\n",
       "      <td>0.235068</td>\n",
       "    </tr>\n",
       "    <tr>\n",
       "      <th>min</th>\n",
       "      <td>1.0</td>\n",
       "      <td>0.083016</td>\n",
       "    </tr>\n",
       "    <tr>\n",
       "      <th>25%</th>\n",
       "      <td>1.0</td>\n",
       "      <td>0.458391</td>\n",
       "    </tr>\n",
       "    <tr>\n",
       "      <th>50%</th>\n",
       "      <td>1.0</td>\n",
       "      <td>0.643652</td>\n",
       "    </tr>\n",
       "    <tr>\n",
       "      <th>75%</th>\n",
       "      <td>1.0</td>\n",
       "      <td>0.809719</td>\n",
       "    </tr>\n",
       "    <tr>\n",
       "      <th>max</th>\n",
       "      <td>1.0</td>\n",
       "      <td>0.998282</td>\n",
       "    </tr>\n",
       "  </tbody>\n",
       "</table>\n",
       "</div>"
      ],
      "text/plain": [
       "         T2D        Pred\n",
       "count  156.0  156.000000\n",
       "mean     1.0    0.626055\n",
       "std      0.0    0.235068\n",
       "min      1.0    0.083016\n",
       "25%      1.0    0.458391\n",
       "50%      1.0    0.643652\n",
       "75%      1.0    0.809719\n",
       "max      1.0    0.998282"
      ]
     },
     "execution_count": 90,
     "metadata": {},
     "output_type": "execute_result"
    }
   ],
   "source": [
    "df[df[\"T2D\"] == 1].describe()"
   ]
  },
  {
   "cell_type": "code",
   "execution_count": 91,
   "metadata": {},
   "outputs": [
    {
     "data": {
      "text/html": [
       "<div>\n",
       "<style scoped>\n",
       "    .dataframe tbody tr th:only-of-type {\n",
       "        vertical-align: middle;\n",
       "    }\n",
       "\n",
       "    .dataframe tbody tr th {\n",
       "        vertical-align: top;\n",
       "    }\n",
       "\n",
       "    .dataframe thead th {\n",
       "        text-align: right;\n",
       "    }\n",
       "</style>\n",
       "<table border=\"1\" class=\"dataframe\">\n",
       "  <thead>\n",
       "    <tr style=\"text-align: right;\">\n",
       "      <th></th>\n",
       "      <th>T2D</th>\n",
       "      <th>Pred</th>\n",
       "    </tr>\n",
       "  </thead>\n",
       "  <tbody>\n",
       "    <tr>\n",
       "      <th>count</th>\n",
       "      <td>394.0</td>\n",
       "      <td>394.000000</td>\n",
       "    </tr>\n",
       "    <tr>\n",
       "      <th>mean</th>\n",
       "      <td>0.0</td>\n",
       "      <td>0.220290</td>\n",
       "    </tr>\n",
       "    <tr>\n",
       "      <th>std</th>\n",
       "      <td>0.0</td>\n",
       "      <td>0.164520</td>\n",
       "    </tr>\n",
       "    <tr>\n",
       "      <th>min</th>\n",
       "      <td>0.0</td>\n",
       "      <td>0.000000</td>\n",
       "    </tr>\n",
       "    <tr>\n",
       "      <th>25%</th>\n",
       "      <td>0.0</td>\n",
       "      <td>0.090924</td>\n",
       "    </tr>\n",
       "    <tr>\n",
       "      <th>50%</th>\n",
       "      <td>0.0</td>\n",
       "      <td>0.190272</td>\n",
       "    </tr>\n",
       "    <tr>\n",
       "      <th>75%</th>\n",
       "      <td>0.0</td>\n",
       "      <td>0.314712</td>\n",
       "    </tr>\n",
       "    <tr>\n",
       "      <th>max</th>\n",
       "      <td>0.0</td>\n",
       "      <td>0.784522</td>\n",
       "    </tr>\n",
       "  </tbody>\n",
       "</table>\n",
       "</div>"
      ],
      "text/plain": [
       "         T2D        Pred\n",
       "count  394.0  394.000000\n",
       "mean     0.0    0.220290\n",
       "std      0.0    0.164520\n",
       "min      0.0    0.000000\n",
       "25%      0.0    0.090924\n",
       "50%      0.0    0.190272\n",
       "75%      0.0    0.314712\n",
       "max      0.0    0.784522"
      ]
     },
     "execution_count": 91,
     "metadata": {},
     "output_type": "execute_result"
    }
   ],
   "source": [
    "df[df[\"T2D\"] == 0].describe()"
   ]
  },
  {
   "cell_type": "code",
   "execution_count": 92,
   "metadata": {},
   "outputs": [
    {
     "data": {
      "text/plain": [
       "(array([85., 87., 71., 51., 37., 30., 15.,  9.,  5.,  4.]),\n",
       " array([0.        , 0.07845221, 0.15690443, 0.23535663, 0.31380886,\n",
       "        0.39226106, 0.47071326, 0.5491655 , 0.6276177 , 0.7060699 ,\n",
       "        0.7845221 ], dtype=float32),\n",
       " <BarContainer object of 10 artists>)"
      ]
     },
     "execution_count": 92,
     "metadata": {},
     "output_type": "execute_result"
    },
    {
     "data": {
      "image/png": "[encoded data removed]",
      "text/plain": [
       "<Figure size 432x288 with 1 Axes>"
      ]
     },
     "metadata": {},
     "output_type": "display_data"
    }
   ],
   "source": [
    "\n",
    "plt.hist(df[df[\"T2D\"] == 0].Pred)"
   ]
  },
  {
   "cell_type": "code",
   "execution_count": 93,
   "metadata": {},
   "outputs": [
    {
     "data": {
      "text/plain": [
       "(array([ 5.,  8., 13., 13., 15., 20., 26., 17., 19., 20.]),\n",
       " array([0.08301596, 0.17454256, 0.26606917, 0.35759577, 0.44912237,\n",
       "        0.540649  , 0.63217556, 0.7237022 , 0.8152288 , 0.9067554 ,\n",
       "        0.998282  ], dtype=float32),\n",
       " <BarContainer object of 10 artists>)"
      ]
     },
     "execution_count": 93,
     "metadata": {},
     "output_type": "execute_result"
    },
    {
     "data": {
      "image/png": "[encoded data removed]",
      "text/plain": [
       "<Figure size 432x288 with 1 Axes>"
      ]
     },
     "metadata": {},
     "output_type": "display_data"
    }
   ],
   "source": [
    "plt.hist(df[df[\"T2D\"] == 1].Pred)"
   ]
  },
  {
   "cell_type": "code",
   "execution_count": 94,
   "metadata": {},
   "outputs": [
    {
     "data": {
      "text/plain": [
       "(array([109., 105.,  86.,  63.,  48.,  38.,  35.,  24.,  16.,  26.]),\n",
       " array([0.        , 0.0998282 , 0.1996564 , 0.2994846 , 0.3993128 ,\n",
       "        0.499141  , 0.5989692 , 0.6987974 , 0.7986256 , 0.89845383,\n",
       "        0.998282  ], dtype=float32),\n",
       " <BarContainer object of 10 artists>)"
      ]
     },
     "execution_count": 94,
     "metadata": {},
     "output_type": "execute_result"
    },
    {
     "data": {
      "image/png": "[encoded data removed]",
      "text/plain": [
       "<Figure size 432x288 with 1 Axes>"
      ]
     },
     "metadata": {},
     "output_type": "display_data"
    }
   ],
   "source": [
    "plt.hist(df.Pred)"
   ]
  },
  {
   "cell_type": "code",
   "execution_count": null,
   "metadata": {},
   "outputs": [],
   "source": []
  },
  {
   "cell_type": "code",
   "execution_count": 95,
   "metadata": {},
   "outputs": [],
   "source": [
    "# plt.hist(df[df['T2D']==1]['Pred'])"
   ]
  },
  {
   "cell_type": "code",
   "execution_count": 96,
   "metadata": {},
   "outputs": [],
   "source": [
    "# df[(df['T2D']==1)&(df['Pred']>0.5)].count()"
   ]
  },
  {
   "cell_type": "code",
   "execution_count": null,
   "metadata": {},
   "outputs": [],
   "source": []
  },
  {
   "cell_type": "code",
   "execution_count": null,
   "metadata": {},
   "outputs": [],
   "source": []
  },
  {
   "cell_type": "code",
   "execution_count": null,
   "metadata": {},
   "outputs": [],
   "source": []
  },
  {
   "cell_type": "code",
   "execution_count": null,
   "metadata": {},
   "outputs": [],
   "source": []
  }
 ],
 "metadata": {
  "@webio": {
   "lastCommId": null,
   "lastKernelId": null
  },
  "kernelspec": {
   "display_name": "Python 3",
   "language": "python",
   "name": "python3"
  },
  "language_info": {
   "codemirror_mode": {
    "name": "ipython",
    "version": 3
   },
   "file_extension": ".py",
   "mimetype": "text/x-python",
   "name": "python",
   "nbconvert_exporter": "python",
   "pygments_lexer": "ipython3",
   "version": "3.8.5"
  }
 },
 "nbformat": 4,
 "nbformat_minor": 4
}
